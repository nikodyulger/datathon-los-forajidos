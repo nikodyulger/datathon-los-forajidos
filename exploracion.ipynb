{
 "cells": [
  {
   "cell_type": "markdown",
   "metadata": {},
   "source": [
    "## Importar paquetes"
   ]
  },
  {
   "cell_type": "code",
   "execution_count": 1,
   "metadata": {},
   "outputs": [],
   "source": [
    "import pandas as pd\n",
    "import numpy as np\n",
    "import matplotlib.pyplot as plt"
   ]
  },
  {
   "cell_type": "code",
   "execution_count": 2,
   "metadata": {},
   "outputs": [],
   "source": [
    "seed = 34\n",
    "\n",
    "np.random.seed(seed)"
   ]
  },
  {
   "cell_type": "markdown",
   "metadata": {},
   "source": [
    "## Carga de datos "
   ]
  },
  {
   "cell_type": "markdown",
   "metadata": {},
   "source": [
    "#### Exploración información base"
   ]
  },
  {
   "cell_type": "markdown",
   "metadata": {},
   "source": [
    "De la definición del reto extraemos el significado de cada columna y también apuntamos **pistas**/**indicaciones** necesarias para la correcta realización del reto que se nos ha propuesto\n",
    "\n",
    "> \"las OF (Orden de Fabiración) o lotes que no estén en esta tabla no se deben tener en cuenta\"\n"
   ]
  },
  {
   "cell_type": "code",
   "execution_count": 12,
   "metadata": {},
   "outputs": [
    {
     "data": {
      "text/html": [
       "<div>\n",
       "<style scoped>\n",
       "    .dataframe tbody tr th:only-of-type {\n",
       "        vertical-align: middle;\n",
       "    }\n",
       "\n",
       "    .dataframe tbody tr th {\n",
       "        vertical-align: top;\n",
       "    }\n",
       "\n",
       "    .dataframe thead th {\n",
       "        text-align: right;\n",
       "    }\n",
       "</style>\n",
       "<table border=\"1\" class=\"dataframe\">\n",
       "  <thead>\n",
       "    <tr style=\"text-align: right;\">\n",
       "      <th></th>\n",
       "      <th>Orden</th>\n",
       "      <th>Número material</th>\n",
       "      <th>Texto breve material</th>\n",
       "      <th>Lote</th>\n",
       "      <th>Cantidad entregada</th>\n",
       "      <th>Unidad de medida</th>\n",
       "    </tr>\n",
       "  </thead>\n",
       "  <tbody>\n",
       "    <tr>\n",
       "      <th>0</th>\n",
       "      <td>200178572</td>\n",
       "      <td>123456</td>\n",
       "      <td>MATERIAL DESCRITION</td>\n",
       "      <td>23/019</td>\n",
       "      <td>13.8</td>\n",
       "      <td>L</td>\n",
       "    </tr>\n",
       "    <tr>\n",
       "      <th>1</th>\n",
       "      <td>200179217</td>\n",
       "      <td>123456</td>\n",
       "      <td>MATERIAL DESCRITION</td>\n",
       "      <td>23/020</td>\n",
       "      <td>13.6</td>\n",
       "      <td>L</td>\n",
       "    </tr>\n",
       "    <tr>\n",
       "      <th>2</th>\n",
       "      <td>200181620</td>\n",
       "      <td>123456</td>\n",
       "      <td>MATERIAL DESCRITION</td>\n",
       "      <td>23/021</td>\n",
       "      <td>13.5</td>\n",
       "      <td>L</td>\n",
       "    </tr>\n",
       "    <tr>\n",
       "      <th>3</th>\n",
       "      <td>200182428</td>\n",
       "      <td>123456</td>\n",
       "      <td>MATERIAL DESCRITION</td>\n",
       "      <td>23/022</td>\n",
       "      <td>13.8</td>\n",
       "      <td>L</td>\n",
       "    </tr>\n",
       "    <tr>\n",
       "      <th>4</th>\n",
       "      <td>200182429</td>\n",
       "      <td>123456</td>\n",
       "      <td>MATERIAL DESCRITION</td>\n",
       "      <td>23/023</td>\n",
       "      <td>13.7</td>\n",
       "      <td>L</td>\n",
       "    </tr>\n",
       "  </tbody>\n",
       "</table>\n",
       "</div>"
      ],
      "text/plain": [
       "       Orden  Número material Texto breve material    Lote  \\\n",
       "0  200178572           123456  MATERIAL DESCRITION  23/019   \n",
       "1  200179217           123456  MATERIAL DESCRITION  23/020   \n",
       "2  200181620           123456  MATERIAL DESCRITION  23/021   \n",
       "3  200182428           123456  MATERIAL DESCRITION  23/022   \n",
       "4  200182429           123456  MATERIAL DESCRITION  23/023   \n",
       "\n",
       "   Cantidad entregada Unidad de medida  \n",
       "0                13.8                L  \n",
       "1                13.6                L  \n",
       "2                13.5                L  \n",
       "3                13.8                L  \n",
       "4                13.7                L  "
      ]
     },
     "execution_count": 12,
     "metadata": {},
     "output_type": "execute_result"
    }
   ],
   "source": [
    "df_info_general = pd.read_excel('raw_data/OF 123456 v02.xlsx', engine='openpyxl')\n",
    "df_info_general.head(5)"
   ]
  },
  {
   "cell_type": "markdown",
   "metadata": {},
   "source": [
    "Comprobamos que el tipo de datos se han inferido correctamente y no hay valores nulos"
   ]
  },
  {
   "cell_type": "code",
   "execution_count": 13,
   "metadata": {},
   "outputs": [
    {
     "name": "stdout",
     "output_type": "stream",
     "text": [
      "<class 'pandas.core.frame.DataFrame'>\n",
      "RangeIndex: 207 entries, 0 to 206\n",
      "Data columns (total 6 columns):\n",
      " #   Column                Non-Null Count  Dtype  \n",
      "---  ------                --------------  -----  \n",
      " 0   Orden                 207 non-null    int64  \n",
      " 1   Número material       207 non-null    int64  \n",
      " 2   Texto breve material  207 non-null    object \n",
      " 3   Lote                  207 non-null    object \n",
      " 4   Cantidad entregada    207 non-null    float64\n",
      " 5   Unidad de medida      207 non-null    object \n",
      "dtypes: float64(1), int64(2), object(3)\n",
      "memory usage: 9.8+ KB\n"
     ]
    }
   ],
   "source": [
    "df_info_general.info()"
   ]
  },
  {
   "cell_type": "code",
   "execution_count": 14,
   "metadata": {},
   "outputs": [
    {
     "data": {
      "text/plain": [
       "Número material         1\n",
       "Texto breve material    1\n",
       "Unidad de medida        1\n",
       "dtype: int64"
      ]
     },
     "execution_count": 14,
     "metadata": {},
     "output_type": "execute_result"
    }
   ],
   "source": [
    "df_info_general[['Número material', 'Texto breve material', 'Unidad de medida']].nunique()"
   ]
  },
  {
   "cell_type": "markdown",
   "metadata": {},
   "source": [
    "Efectivamente esta tabla solamente pertenece a un mismo material `123456`, misma descripción y la misma unidad de medida para la cantidad de material"
   ]
  },
  {
   "cell_type": "code",
   "execution_count": 15,
   "metadata": {},
   "outputs": [
    {
     "name": "stdout",
     "output_type": "stream",
     "text": [
      "Total ordenes únicas 207\n",
      "Total lotes únicos 207\n"
     ]
    }
   ],
   "source": [
    "# Guardamos las ordenes y lotes para poder 'cruzar' con otras tablas\n",
    "ordenes = df_info_general['Orden'].unique()\n",
    "lotes = df_info_general['Lote'].unique()\n",
    "\n",
    "print(f\"Total ordenes únicas {len(ordenes)}\")\n",
    "print(f\"Total lotes únicos {len(lotes)}\")"
   ]
  },
  {
   "cell_type": "markdown",
   "metadata": {},
   "source": [
    "Parece ser que hay una relación 1-1 entre las ordenes y lotes"
   ]
  },
  {
   "cell_type": "markdown",
   "metadata": {},
   "source": [
    "La única columna que interesaría saber algun dato estadístico es el de la cantidad entregada de material, dado que el resto son valores categóricos o de por si no tienen gran significado y se podría prescindir de ellas"
   ]
  },
  {
   "cell_type": "code",
   "execution_count": 16,
   "metadata": {},
   "outputs": [
    {
     "data": {
      "text/plain": [
       "count    207.000000\n",
       "mean      13.540580\n",
       "std        1.358163\n",
       "min        0.000000\n",
       "25%       13.600000\n",
       "50%       13.700000\n",
       "75%       13.780000\n",
       "max       14.000000\n",
       "Name: Cantidad entregada, dtype: float64"
      ]
     },
     "execution_count": 16,
     "metadata": {},
     "output_type": "execute_result"
    }
   ],
   "source": [
    "df_info_general['Cantidad entregada'].describe()"
   ]
  },
  {
   "cell_type": "markdown",
   "metadata": {},
   "source": [
    "La cantidad entregada parece ser muy estable, con ello queremos decir que suele rondar los mismos valores por cada orden/lote. La variación entre lotes es mínima, lo cual ya nos da indicios de que habrá que fijarse con lupa en décimas/centésimas para saber si la producción es óptima"
   ]
  },
  {
   "cell_type": "markdown",
   "metadata": {},
   "source": [
    "#### Exploración diferentes fases producción"
   ]
  },
  {
   "cell_type": "markdown",
   "metadata": {},
   "source": [
    "Todos los datos se encuentran en el mismo archivo, pero en hojas de Excel diferentes por lo que las cachearemos en *dataframes* diferentes para más comodidad"
   ]
  },
  {
   "cell_type": "markdown",
   "metadata": {},
   "source": [
    "#####  Preinóculo"
   ]
  },
  {
   "cell_type": "markdown",
   "metadata": {},
   "source": [
    "Esta hoja tiene como algo \"especial\" la cabecera, ya que se conforma por dos líneas. La cargaremos y renombraremos para que sea más legible"
   ]
  },
  {
   "cell_type": "code",
   "execution_count": 17,
   "metadata": {},
   "outputs": [
    {
     "data": {
      "text/html": [
       "<div>\n",
       "<style scoped>\n",
       "    .dataframe tbody tr th:only-of-type {\n",
       "        vertical-align: middle;\n",
       "    }\n",
       "\n",
       "    .dataframe tbody tr th {\n",
       "        vertical-align: top;\n",
       "    }\n",
       "\n",
       "    .dataframe thead tr th {\n",
       "        text-align: left;\n",
       "    }\n",
       "</style>\n",
       "<table border=\"1\" class=\"dataframe\">\n",
       "  <thead>\n",
       "    <tr>\n",
       "      <th></th>\n",
       "      <th>Unnamed: 0_level_0</th>\n",
       "      <th>Unnamed: 1_level_0</th>\n",
       "      <th>Unnamed: 2_level_0</th>\n",
       "      <th colspan=\"3\" halign=\"left\">pH</th>\n",
       "      <th colspan=\"3\" halign=\"left\">Turbidez</th>\n",
       "      <th colspan=\"3\" halign=\"left\">Línea utilizada</th>\n",
       "    </tr>\n",
       "    <tr>\n",
       "      <th></th>\n",
       "      <th>LOTE</th>\n",
       "      <th>Fecha/hora inicio</th>\n",
       "      <th>Fecha/hora fin</th>\n",
       "      <th>línea 1</th>\n",
       "      <th>línea 2</th>\n",
       "      <th>línea 3</th>\n",
       "      <th>línea 1</th>\n",
       "      <th>línea 2</th>\n",
       "      <th>línea 3</th>\n",
       "      <th>línea 1</th>\n",
       "      <th>línea 2</th>\n",
       "      <th>línea 3</th>\n",
       "    </tr>\n",
       "  </thead>\n",
       "  <tbody>\n",
       "    <tr>\n",
       "      <th>0</th>\n",
       "      <td>23023</td>\n",
       "      <td>2023-03-26 05:00:00</td>\n",
       "      <td>2023-03-27 07:21:00</td>\n",
       "      <td>5.496</td>\n",
       "      <td>5.504</td>\n",
       "      <td>5.52</td>\n",
       "      <td>28.32</td>\n",
       "      <td>27.92</td>\n",
       "      <td>32.00</td>\n",
       "      <td>1</td>\n",
       "      <td>1</td>\n",
       "      <td>0</td>\n",
       "    </tr>\n",
       "    <tr>\n",
       "      <th>1</th>\n",
       "      <td>23024</td>\n",
       "      <td>2023-03-26 05:00:00</td>\n",
       "      <td>2023-03-27 07:21:00</td>\n",
       "      <td>5.496</td>\n",
       "      <td>5.504</td>\n",
       "      <td>5.52</td>\n",
       "      <td>28.32</td>\n",
       "      <td>27.92</td>\n",
       "      <td>32.00</td>\n",
       "      <td>1</td>\n",
       "      <td>1</td>\n",
       "      <td>0</td>\n",
       "    </tr>\n",
       "    <tr>\n",
       "      <th>2</th>\n",
       "      <td>23025</td>\n",
       "      <td>2023-03-17 06:00:00</td>\n",
       "      <td>2023-03-28 07:42:00</td>\n",
       "      <td>5.480</td>\n",
       "      <td>5.520</td>\n",
       "      <td>5.52</td>\n",
       "      <td>26.56</td>\n",
       "      <td>27.52</td>\n",
       "      <td>26.40</td>\n",
       "      <td>1</td>\n",
       "      <td>1</td>\n",
       "      <td>0</td>\n",
       "    </tr>\n",
       "    <tr>\n",
       "      <th>3</th>\n",
       "      <td>23026</td>\n",
       "      <td>2023-03-17 06:00:00</td>\n",
       "      <td>2023-03-28 07:42:00</td>\n",
       "      <td>5.480</td>\n",
       "      <td>5.520</td>\n",
       "      <td>5.52</td>\n",
       "      <td>26.56</td>\n",
       "      <td>27.52</td>\n",
       "      <td>26.40</td>\n",
       "      <td>1</td>\n",
       "      <td>1</td>\n",
       "      <td>0</td>\n",
       "    </tr>\n",
       "    <tr>\n",
       "      <th>4</th>\n",
       "      <td>23027</td>\n",
       "      <td>2023-04-02 05:00:00</td>\n",
       "      <td>2023-04-03 13:30:00</td>\n",
       "      <td>5.384</td>\n",
       "      <td>5.440</td>\n",
       "      <td>5.40</td>\n",
       "      <td>33.84</td>\n",
       "      <td>30.56</td>\n",
       "      <td>32.48</td>\n",
       "      <td>1</td>\n",
       "      <td>0</td>\n",
       "      <td>1</td>\n",
       "    </tr>\n",
       "  </tbody>\n",
       "</table>\n",
       "</div>"
      ],
      "text/plain": [
       "  Unnamed: 0_level_0  Unnamed: 1_level_0  Unnamed: 2_level_0      pH          \\\n",
       "                LOTE   Fecha/hora inicio      Fecha/hora fin línea 1 línea 2   \n",
       "0              23023 2023-03-26 05:00:00 2023-03-27 07:21:00   5.496   5.504   \n",
       "1              23024 2023-03-26 05:00:00 2023-03-27 07:21:00   5.496   5.504   \n",
       "2              23025 2023-03-17 06:00:00 2023-03-28 07:42:00   5.480   5.520   \n",
       "3              23026 2023-03-17 06:00:00 2023-03-28 07:42:00   5.480   5.520   \n",
       "4              23027 2023-04-02 05:00:00 2023-04-03 13:30:00   5.384   5.440   \n",
       "\n",
       "          Turbidez                 Línea utilizada                  \n",
       "  línea 3  línea 1 línea 2 línea 3         línea 1 línea 2 línea 3  \n",
       "0    5.52    28.32   27.92   32.00               1       1       0  \n",
       "1    5.52    28.32   27.92   32.00               1       1       0  \n",
       "2    5.52    26.56   27.52   26.40               1       1       0  \n",
       "3    5.52    26.56   27.52   26.40               1       1       0  \n",
       "4    5.40    33.84   30.56   32.48               1       0       1  "
      ]
     },
     "execution_count": 17,
     "metadata": {},
     "output_type": "execute_result"
    }
   ],
   "source": [
    "df_preinoculo = pd.read_excel('raw_data/Fases producción v02.xlsx', sheet_name='Preinóculo', header=[0, 1], na_values=['NA', 'N.A'], engine='openpyxl')\n",
    "df_preinoculo.head(5)"
   ]
  },
  {
   "cell_type": "code",
   "execution_count": 18,
   "metadata": {},
   "outputs": [
    {
     "data": {
      "text/plain": [
       "(165, 12)"
      ]
     },
     "execution_count": 18,
     "metadata": {},
     "output_type": "execute_result"
    }
   ],
   "source": [
    "df_preinoculo.shape"
   ]
  },
  {
   "cell_type": "markdown",
   "metadata": {},
   "source": [
    "Reducimos/simplificamos las columnas para que sea más fácil leer y acceder a ellas"
   ]
  },
  {
   "cell_type": "code",
   "execution_count": 19,
   "metadata": {},
   "outputs": [
    {
     "data": {
      "text/html": [
       "<div>\n",
       "<style scoped>\n",
       "    .dataframe tbody tr th:only-of-type {\n",
       "        vertical-align: middle;\n",
       "    }\n",
       "\n",
       "    .dataframe tbody tr th {\n",
       "        vertical-align: top;\n",
       "    }\n",
       "\n",
       "    .dataframe thead th {\n",
       "        text-align: right;\n",
       "    }\n",
       "</style>\n",
       "<table border=\"1\" class=\"dataframe\">\n",
       "  <thead>\n",
       "    <tr style=\"text-align: right;\">\n",
       "      <th></th>\n",
       "      <th>LOTE</th>\n",
       "      <th>Fecha/hora inicio</th>\n",
       "      <th>Fecha/hora fin</th>\n",
       "      <th>pH línea 1</th>\n",
       "      <th>pH línea 2</th>\n",
       "      <th>pH línea 3</th>\n",
       "      <th>Turbidez línea 1</th>\n",
       "      <th>Turbidez línea 2</th>\n",
       "      <th>Turbidez línea 3</th>\n",
       "      <th>Línea utilizada línea 1</th>\n",
       "      <th>Línea utilizada línea 2</th>\n",
       "      <th>Línea utilizada línea 3</th>\n",
       "    </tr>\n",
       "  </thead>\n",
       "  <tbody>\n",
       "    <tr>\n",
       "      <th>0</th>\n",
       "      <td>23023</td>\n",
       "      <td>2023-03-26 05:00:00</td>\n",
       "      <td>2023-03-27 07:21:00</td>\n",
       "      <td>5.496</td>\n",
       "      <td>5.504</td>\n",
       "      <td>5.52</td>\n",
       "      <td>28.32</td>\n",
       "      <td>27.92</td>\n",
       "      <td>32.00</td>\n",
       "      <td>1</td>\n",
       "      <td>1</td>\n",
       "      <td>0</td>\n",
       "    </tr>\n",
       "    <tr>\n",
       "      <th>1</th>\n",
       "      <td>23024</td>\n",
       "      <td>2023-03-26 05:00:00</td>\n",
       "      <td>2023-03-27 07:21:00</td>\n",
       "      <td>5.496</td>\n",
       "      <td>5.504</td>\n",
       "      <td>5.52</td>\n",
       "      <td>28.32</td>\n",
       "      <td>27.92</td>\n",
       "      <td>32.00</td>\n",
       "      <td>1</td>\n",
       "      <td>1</td>\n",
       "      <td>0</td>\n",
       "    </tr>\n",
       "    <tr>\n",
       "      <th>2</th>\n",
       "      <td>23025</td>\n",
       "      <td>2023-03-17 06:00:00</td>\n",
       "      <td>2023-03-28 07:42:00</td>\n",
       "      <td>5.480</td>\n",
       "      <td>5.520</td>\n",
       "      <td>5.52</td>\n",
       "      <td>26.56</td>\n",
       "      <td>27.52</td>\n",
       "      <td>26.40</td>\n",
       "      <td>1</td>\n",
       "      <td>1</td>\n",
       "      <td>0</td>\n",
       "    </tr>\n",
       "    <tr>\n",
       "      <th>3</th>\n",
       "      <td>23026</td>\n",
       "      <td>2023-03-17 06:00:00</td>\n",
       "      <td>2023-03-28 07:42:00</td>\n",
       "      <td>5.480</td>\n",
       "      <td>5.520</td>\n",
       "      <td>5.52</td>\n",
       "      <td>26.56</td>\n",
       "      <td>27.52</td>\n",
       "      <td>26.40</td>\n",
       "      <td>1</td>\n",
       "      <td>1</td>\n",
       "      <td>0</td>\n",
       "    </tr>\n",
       "    <tr>\n",
       "      <th>4</th>\n",
       "      <td>23027</td>\n",
       "      <td>2023-04-02 05:00:00</td>\n",
       "      <td>2023-04-03 13:30:00</td>\n",
       "      <td>5.384</td>\n",
       "      <td>5.440</td>\n",
       "      <td>5.40</td>\n",
       "      <td>33.84</td>\n",
       "      <td>30.56</td>\n",
       "      <td>32.48</td>\n",
       "      <td>1</td>\n",
       "      <td>0</td>\n",
       "      <td>1</td>\n",
       "    </tr>\n",
       "  </tbody>\n",
       "</table>\n",
       "</div>"
      ],
      "text/plain": [
       "    LOTE   Fecha/hora inicio      Fecha/hora fin  pH línea 1  pH línea 2  \\\n",
       "0  23023 2023-03-26 05:00:00 2023-03-27 07:21:00       5.496       5.504   \n",
       "1  23024 2023-03-26 05:00:00 2023-03-27 07:21:00       5.496       5.504   \n",
       "2  23025 2023-03-17 06:00:00 2023-03-28 07:42:00       5.480       5.520   \n",
       "3  23026 2023-03-17 06:00:00 2023-03-28 07:42:00       5.480       5.520   \n",
       "4  23027 2023-04-02 05:00:00 2023-04-03 13:30:00       5.384       5.440   \n",
       "\n",
       "   pH línea 3  Turbidez línea 1  Turbidez línea 2  Turbidez línea 3  \\\n",
       "0        5.52             28.32             27.92             32.00   \n",
       "1        5.52             28.32             27.92             32.00   \n",
       "2        5.52             26.56             27.52             26.40   \n",
       "3        5.52             26.56             27.52             26.40   \n",
       "4        5.40             33.84             30.56             32.48   \n",
       "\n",
       "   Línea utilizada línea 1  Línea utilizada línea 2  Línea utilizada línea 3  \n",
       "0                        1                        1                        0  \n",
       "1                        1                        1                        0  \n",
       "2                        1                        1                        0  \n",
       "3                        1                        1                        0  \n",
       "4                        1                        0                        1  "
      ]
     },
     "execution_count": 19,
     "metadata": {},
     "output_type": "execute_result"
    }
   ],
   "source": [
    "new_cols = [l2 if 'Unnamed' in l1 else f\"{l1} {l2}\" for l1, l2 in df_preinoculo.columns.to_list()]\n",
    "df_preinoculo.columns = new_cols\n",
    "df_preinoculo.head(5)"
   ]
  },
  {
   "cell_type": "markdown",
   "metadata": {},
   "source": [
    "Si echamos la vista atras, la columna de `LOTE` no tiene los mismos valores con barras como en la tabla anterior, sino mas bien es un número entero. \n",
    "Para poder fijarnos exclusivamente en los lotes que nos interesa tenemos que transformar su formato. \n",
    "**NOTA** Esto es importante para la limpieza y mezcla de tablas posterior, ahora tan solo nos ayudara a ser mas concisos con la exploración"
   ]
  },
  {
   "cell_type": "code",
   "execution_count": 20,
   "metadata": {},
   "outputs": [
    {
     "data": {
      "text/plain": [
       "207"
      ]
     },
     "execution_count": 20,
     "metadata": {},
     "output_type": "execute_result"
    }
   ],
   "source": [
    "LOTES = [int(l.replace('/', '').replace('P', '')) for l in lotes]\n",
    "len(LOTES)"
   ]
  },
  {
   "cell_type": "markdown",
   "metadata": {},
   "source": [
    "Se reduce ligeramente el conjunto de datos con este \"cruce\" sencillo con la tabla base de ordenes/lotes"
   ]
  },
  {
   "cell_type": "code",
   "execution_count": 12,
   "metadata": {},
   "outputs": [
    {
     "data": {
      "text/plain": [
       "(154, 12)"
      ]
     },
     "execution_count": 12,
     "metadata": {},
     "output_type": "execute_result"
    }
   ],
   "source": [
    "df_preinoculo = df_preinoculo[df_preinoculo['LOTE'].isin(LOTES)]\n",
    "df_preinoculo.shape"
   ]
  },
  {
   "cell_type": "markdown",
   "metadata": {},
   "source": [
    "Viendo la información resumida de los datos cargados, vemos que en algunas columnas hay valores perdidos"
   ]
  },
  {
   "cell_type": "code",
   "execution_count": 13,
   "metadata": {},
   "outputs": [
    {
     "name": "stdout",
     "output_type": "stream",
     "text": [
      "<class 'pandas.core.frame.DataFrame'>\n",
      "Index: 154 entries, 0 to 163\n",
      "Data columns (total 12 columns):\n",
      " #   Column                   Non-Null Count  Dtype         \n",
      "---  ------                   --------------  -----         \n",
      " 0   LOTE                     154 non-null    object        \n",
      " 1   Fecha/hora inicio        154 non-null    datetime64[ns]\n",
      " 2   Fecha/hora fin           154 non-null    datetime64[ns]\n",
      " 3   pH línea 1               152 non-null    float64       \n",
      " 4   pH línea 2               141 non-null    float64       \n",
      " 5   pH línea 3               123 non-null    float64       \n",
      " 6   Turbidez línea 1         152 non-null    float64       \n",
      " 7   Turbidez línea 2         141 non-null    float64       \n",
      " 8   Turbidez línea 3         124 non-null    float64       \n",
      " 9   Línea utilizada línea 1  154 non-null    int64         \n",
      " 10  Línea utilizada línea 2  154 non-null    int64         \n",
      " 11  Línea utilizada línea 3  154 non-null    int64         \n",
      "dtypes: datetime64[ns](2), float64(6), int64(3), object(1)\n",
      "memory usage: 15.6+ KB\n"
     ]
    }
   ],
   "source": [
    "df_preinoculo.info()"
   ]
  },
  {
   "cell_type": "markdown",
   "metadata": {},
   "source": [
    "Al ser un conjunto de datos reducido, el número de registros perdidos es bastante significativo, sobretodo para las variables de `ph` y `turbidez` de la línea `3`. A primera vista parece que si una de las dos variables es nula, la otra también lo es."
   ]
  },
  {
   "cell_type": "code",
   "execution_count": 14,
   "metadata": {},
   "outputs": [
    {
     "data": {
      "text/plain": [
       "LOTE                        0.000000\n",
       "Fecha/hora inicio           0.000000\n",
       "Fecha/hora fin              0.000000\n",
       "pH línea 1                  1.298701\n",
       "pH línea 2                  8.441558\n",
       "pH línea 3                 20.129870\n",
       "Turbidez línea 1            1.298701\n",
       "Turbidez línea 2            8.441558\n",
       "Turbidez línea 3           19.480519\n",
       "Línea utilizada línea 1     0.000000\n",
       "Línea utilizada línea 2     0.000000\n",
       "Línea utilizada línea 3     0.000000\n",
       "dtype: float64"
      ]
     },
     "execution_count": 14,
     "metadata": {},
     "output_type": "execute_result"
    }
   ],
   "source": [
    "df_preinoculo.isna().sum()/df_preinoculo.shape[0] * 100"
   ]
  },
  {
   "cell_type": "code",
   "execution_count": 15,
   "metadata": {},
   "outputs": [],
   "source": [
    "# def impute_mean_values(df, columns):\n",
    "#     for c in columns:\n",
    "#         df[c] = pd.to_numeric(df[c], errors='coerce')\n",
    "#         df[c] = df_preinoculo[c].fillna(df[c].mean())\n",
    "#     return df \n",
    "\n",
    "# cols_to_fill = df_preinoculo.columns[df_preinoculo.isna().any()].to_list()\n",
    "# print(f\"Columnas donde imputar valores {cols_to_fill}\")\n",
    "# df_preinoculo = impute_mean_values(df_preinoculo, cols_to_fill)"
   ]
  },
  {
   "cell_type": "code",
   "execution_count": 16,
   "metadata": {},
   "outputs": [
    {
     "data": {
      "text/html": [
       "<div>\n",
       "<style scoped>\n",
       "    .dataframe tbody tr th:only-of-type {\n",
       "        vertical-align: middle;\n",
       "    }\n",
       "\n",
       "    .dataframe tbody tr th {\n",
       "        vertical-align: top;\n",
       "    }\n",
       "\n",
       "    .dataframe thead th {\n",
       "        text-align: right;\n",
       "    }\n",
       "</style>\n",
       "<table border=\"1\" class=\"dataframe\">\n",
       "  <thead>\n",
       "    <tr style=\"text-align: right;\">\n",
       "      <th></th>\n",
       "      <th>pH línea 1</th>\n",
       "      <th>pH línea 2</th>\n",
       "      <th>pH línea 3</th>\n",
       "      <th>Turbidez línea 1</th>\n",
       "      <th>Turbidez línea 2</th>\n",
       "      <th>Turbidez línea 3</th>\n",
       "    </tr>\n",
       "  </thead>\n",
       "  <tbody>\n",
       "    <tr>\n",
       "      <th>count</th>\n",
       "      <td>152.000000</td>\n",
       "      <td>141.000000</td>\n",
       "      <td>123.000000</td>\n",
       "      <td>152.000000</td>\n",
       "      <td>141.000000</td>\n",
       "      <td>124.000000</td>\n",
       "    </tr>\n",
       "    <tr>\n",
       "      <th>mean</th>\n",
       "      <td>5.467737</td>\n",
       "      <td>5.462525</td>\n",
       "      <td>5.484618</td>\n",
       "      <td>31.105263</td>\n",
       "      <td>29.969362</td>\n",
       "      <td>29.372903</td>\n",
       "    </tr>\n",
       "    <tr>\n",
       "      <th>std</th>\n",
       "      <td>0.109315</td>\n",
       "      <td>0.064204</td>\n",
       "      <td>0.132463</td>\n",
       "      <td>5.406750</td>\n",
       "      <td>3.964905</td>\n",
       "      <td>4.584409</td>\n",
       "    </tr>\n",
       "    <tr>\n",
       "      <th>min</th>\n",
       "      <td>5.232000</td>\n",
       "      <td>5.336000</td>\n",
       "      <td>5.208000</td>\n",
       "      <td>20.960000</td>\n",
       "      <td>22.480000</td>\n",
       "      <td>17.360000</td>\n",
       "    </tr>\n",
       "    <tr>\n",
       "      <th>25%</th>\n",
       "      <td>5.400000</td>\n",
       "      <td>5.424000</td>\n",
       "      <td>5.404000</td>\n",
       "      <td>27.240000</td>\n",
       "      <td>27.120000</td>\n",
       "      <td>26.480000</td>\n",
       "    </tr>\n",
       "    <tr>\n",
       "      <th>50%</th>\n",
       "      <td>5.460000</td>\n",
       "      <td>5.456000</td>\n",
       "      <td>5.480000</td>\n",
       "      <td>30.560000</td>\n",
       "      <td>30.240000</td>\n",
       "      <td>28.760000</td>\n",
       "    </tr>\n",
       "    <tr>\n",
       "      <th>75%</th>\n",
       "      <td>5.512000</td>\n",
       "      <td>5.504000</td>\n",
       "      <td>5.520000</td>\n",
       "      <td>33.880000</td>\n",
       "      <td>32.160000</td>\n",
       "      <td>32.160000</td>\n",
       "    </tr>\n",
       "    <tr>\n",
       "      <th>max</th>\n",
       "      <td>6.280000</td>\n",
       "      <td>5.624000</td>\n",
       "      <td>6.112000</td>\n",
       "      <td>50.640000</td>\n",
       "      <td>49.440000</td>\n",
       "      <td>41.280000</td>\n",
       "    </tr>\n",
       "  </tbody>\n",
       "</table>\n",
       "</div>"
      ],
      "text/plain": [
       "       pH línea 1  pH línea 2  pH línea 3  Turbidez línea 1  Turbidez línea 2  \\\n",
       "count  152.000000  141.000000  123.000000        152.000000        141.000000   \n",
       "mean     5.467737    5.462525    5.484618         31.105263         29.969362   \n",
       "std      0.109315    0.064204    0.132463          5.406750          3.964905   \n",
       "min      5.232000    5.336000    5.208000         20.960000         22.480000   \n",
       "25%      5.400000    5.424000    5.404000         27.240000         27.120000   \n",
       "50%      5.460000    5.456000    5.480000         30.560000         30.240000   \n",
       "75%      5.512000    5.504000    5.520000         33.880000         32.160000   \n",
       "max      6.280000    5.624000    6.112000         50.640000         49.440000   \n",
       "\n",
       "       Turbidez línea 3  \n",
       "count        124.000000  \n",
       "mean          29.372903  \n",
       "std            4.584409  \n",
       "min           17.360000  \n",
       "25%           26.480000  \n",
       "50%           28.760000  \n",
       "75%           32.160000  \n",
       "max           41.280000  "
      ]
     },
     "execution_count": 16,
     "metadata": {},
     "output_type": "execute_result"
    }
   ],
   "source": [
    "df_preinoculo.describe(include=[float])"
   ]
  },
  {
   "cell_type": "markdown",
   "metadata": {},
   "source": [
    "Vemos claramente que el `pH` suele oscilar entre `5` y `6`, la diferencia entre lotes la determinarán los decimales, por lo cual sería recomendable utilizar como mínimo tres decimales.\n",
    "\n",
    "De la descripción del reto sabemos lo siguiente \n",
    "\n",
    "> \"se seleccionan los dos frascos con el pH más bajo... El tercer frasco se desecha\"\n",
    "\n",
    "En cuanto a la `turbidez` no queda claro la unidad de medida, por lo que debemos ser nosotros los que interpretemos los valores. \n",
    "Entenderemos por una mayor turbidez (menor transparencia del material líquido) valores altos, y menor turbidez con valores bajos. El problema que surge es la falta de una escala de referencia con el fin de saber cuales son los posibles máximos que se pueden alcanzar.\n",
    "\n",
    "Al diferencia del `pH`, la `turbidez` si que presenta una mayor oscilación entre las muestras. "
   ]
  },
  {
   "cell_type": "code",
   "execution_count": 17,
   "metadata": {},
   "outputs": [
    {
     "data": {
      "image/png": "[encoded data removed]",
      "text/plain": [
       "<Figure size 640x480 with 1 Axes>"
      ]
     },
     "metadata": {},
     "output_type": "display_data"
    }
   ],
   "source": [
    "df_preinoculo[['Turbidez línea 1', 'Turbidez línea 2', 'Turbidez línea 3']].plot(kind='density')\n",
    "\n",
    "plt.title(\"Niveles de turbidez por líneas preinóculo\")\n",
    "plt.xlabel(\"Nivel de turbidez\")\n",
    "plt.show()"
   ]
  },
  {
   "cell_type": "markdown",
   "metadata": {},
   "source": [
    "Parece que los valores tienden a seguir una distribución \"normal\" como eje el valor `30` para todas las líneas de preinóculo.\n",
    "Veamos si el `pH` tiene alguna relación con los valores de turbidez"
   ]
  },
  {
   "cell_type": "code",
   "execution_count": 18,
   "metadata": {},
   "outputs": [
    {
     "data": {
      "image/png": "[encoded data removed]",
      "text/plain": [
       "<Figure size 1500x500 with 3 Axes>"
      ]
     },
     "metadata": {},
     "output_type": "display_data"
    }
   ],
   "source": [
    "fig, axes = plt.subplots(1, 3, figsize=(15, 5))\n",
    "\n",
    "for i in range(3):\n",
    "    df_preinoculo.plot(kind='scatter', x=f'Turbidez línea {i+1}', y=f'pH línea {i+1}', ax=axes[i])\n",
    "    # Misma escala \n",
    "    axes[i].set_xlim(15, 55) # min y max Turbidez\n",
    "    axes[i].set_ylim(5, 6.5) # min y max Ph\n",
    "\n",
    "plt.tight_layout()"
   ]
  },
  {
   "cell_type": "markdown",
   "metadata": {},
   "source": [
    "La relación es casi constante dado que la nube de puntos se concentra en las mismas zonas para las tres líneas. Queda claro que valores de `pH` ideales se mantienen entre `5.4` y `5.6`. En cuanto a la turbidez la línea 2 parece ser la que menos desviación tiene entre las muestras, dado que tanto la línea 1 y 3 presentan nubes más dispersas junto con ciertos *outliers*"
   ]
  },
  {
   "cell_type": "code",
   "execution_count": 19,
   "metadata": {},
   "outputs": [
    {
     "data": {
      "text/plain": [
       "Línea utilizada línea 1    125\n",
       "Línea utilizada línea 2    109\n",
       "Línea utilizada línea 3     56\n",
       "dtype: int64"
      ]
     },
     "execution_count": 19,
     "metadata": {},
     "output_type": "execute_result"
    }
   ],
   "source": [
    "lineas = df_preinoculo.select_dtypes(include='int64')\n",
    "lineas.sum() # Líneas más utilizadas para siguiente fase"
   ]
  },
  {
   "cell_type": "code",
   "execution_count": 20,
   "metadata": {},
   "outputs": [
    {
     "data": {
      "text/plain": [
       "Línea utilizada línea 1  Línea utilizada línea 2  Línea utilizada línea 3\n",
       "1                        1                        0                          80\n",
       "                         0                        1                          35\n",
       "0                        1                        1                          21\n",
       "1                        0                        0                          10\n",
       "0                        1                        0                           8\n",
       "Name: count, dtype: int64"
      ]
     },
     "execution_count": 20,
     "metadata": {},
     "output_type": "execute_result"
    }
   ],
   "source": [
    "lineas.value_counts()"
   ]
  },
  {
   "cell_type": "markdown",
   "metadata": {},
   "source": [
    "La combinación de las línea 1 y 2 es la más propensa a \"pasar de fase\".\n",
    "La línea 1, sin duda es la más utilizada, mientras que la línea 3 la mas desechada\n",
    "\n",
    "**NOTA**\n",
    "Por otro lado vemos que hay un total de `18` lotes en los que tan solo se utiliza una de las líneas. Algo que contradice el enunciado del reto."
   ]
  },
  {
   "cell_type": "code",
   "execution_count": 21,
   "metadata": {},
   "outputs": [
    {
     "name": "stdout",
     "output_type": "stream",
     "text": [
      "Total registros anómalos según las Líneas utilizada: 18\n",
      "Registros nulos en algunas de las columnas: 15 \n"
     ]
    },
    {
     "data": {
      "text/html": [
       "<div>\n",
       "<style scoped>\n",
       "    .dataframe tbody tr th:only-of-type {\n",
       "        vertical-align: middle;\n",
       "    }\n",
       "\n",
       "    .dataframe tbody tr th {\n",
       "        vertical-align: top;\n",
       "    }\n",
       "\n",
       "    .dataframe thead th {\n",
       "        text-align: right;\n",
       "    }\n",
       "</style>\n",
       "<table border=\"1\" class=\"dataframe\">\n",
       "  <thead>\n",
       "    <tr style=\"text-align: right;\">\n",
       "      <th></th>\n",
       "      <th>LOTE</th>\n",
       "      <th>Fecha/hora inicio</th>\n",
       "      <th>Fecha/hora fin</th>\n",
       "      <th>pH línea 1</th>\n",
       "      <th>pH línea 2</th>\n",
       "      <th>pH línea 3</th>\n",
       "      <th>Turbidez línea 1</th>\n",
       "      <th>Turbidez línea 2</th>\n",
       "      <th>Turbidez línea 3</th>\n",
       "      <th>Línea utilizada línea 1</th>\n",
       "      <th>Línea utilizada línea 2</th>\n",
       "      <th>Línea utilizada línea 3</th>\n",
       "    </tr>\n",
       "  </thead>\n",
       "  <tbody>\n",
       "    <tr>\n",
       "      <th>12</th>\n",
       "      <td>23035</td>\n",
       "      <td>2023-04-23 05:00:00</td>\n",
       "      <td>2023-03-24 07:30:00</td>\n",
       "      <td>5.520</td>\n",
       "      <td>5.520</td>\n",
       "      <td>NaN</td>\n",
       "      <td>25.68</td>\n",
       "      <td>26.56</td>\n",
       "      <td>NaN</td>\n",
       "      <td>1</td>\n",
       "      <td>0</td>\n",
       "      <td>0</td>\n",
       "    </tr>\n",
       "    <tr>\n",
       "      <th>19</th>\n",
       "      <td>23042</td>\n",
       "      <td>2023-05-29 05:00:00</td>\n",
       "      <td>2023-05-30 07:30:00</td>\n",
       "      <td>5.512</td>\n",
       "      <td>5.472</td>\n",
       "      <td>NaN</td>\n",
       "      <td>24.80</td>\n",
       "      <td>27.12</td>\n",
       "      <td>NaN</td>\n",
       "      <td>0</td>\n",
       "      <td>1</td>\n",
       "      <td>0</td>\n",
       "    </tr>\n",
       "    <tr>\n",
       "      <th>49</th>\n",
       "      <td>23075</td>\n",
       "      <td>2023-07-29 05:00:00</td>\n",
       "      <td>2023-07-31 07:15:00</td>\n",
       "      <td>5.464</td>\n",
       "      <td>NaN</td>\n",
       "      <td>NaN</td>\n",
       "      <td>42.56</td>\n",
       "      <td>NaN</td>\n",
       "      <td>NaN</td>\n",
       "      <td>1</td>\n",
       "      <td>0</td>\n",
       "      <td>0</td>\n",
       "    </tr>\n",
       "    <tr>\n",
       "      <th>51</th>\n",
       "      <td>23076</td>\n",
       "      <td>2023-07-30 05:00:00</td>\n",
       "      <td>2023-07-31 07:00:00</td>\n",
       "      <td>5.376</td>\n",
       "      <td>NaN</td>\n",
       "      <td>NaN</td>\n",
       "      <td>34.88</td>\n",
       "      <td>NaN</td>\n",
       "      <td>NaN</td>\n",
       "      <td>1</td>\n",
       "      <td>0</td>\n",
       "      <td>0</td>\n",
       "    </tr>\n",
       "    <tr>\n",
       "      <th>71</th>\n",
       "      <td>23097</td>\n",
       "      <td>2023-10-15 00:30:00</td>\n",
       "      <td>2023-10-16 07:30:00</td>\n",
       "      <td>5.352</td>\n",
       "      <td>NaN</td>\n",
       "      <td>NaN</td>\n",
       "      <td>34.08</td>\n",
       "      <td>NaN</td>\n",
       "      <td>NaN</td>\n",
       "      <td>1</td>\n",
       "      <td>0</td>\n",
       "      <td>0</td>\n",
       "    </tr>\n",
       "    <tr>\n",
       "      <th>78</th>\n",
       "      <td>23104</td>\n",
       "      <td>2023-10-29 00:30:00</td>\n",
       "      <td>2023-10-30 09:45:00</td>\n",
       "      <td>5.376</td>\n",
       "      <td>5.336</td>\n",
       "      <td>NaN</td>\n",
       "      <td>32.16</td>\n",
       "      <td>36.08</td>\n",
       "      <td>NaN</td>\n",
       "      <td>0</td>\n",
       "      <td>1</td>\n",
       "      <td>0</td>\n",
       "    </tr>\n",
       "    <tr>\n",
       "      <th>91</th>\n",
       "      <td>23120</td>\n",
       "      <td>2023-11-19 00:30:00</td>\n",
       "      <td>2023-11-20 07:45:00</td>\n",
       "      <td>5.320</td>\n",
       "      <td>5.384</td>\n",
       "      <td>NaN</td>\n",
       "      <td>32.16</td>\n",
       "      <td>31.44</td>\n",
       "      <td>NaN</td>\n",
       "      <td>1</td>\n",
       "      <td>0</td>\n",
       "      <td>0</td>\n",
       "    </tr>\n",
       "    <tr>\n",
       "      <th>92</th>\n",
       "      <td>23121</td>\n",
       "      <td>2023-11-19 00:30:00</td>\n",
       "      <td>2023-11-20 07:50:00</td>\n",
       "      <td>5.232</td>\n",
       "      <td>5.408</td>\n",
       "      <td>NaN</td>\n",
       "      <td>28.72</td>\n",
       "      <td>25.76</td>\n",
       "      <td>NaN</td>\n",
       "      <td>1</td>\n",
       "      <td>0</td>\n",
       "      <td>0</td>\n",
       "    </tr>\n",
       "    <tr>\n",
       "      <th>97</th>\n",
       "      <td>23131</td>\n",
       "      <td>2023-12-02 00:30:00</td>\n",
       "      <td>2023-12-03 06:55:00</td>\n",
       "      <td>5.376</td>\n",
       "      <td>5.424</td>\n",
       "      <td>NaN</td>\n",
       "      <td>35.12</td>\n",
       "      <td>35.52</td>\n",
       "      <td>NaN</td>\n",
       "      <td>1</td>\n",
       "      <td>0</td>\n",
       "      <td>0</td>\n",
       "    </tr>\n",
       "    <tr>\n",
       "      <th>107</th>\n",
       "      <td>24005</td>\n",
       "      <td>2024-01-18 00:30:00</td>\n",
       "      <td>2024-01-19 07:15:00</td>\n",
       "      <td>5.360</td>\n",
       "      <td>5.440</td>\n",
       "      <td>NaN</td>\n",
       "      <td>28.96</td>\n",
       "      <td>26.48</td>\n",
       "      <td>NaN</td>\n",
       "      <td>1</td>\n",
       "      <td>0</td>\n",
       "      <td>0</td>\n",
       "    </tr>\n",
       "    <tr>\n",
       "      <th>114</th>\n",
       "      <td>24019</td>\n",
       "      <td>2024-02-01 00:30:00</td>\n",
       "      <td>2024-02-02 07:20:00</td>\n",
       "      <td>5.520</td>\n",
       "      <td>5.360</td>\n",
       "      <td>NaN</td>\n",
       "      <td>35.20</td>\n",
       "      <td>37.04</td>\n",
       "      <td>NaN</td>\n",
       "      <td>0</td>\n",
       "      <td>1</td>\n",
       "      <td>0</td>\n",
       "    </tr>\n",
       "    <tr>\n",
       "      <th>116</th>\n",
       "      <td>24021</td>\n",
       "      <td>2024-02-01 00:30:00</td>\n",
       "      <td>2024-02-02 07:10:00</td>\n",
       "      <td>5.280</td>\n",
       "      <td>5.440</td>\n",
       "      <td>NaN</td>\n",
       "      <td>37.68</td>\n",
       "      <td>26.72</td>\n",
       "      <td>NaN</td>\n",
       "      <td>1</td>\n",
       "      <td>0</td>\n",
       "      <td>0</td>\n",
       "    </tr>\n",
       "    <tr>\n",
       "      <th>119</th>\n",
       "      <td>24031</td>\n",
       "      <td>2024-02-15 00:30:00</td>\n",
       "      <td>2024-02-16 07:30:00</td>\n",
       "      <td>5.768</td>\n",
       "      <td>5.488</td>\n",
       "      <td>NaN</td>\n",
       "      <td>24.48</td>\n",
       "      <td>32.96</td>\n",
       "      <td>NaN</td>\n",
       "      <td>0</td>\n",
       "      <td>1</td>\n",
       "      <td>0</td>\n",
       "    </tr>\n",
       "    <tr>\n",
       "      <th>140</th>\n",
       "      <td>24071</td>\n",
       "      <td>2024-04-28 00:30:00</td>\n",
       "      <td>2024-04-29 07:45:00</td>\n",
       "      <td>6.280</td>\n",
       "      <td>5.488</td>\n",
       "      <td>NaN</td>\n",
       "      <td>27.36</td>\n",
       "      <td>24.88</td>\n",
       "      <td>NaN</td>\n",
       "      <td>0</td>\n",
       "      <td>1</td>\n",
       "      <td>0</td>\n",
       "    </tr>\n",
       "    <tr>\n",
       "      <th>141</th>\n",
       "      <td>24072</td>\n",
       "      <td>2024-05-12 00:30:00</td>\n",
       "      <td>2024-05-13 08:16:00</td>\n",
       "      <td>5.424</td>\n",
       "      <td>5.424</td>\n",
       "      <td>NaN</td>\n",
       "      <td>25.36</td>\n",
       "      <td>30.96</td>\n",
       "      <td>NaN</td>\n",
       "      <td>0</td>\n",
       "      <td>1</td>\n",
       "      <td>0</td>\n",
       "    </tr>\n",
       "  </tbody>\n",
       "</table>\n",
       "</div>"
      ],
      "text/plain": [
       "      LOTE   Fecha/hora inicio      Fecha/hora fin  pH línea 1  pH línea 2  \\\n",
       "12   23035 2023-04-23 05:00:00 2023-03-24 07:30:00       5.520       5.520   \n",
       "19   23042 2023-05-29 05:00:00 2023-05-30 07:30:00       5.512       5.472   \n",
       "49   23075 2023-07-29 05:00:00 2023-07-31 07:15:00       5.464         NaN   \n",
       "51   23076 2023-07-30 05:00:00 2023-07-31 07:00:00       5.376         NaN   \n",
       "71   23097 2023-10-15 00:30:00 2023-10-16 07:30:00       5.352         NaN   \n",
       "78   23104 2023-10-29 00:30:00 2023-10-30 09:45:00       5.376       5.336   \n",
       "91   23120 2023-11-19 00:30:00 2023-11-20 07:45:00       5.320       5.384   \n",
       "92   23121 2023-11-19 00:30:00 2023-11-20 07:50:00       5.232       5.408   \n",
       "97   23131 2023-12-02 00:30:00 2023-12-03 06:55:00       5.376       5.424   \n",
       "107  24005 2024-01-18 00:30:00 2024-01-19 07:15:00       5.360       5.440   \n",
       "114  24019 2024-02-01 00:30:00 2024-02-02 07:20:00       5.520       5.360   \n",
       "116  24021 2024-02-01 00:30:00 2024-02-02 07:10:00       5.280       5.440   \n",
       "119  24031 2024-02-15 00:30:00 2024-02-16 07:30:00       5.768       5.488   \n",
       "140  24071 2024-04-28 00:30:00 2024-04-29 07:45:00       6.280       5.488   \n",
       "141  24072 2024-05-12 00:30:00 2024-05-13 08:16:00       5.424       5.424   \n",
       "\n",
       "     pH línea 3  Turbidez línea 1  Turbidez línea 2  Turbidez línea 3  \\\n",
       "12          NaN             25.68             26.56               NaN   \n",
       "19          NaN             24.80             27.12               NaN   \n",
       "49          NaN             42.56               NaN               NaN   \n",
       "51          NaN             34.88               NaN               NaN   \n",
       "71          NaN             34.08               NaN               NaN   \n",
       "78          NaN             32.16             36.08               NaN   \n",
       "91          NaN             32.16             31.44               NaN   \n",
       "92          NaN             28.72             25.76               NaN   \n",
       "97          NaN             35.12             35.52               NaN   \n",
       "107         NaN             28.96             26.48               NaN   \n",
       "114         NaN             35.20             37.04               NaN   \n",
       "116         NaN             37.68             26.72               NaN   \n",
       "119         NaN             24.48             32.96               NaN   \n",
       "140         NaN             27.36             24.88               NaN   \n",
       "141         NaN             25.36             30.96               NaN   \n",
       "\n",
       "     Línea utilizada línea 1  Línea utilizada línea 2  Línea utilizada línea 3  \n",
       "12                         1                        0                        0  \n",
       "19                         0                        1                        0  \n",
       "49                         1                        0                        0  \n",
       "51                         1                        0                        0  \n",
       "71                         1                        0                        0  \n",
       "78                         0                        1                        0  \n",
       "91                         1                        0                        0  \n",
       "92                         1                        0                        0  \n",
       "97                         1                        0                        0  \n",
       "107                        1                        0                        0  \n",
       "114                        0                        1                        0  \n",
       "116                        1                        0                        0  \n",
       "119                        0                        1                        0  \n",
       "140                        0                        1                        0  \n",
       "141                        0                        1                        0  "
      ]
     },
     "execution_count": 21,
     "metadata": {},
     "output_type": "execute_result"
    }
   ],
   "source": [
    "error_linea = df_preinoculo[df_preinoculo[['Línea utilizada línea 1', 'Línea utilizada línea 2', 'Línea utilizada línea 3']].sum(axis=1) == 1]\n",
    "\n",
    "error_linea = error_linea[error_linea.isnull().any(axis=1)]\n",
    "\n",
    "print(\"Total registros anómalos según las Líneas utilizada: 18\")\n",
    "print(f\"Registros nulos en algunas de las columnas: {len(error_linea)} \")\n",
    "\n",
    "error_linea"
   ]
  },
  {
   "cell_type": "markdown",
   "metadata": {},
   "source": [
    "Vemos una estrecha relación entre valores perdidos de ph y turbidez con que tan solo se seleccione una de las líneas, cuando en realidad se deberían utilizar dos de ellas."
   ]
  },
  {
   "cell_type": "code",
   "execution_count": 22,
   "metadata": {},
   "outputs": [
    {
     "data": {
      "text/html": [
       "<div>\n",
       "<style scoped>\n",
       "    .dataframe tbody tr th:only-of-type {\n",
       "        vertical-align: middle;\n",
       "    }\n",
       "\n",
       "    .dataframe tbody tr th {\n",
       "        vertical-align: top;\n",
       "    }\n",
       "\n",
       "    .dataframe thead th {\n",
       "        text-align: right;\n",
       "    }\n",
       "</style>\n",
       "<table border=\"1\" class=\"dataframe\">\n",
       "  <thead>\n",
       "    <tr style=\"text-align: right;\">\n",
       "      <th></th>\n",
       "      <th>LOTE</th>\n",
       "      <th>Fecha/hora inicio</th>\n",
       "      <th>Fecha/hora fin</th>\n",
       "      <th>pH línea 1</th>\n",
       "      <th>pH línea 2</th>\n",
       "      <th>pH línea 3</th>\n",
       "      <th>Turbidez línea 1</th>\n",
       "      <th>Turbidez línea 2</th>\n",
       "      <th>Turbidez línea 3</th>\n",
       "      <th>Línea utilizada línea 1</th>\n",
       "      <th>Línea utilizada línea 2</th>\n",
       "      <th>Línea utilizada línea 3</th>\n",
       "      <th>duracion_horas</th>\n",
       "    </tr>\n",
       "  </thead>\n",
       "  <tbody>\n",
       "    <tr>\n",
       "      <th>10</th>\n",
       "      <td>23033</td>\n",
       "      <td>2023-04-23 05:00:00</td>\n",
       "      <td>2023-03-24 13:30:00</td>\n",
       "      <td>5.448</td>\n",
       "      <td>5.456</td>\n",
       "      <td>5.392</td>\n",
       "      <td>28.08</td>\n",
       "      <td>28.24</td>\n",
       "      <td>29.44</td>\n",
       "      <td>1</td>\n",
       "      <td>0</td>\n",
       "      <td>1</td>\n",
       "      <td>-711.5</td>\n",
       "    </tr>\n",
       "    <tr>\n",
       "      <th>11</th>\n",
       "      <td>23034</td>\n",
       "      <td>2023-04-23 05:00:00</td>\n",
       "      <td>2023-03-24 13:30:00</td>\n",
       "      <td>5.448</td>\n",
       "      <td>5.456</td>\n",
       "      <td>5.392</td>\n",
       "      <td>28.08</td>\n",
       "      <td>28.24</td>\n",
       "      <td>29.44</td>\n",
       "      <td>1</td>\n",
       "      <td>0</td>\n",
       "      <td>1</td>\n",
       "      <td>-711.5</td>\n",
       "    </tr>\n",
       "    <tr>\n",
       "      <th>12</th>\n",
       "      <td>23035</td>\n",
       "      <td>2023-04-23 05:00:00</td>\n",
       "      <td>2023-03-24 07:30:00</td>\n",
       "      <td>5.520</td>\n",
       "      <td>5.520</td>\n",
       "      <td>NaN</td>\n",
       "      <td>25.68</td>\n",
       "      <td>26.56</td>\n",
       "      <td>NaN</td>\n",
       "      <td>1</td>\n",
       "      <td>0</td>\n",
       "      <td>0</td>\n",
       "      <td>-717.5</td>\n",
       "    </tr>\n",
       "  </tbody>\n",
       "</table>\n",
       "</div>"
      ],
      "text/plain": [
       "     LOTE   Fecha/hora inicio      Fecha/hora fin  pH línea 1  pH línea 2  \\\n",
       "10  23033 2023-04-23 05:00:00 2023-03-24 13:30:00       5.448       5.456   \n",
       "11  23034 2023-04-23 05:00:00 2023-03-24 13:30:00       5.448       5.456   \n",
       "12  23035 2023-04-23 05:00:00 2023-03-24 07:30:00       5.520       5.520   \n",
       "\n",
       "    pH línea 3  Turbidez línea 1  Turbidez línea 2  Turbidez línea 3  \\\n",
       "10       5.392             28.08             28.24             29.44   \n",
       "11       5.392             28.08             28.24             29.44   \n",
       "12         NaN             25.68             26.56               NaN   \n",
       "\n",
       "    Línea utilizada línea 1  Línea utilizada línea 2  Línea utilizada línea 3  \\\n",
       "10                        1                        0                        1   \n",
       "11                        1                        0                        1   \n",
       "12                        1                        0                        0   \n",
       "\n",
       "    duracion_horas  \n",
       "10          -711.5  \n",
       "11          -711.5  \n",
       "12          -717.5  "
      ]
     },
     "execution_count": 22,
     "metadata": {},
     "output_type": "execute_result"
    }
   ],
   "source": [
    "df_preinoculo['duracion_horas'] = (df_preinoculo['Fecha/hora fin'] - df_preinoculo['Fecha/hora inicio']).dt.total_seconds() / 3600\n",
    "\n",
    "# Tras realizar la operacion aparecen algunos valores negativos -> MUY EXTRAÑO!! INSPECCIONAR LOTES EN OTRAS FASES\n",
    "df_preinoculo[df_preinoculo['duracion_horas'] < 0 ]"
   ]
  },
  {
   "cell_type": "code",
   "execution_count": 23,
   "metadata": {},
   "outputs": [
    {
     "data": {
      "text/plain": [
       "count    151.000000\n",
       "mean      33.256071\n",
       "std       27.332647\n",
       "min       25.000000\n",
       "25%       26.791667\n",
       "50%       30.750000\n",
       "75%       31.166667\n",
       "max      265.700000\n",
       "Name: duracion_horas, dtype: float64"
      ]
     },
     "execution_count": 23,
     "metadata": {},
     "output_type": "execute_result"
    }
   ],
   "source": [
    "df_preinoculo[df_preinoculo['duracion_horas'] > 0 ]['duracion_horas'].describe()"
   ]
  },
  {
   "cell_type": "markdown",
   "metadata": {},
   "source": [
    "El 75% de los lotes necesitan al menos de unas 30 horas para obtener el preinóculo. Ahora bien, la desviación de la duración para realizar esta primera fase es muy grande, tendremos que investigar si hay otras variables que afecten a obtener una línea para ser utilizada."
   ]
  },
  {
   "cell_type": "markdown",
   "metadata": {},
   "source": [
    "##### Inóculo"
   ]
  },
  {
   "cell_type": "code",
   "execution_count": 24,
   "metadata": {},
   "outputs": [
    {
     "data": {
      "text/html": [
       "<div>\n",
       "<style scoped>\n",
       "    .dataframe tbody tr th:only-of-type {\n",
       "        vertical-align: middle;\n",
       "    }\n",
       "\n",
       "    .dataframe tbody tr th {\n",
       "        vertical-align: top;\n",
       "    }\n",
       "\n",
       "    .dataframe thead th {\n",
       "        text-align: right;\n",
       "    }\n",
       "</style>\n",
       "<table border=\"1\" class=\"dataframe\">\n",
       "  <thead>\n",
       "    <tr style=\"text-align: right;\">\n",
       "      <th></th>\n",
       "      <th>LOTE</th>\n",
       "      <th>ID bioreactor</th>\n",
       "      <th>Fecha/hora inicio</th>\n",
       "      <th>Fecha/hora fin</th>\n",
       "      <th>Volumen de cultivo</th>\n",
       "      <th>Turbidez inicio cultivo</th>\n",
       "      <th>Turbidez final culttivo</th>\n",
       "      <th>Viabilidad final cultivo</th>\n",
       "    </tr>\n",
       "  </thead>\n",
       "  <tbody>\n",
       "    <tr>\n",
       "      <th>0</th>\n",
       "      <td>23019</td>\n",
       "      <td>13171</td>\n",
       "      <td>NaT</td>\n",
       "      <td>NaT</td>\n",
       "      <td>NaN</td>\n",
       "      <td>NaN</td>\n",
       "      <td>32.80</td>\n",
       "      <td>134400000</td>\n",
       "    </tr>\n",
       "    <tr>\n",
       "      <th>1</th>\n",
       "      <td>23020</td>\n",
       "      <td>13171</td>\n",
       "      <td>NaT</td>\n",
       "      <td>NaT</td>\n",
       "      <td>NaN</td>\n",
       "      <td>NaN</td>\n",
       "      <td>32.80</td>\n",
       "      <td>134400000</td>\n",
       "    </tr>\n",
       "    <tr>\n",
       "      <th>2</th>\n",
       "      <td>23021</td>\n",
       "      <td>14618</td>\n",
       "      <td>NaT</td>\n",
       "      <td>NaT</td>\n",
       "      <td>NaN</td>\n",
       "      <td>NaN</td>\n",
       "      <td>27.84</td>\n",
       "      <td>115200000</td>\n",
       "    </tr>\n",
       "    <tr>\n",
       "      <th>3</th>\n",
       "      <td>23022</td>\n",
       "      <td>14618</td>\n",
       "      <td>NaT</td>\n",
       "      <td>NaT</td>\n",
       "      <td>NaN</td>\n",
       "      <td>NaN</td>\n",
       "      <td>27.84</td>\n",
       "      <td>115200000</td>\n",
       "    </tr>\n",
       "    <tr>\n",
       "      <th>4</th>\n",
       "      <td>23023</td>\n",
       "      <td>14618</td>\n",
       "      <td>2023-03-27 07:22:00</td>\n",
       "      <td>2023-03-28 07:29:00</td>\n",
       "      <td>155.2</td>\n",
       "      <td>18.24</td>\n",
       "      <td>31.68</td>\n",
       "      <td>106400000</td>\n",
       "    </tr>\n",
       "  </tbody>\n",
       "</table>\n",
       "</div>"
      ],
      "text/plain": [
       "    LOTE  ID bioreactor   Fecha/hora inicio      Fecha/hora fin  \\\n",
       "0  23019          13171                 NaT                 NaT   \n",
       "1  23020          13171                 NaT                 NaT   \n",
       "2  23021          14618                 NaT                 NaT   \n",
       "3  23022          14618                 NaT                 NaT   \n",
       "4  23023          14618 2023-03-27 07:22:00 2023-03-28 07:29:00   \n",
       "\n",
       "   Volumen de cultivo  Turbidez inicio cultivo  Turbidez final culttivo  \\\n",
       "0                 NaN                      NaN                    32.80   \n",
       "1                 NaN                      NaN                    32.80   \n",
       "2                 NaN                      NaN                    27.84   \n",
       "3                 NaN                      NaN                    27.84   \n",
       "4               155.2                    18.24                    31.68   \n",
       "\n",
       "  Viabilidad final cultivo  \n",
       "0                134400000  \n",
       "1                134400000  \n",
       "2                115200000  \n",
       "3                115200000  \n",
       "4                106400000  "
      ]
     },
     "execution_count": 24,
     "metadata": {},
     "output_type": "execute_result"
    }
   ],
   "source": [
    "df_inoculo = pd.read_excel('raw_data/Fases producción v02.xlsx', sheet_name='Inóculo', engine='openpyxl')\n",
    "df_inoculo.head(5)"
   ]
  },
  {
   "cell_type": "code",
   "execution_count": 25,
   "metadata": {},
   "outputs": [
    {
     "data": {
      "text/plain": [
       "(168, 8)"
      ]
     },
     "execution_count": 25,
     "metadata": {},
     "output_type": "execute_result"
    }
   ],
   "source": [
    "df_inoculo.shape"
   ]
  },
  {
   "cell_type": "markdown",
   "metadata": {},
   "source": [
    "Algunos lotes quedan descartados al igual que pasaba con el preinóculo"
   ]
  },
  {
   "cell_type": "code",
   "execution_count": 26,
   "metadata": {},
   "outputs": [
    {
     "data": {
      "text/plain": [
       "(159, 8)"
      ]
     },
     "execution_count": 26,
     "metadata": {},
     "output_type": "execute_result"
    }
   ],
   "source": [
    "df_inoculo = df_inoculo[df_inoculo['LOTE'].isin(LOTES)]\n",
    "df_inoculo.shape"
   ]
  },
  {
   "cell_type": "code",
   "execution_count": 27,
   "metadata": {},
   "outputs": [
    {
     "name": "stdout",
     "output_type": "stream",
     "text": [
      "<class 'pandas.core.frame.DataFrame'>\n",
      "Index: 159 entries, 0 to 167\n",
      "Data columns (total 8 columns):\n",
      " #   Column                    Non-Null Count  Dtype         \n",
      "---  ------                    --------------  -----         \n",
      " 0   LOTE                      159 non-null    object        \n",
      " 1   ID bioreactor             159 non-null    int64         \n",
      " 2   Fecha/hora inicio         155 non-null    datetime64[ns]\n",
      " 3   Fecha/hora fin            155 non-null    datetime64[ns]\n",
      " 4   Volumen de cultivo        155 non-null    float64       \n",
      " 5   Turbidez inicio cultivo   153 non-null    float64       \n",
      " 6   Turbidez final culttivo   159 non-null    float64       \n",
      " 7   Viabilidad final cultivo  159 non-null    object        \n",
      "dtypes: datetime64[ns](2), float64(3), int64(1), object(2)\n",
      "memory usage: 11.2+ KB\n"
     ]
    }
   ],
   "source": [
    "df_inoculo.info()"
   ]
  },
  {
   "cell_type": "markdown",
   "metadata": {},
   "source": [
    "La viabilidad del cultivo deberia representarse como número, seguramente haya algun registro con una cadena que pandas no sabe inferir, así que hay que definirlo manualmente"
   ]
  },
  {
   "cell_type": "code",
   "execution_count": 28,
   "metadata": {},
   "outputs": [],
   "source": [
    "df_inoculo['Viabilidad final cultivo'] = pd.to_numeric(df_inoculo['Viabilidad final cultivo'], errors='coerce')"
   ]
  },
  {
   "cell_type": "code",
   "execution_count": 29,
   "metadata": {},
   "outputs": [
    {
     "data": {
      "text/plain": [
       "LOTE                        0\n",
       "ID bioreactor               0\n",
       "Fecha/hora inicio           4\n",
       "Fecha/hora fin              4\n",
       "Volumen de cultivo          4\n",
       "Turbidez inicio cultivo     6\n",
       "Turbidez final culttivo     0\n",
       "Viabilidad final cultivo    1\n",
       "dtype: int64"
      ]
     },
     "execution_count": 29,
     "metadata": {},
     "output_type": "execute_result"
    }
   ],
   "source": [
    "df_inoculo.isna().sum()"
   ]
  },
  {
   "cell_type": "markdown",
   "metadata": {},
   "source": [
    "Hay pocos valores perdidos, podemos imputar algunos de ellos por la media y otros (las fechas) rescatarlos fijándonos en las tablas de preinoculo y cultivo final.\n",
    "\n",
    "**NOTA** Incluso podríamos prescindir de ellos al principio por simpleza (el esfuerzo invertido para un par de registros no es efectivo en esta fase). Eso si, si optamos por esta opción debemos ser acordes a ello en el resto de conjuntos de datos (cuadrar lotes basicamente)"
   ]
  },
  {
   "cell_type": "code",
   "execution_count": 30,
   "metadata": {},
   "outputs": [
    {
     "data": {
      "text/plain": [
       "(152, 8)"
      ]
     },
     "execution_count": 30,
     "metadata": {},
     "output_type": "execute_result"
    }
   ],
   "source": [
    "# Por simpleza a la hora de explorar\n",
    "df_inoculo.dropna(inplace=True)\n",
    "df_inoculo.shape"
   ]
  },
  {
   "cell_type": "markdown",
   "metadata": {},
   "source": [
    "Comprobamos que los datos proporcionados están correctos según el enunciado. Además el uso de los bioreactores por los lotes es bastante uniforme\n",
    "\n",
    "> \"Los frascos de preinóculo seleccionados se introducen, junto con medio de cultivo, en un biorreactor de pequeño tamaño (códigos 13171, 13172, 14618)\""
   ]
  },
  {
   "cell_type": "code",
   "execution_count": 31,
   "metadata": {},
   "outputs": [
    {
     "name": "stdout",
     "output_type": "stream",
     "text": [
      "Bioreactores utilizado [14618 13172 13171]\n"
     ]
    },
    {
     "data": {
      "text/plain": [
       "ID bioreactor\n",
       "13171    53\n",
       "14618    50\n",
       "13172    49\n",
       "Name: count, dtype: int64"
      ]
     },
     "execution_count": 31,
     "metadata": {},
     "output_type": "execute_result"
    }
   ],
   "source": [
    "ids_inoculo_biorreactor = df_inoculo['ID bioreactor'].unique()\n",
    "print(f\"Bioreactores utilizado {ids_inoculo_biorreactor}\")\n",
    "df_inoculo['ID bioreactor'].value_counts()"
   ]
  },
  {
   "cell_type": "code",
   "execution_count": 32,
   "metadata": {},
   "outputs": [
    {
     "data": {
      "text/html": [
       "<div>\n",
       "<style scoped>\n",
       "    .dataframe tbody tr th:only-of-type {\n",
       "        vertical-align: middle;\n",
       "    }\n",
       "\n",
       "    .dataframe tbody tr th {\n",
       "        vertical-align: top;\n",
       "    }\n",
       "\n",
       "    .dataframe thead th {\n",
       "        text-align: right;\n",
       "    }\n",
       "</style>\n",
       "<table border=\"1\" class=\"dataframe\">\n",
       "  <thead>\n",
       "    <tr style=\"text-align: right;\">\n",
       "      <th></th>\n",
       "      <th>Volumen de cultivo</th>\n",
       "      <th>Turbidez inicio cultivo</th>\n",
       "      <th>Turbidez final culttivo</th>\n",
       "      <th>Viabilidad final cultivo</th>\n",
       "    </tr>\n",
       "  </thead>\n",
       "  <tbody>\n",
       "    <tr>\n",
       "      <th>count</th>\n",
       "      <td>152.000000</td>\n",
       "      <td>152.000000</td>\n",
       "      <td>152.000000</td>\n",
       "      <td>1.520000e+02</td>\n",
       "    </tr>\n",
       "    <tr>\n",
       "      <th>mean</th>\n",
       "      <td>151.977000</td>\n",
       "      <td>15.301579</td>\n",
       "      <td>25.894211</td>\n",
       "      <td>1.010264e+08</td>\n",
       "    </tr>\n",
       "    <tr>\n",
       "      <th>std</th>\n",
       "      <td>29.738796</td>\n",
       "      <td>1.728630</td>\n",
       "      <td>2.919894</td>\n",
       "      <td>2.506623e+07</td>\n",
       "    </tr>\n",
       "    <tr>\n",
       "      <th>min</th>\n",
       "      <td>79.200000</td>\n",
       "      <td>11.200000</td>\n",
       "      <td>17.680000</td>\n",
       "      <td>3.704000e+07</td>\n",
       "    </tr>\n",
       "    <tr>\n",
       "      <th>25%</th>\n",
       "      <td>160.000000</td>\n",
       "      <td>14.160000</td>\n",
       "      <td>24.240000</td>\n",
       "      <td>8.540000e+07</td>\n",
       "    </tr>\n",
       "    <tr>\n",
       "      <th>50%</th>\n",
       "      <td>164.000000</td>\n",
       "      <td>15.080000</td>\n",
       "      <td>25.840000</td>\n",
       "      <td>9.600000e+07</td>\n",
       "    </tr>\n",
       "    <tr>\n",
       "      <th>75%</th>\n",
       "      <td>167.200000</td>\n",
       "      <td>16.240000</td>\n",
       "      <td>27.640000</td>\n",
       "      <td>1.112000e+08</td>\n",
       "    </tr>\n",
       "    <tr>\n",
       "      <th>max</th>\n",
       "      <td>176.000000</td>\n",
       "      <td>21.520000</td>\n",
       "      <td>32.880000</td>\n",
       "      <td>2.520000e+08</td>\n",
       "    </tr>\n",
       "  </tbody>\n",
       "</table>\n",
       "</div>"
      ],
      "text/plain": [
       "       Volumen de cultivo  Turbidez inicio cultivo  Turbidez final culttivo  \\\n",
       "count          152.000000               152.000000               152.000000   \n",
       "mean           151.977000                15.301579                25.894211   \n",
       "std             29.738796                 1.728630                 2.919894   \n",
       "min             79.200000                11.200000                17.680000   \n",
       "25%            160.000000                14.160000                24.240000   \n",
       "50%            164.000000                15.080000                25.840000   \n",
       "75%            167.200000                16.240000                27.640000   \n",
       "max            176.000000                21.520000                32.880000   \n",
       "\n",
       "       Viabilidad final cultivo  \n",
       "count              1.520000e+02  \n",
       "mean               1.010264e+08  \n",
       "std                2.506623e+07  \n",
       "min                3.704000e+07  \n",
       "25%                8.540000e+07  \n",
       "50%                9.600000e+07  \n",
       "75%                1.112000e+08  \n",
       "max                2.520000e+08  "
      ]
     },
     "execution_count": 32,
     "metadata": {},
     "output_type": "execute_result"
    }
   ],
   "source": [
    "df_inoculo.describe(include=float)"
   ]
  },
  {
   "cell_type": "markdown",
   "metadata": {},
   "source": [
    "Con la variable `Viabilidad final cultivo` pasa un poco lo mismo que con la turbidez, no contamos con una unidad de medida. Debemos ser nosotros los que fijemos un significado a los números. Por sentido común y simpleza, un valor alto mayor viabilidad y viceversa."
   ]
  },
  {
   "cell_type": "code",
   "execution_count": 33,
   "metadata": {},
   "outputs": [
    {
     "data": {
      "text/plain": [
       "<Axes: ylabel='Density'>"
      ]
     },
     "execution_count": 33,
     "metadata": {},
     "output_type": "execute_result"
    },
    {
     "data": {
      "image/png": "[encoded data removed]",
      "text/plain": [
       "<Figure size 640x480 with 1 Axes>"
      ]
     },
     "metadata": {},
     "output_type": "display_data"
    }
   ],
   "source": [
    "df_inoculo['Volumen de cultivo'].plot(kind='density')"
   ]
  },
  {
   "cell_type": "markdown",
   "metadata": {},
   "source": [
    "El volumen de cultivo obtenido tras el inóculo se concentra entorno los `160` litros, aunque tambien se aprecia otra pequeña porción de lotes con una menor cantidad (deberemos ver que variables de los bioreactores crean este comportamiento)"
   ]
  },
  {
   "cell_type": "code",
   "execution_count": 34,
   "metadata": {},
   "outputs": [
    {
     "data": {
      "text/plain": [
       "count    152.000000\n",
       "mean      10.592632\n",
       "std        2.762632\n",
       "min        1.840000\n",
       "25%        9.360000\n",
       "50%       10.520000\n",
       "75%       12.080000\n",
       "max       18.480000\n",
       "Name: diferencia_turbidez, dtype: float64"
      ]
     },
     "execution_count": 34,
     "metadata": {},
     "output_type": "execute_result"
    }
   ],
   "source": [
    "df_inoculo['diferencia_turbidez'] = df_inoculo['Turbidez final culttivo'] - df_inoculo['Turbidez inicio cultivo']\n",
    "df_inoculo['diferencia_turbidez'].describe()"
   ]
  },
  {
   "cell_type": "markdown",
   "metadata": {},
   "source": [
    "La turbidez por lo general aumenta en 10 puntos en esta fase. Veamos si esta variable \"ingeniada\" tiene alguna correlación con la viabilidad del cultivo"
   ]
  },
  {
   "cell_type": "code",
   "execution_count": 35,
   "metadata": {},
   "outputs": [
    {
     "data": {
      "text/html": [
       "<div>\n",
       "<style scoped>\n",
       "    .dataframe tbody tr th:only-of-type {\n",
       "        vertical-align: middle;\n",
       "    }\n",
       "\n",
       "    .dataframe tbody tr th {\n",
       "        vertical-align: top;\n",
       "    }\n",
       "\n",
       "    .dataframe thead th {\n",
       "        text-align: right;\n",
       "    }\n",
       "</style>\n",
       "<table border=\"1\" class=\"dataframe\">\n",
       "  <thead>\n",
       "    <tr style=\"text-align: right;\">\n",
       "      <th></th>\n",
       "      <th>Volumen de cultivo</th>\n",
       "      <th>Turbidez inicio cultivo</th>\n",
       "      <th>Turbidez final culttivo</th>\n",
       "      <th>Viabilidad final cultivo</th>\n",
       "      <th>diferencia_turbidez</th>\n",
       "    </tr>\n",
       "  </thead>\n",
       "  <tbody>\n",
       "    <tr>\n",
       "      <th>Volumen de cultivo</th>\n",
       "      <td>1.000000</td>\n",
       "      <td>0.050441</td>\n",
       "      <td>-0.038405</td>\n",
       "      <td>0.069182</td>\n",
       "      <td>-0.072153</td>\n",
       "    </tr>\n",
       "    <tr>\n",
       "      <th>Turbidez inicio cultivo</th>\n",
       "      <td>0.050441</td>\n",
       "      <td>1.000000</td>\n",
       "      <td>0.384534</td>\n",
       "      <td>-0.100817</td>\n",
       "      <td>-0.219295</td>\n",
       "    </tr>\n",
       "    <tr>\n",
       "      <th>Turbidez final culttivo</th>\n",
       "      <td>-0.038405</td>\n",
       "      <td>0.384534</td>\n",
       "      <td>1.000000</td>\n",
       "      <td>-0.022883</td>\n",
       "      <td>0.816315</td>\n",
       "    </tr>\n",
       "    <tr>\n",
       "      <th>Viabilidad final cultivo</th>\n",
       "      <td>0.069182</td>\n",
       "      <td>-0.100817</td>\n",
       "      <td>-0.022883</td>\n",
       "      <td>1.000000</td>\n",
       "      <td>0.038898</td>\n",
       "    </tr>\n",
       "    <tr>\n",
       "      <th>diferencia_turbidez</th>\n",
       "      <td>-0.072153</td>\n",
       "      <td>-0.219295</td>\n",
       "      <td>0.816315</td>\n",
       "      <td>0.038898</td>\n",
       "      <td>1.000000</td>\n",
       "    </tr>\n",
       "  </tbody>\n",
       "</table>\n",
       "</div>"
      ],
      "text/plain": [
       "                          Volumen de cultivo  Turbidez inicio cultivo  \\\n",
       "Volumen de cultivo                  1.000000                 0.050441   \n",
       "Turbidez inicio cultivo             0.050441                 1.000000   \n",
       "Turbidez final culttivo            -0.038405                 0.384534   \n",
       "Viabilidad final cultivo            0.069182                -0.100817   \n",
       "diferencia_turbidez                -0.072153                -0.219295   \n",
       "\n",
       "                          Turbidez final culttivo  Viabilidad final cultivo  \\\n",
       "Volumen de cultivo                      -0.038405                  0.069182   \n",
       "Turbidez inicio cultivo                  0.384534                 -0.100817   \n",
       "Turbidez final culttivo                  1.000000                 -0.022883   \n",
       "Viabilidad final cultivo                -0.022883                  1.000000   \n",
       "diferencia_turbidez                      0.816315                  0.038898   \n",
       "\n",
       "                          diferencia_turbidez  \n",
       "Volumen de cultivo                  -0.072153  \n",
       "Turbidez inicio cultivo             -0.219295  \n",
       "Turbidez final culttivo              0.816315  \n",
       "Viabilidad final cultivo             0.038898  \n",
       "diferencia_turbidez                  1.000000  "
      ]
     },
     "execution_count": 35,
     "metadata": {},
     "output_type": "execute_result"
    }
   ],
   "source": [
    "float_columns = df_inoculo.select_dtypes(include='float')\n",
    "float_columns.corr()"
   ]
  },
  {
   "cell_type": "code",
   "execution_count": 36,
   "metadata": {},
   "outputs": [],
   "source": [
    "# plt.figure(figsize=(8, 6))\n",
    "# sns.heatmap(float_columns.corr(), annot=True, cmap='coolwarm', vmin=-1, vmax=1)\n",
    "# plt.title('Correlation Heatmap of Float Columns')\n",
    "# plt.show()"
   ]
  },
  {
   "cell_type": "markdown",
   "metadata": {},
   "source": [
    "Parece ser la viabilidad guarda poca o nula relación con el resto de variables"
   ]
  },
  {
   "cell_type": "code",
   "execution_count": 37,
   "metadata": {},
   "outputs": [
    {
     "data": {
      "text/plain": [
       "count    152.000000\n",
       "mean      24.477851\n",
       "std        1.355539\n",
       "min       22.083333\n",
       "25%       23.829167\n",
       "50%       24.083333\n",
       "75%       24.891667\n",
       "max       30.166667\n",
       "Name: duracion_horas, dtype: float64"
      ]
     },
     "execution_count": 37,
     "metadata": {},
     "output_type": "execute_result"
    }
   ],
   "source": [
    "df_inoculo['duracion_horas'] = (df_inoculo['Fecha/hora fin'] - df_inoculo['Fecha/hora inicio']).dt.total_seconds() / 3600\n",
    "df_inoculo['duracion_horas'].describe()"
   ]
  },
  {
   "cell_type": "markdown",
   "metadata": {},
   "source": [
    "El proceso de inóculo tarda entre 20 y 30 horas en completarse, siendo unas 25 la \"norma\""
   ]
  },
  {
   "cell_type": "markdown",
   "metadata": {},
   "source": [
    "##### Cultivo final"
   ]
  },
  {
   "cell_type": "code",
   "execution_count": 38,
   "metadata": {},
   "outputs": [
    {
     "data": {
      "text/html": [
       "<div>\n",
       "<style scoped>\n",
       "    .dataframe tbody tr th:only-of-type {\n",
       "        vertical-align: middle;\n",
       "    }\n",
       "\n",
       "    .dataframe tbody tr th {\n",
       "        vertical-align: top;\n",
       "    }\n",
       "\n",
       "    .dataframe thead th {\n",
       "        text-align: right;\n",
       "    }\n",
       "</style>\n",
       "<table border=\"1\" class=\"dataframe\">\n",
       "  <thead>\n",
       "    <tr style=\"text-align: right;\">\n",
       "      <th></th>\n",
       "      <th>LOTE</th>\n",
       "      <th>Orden en el encadenado</th>\n",
       "      <th>LOTE parental</th>\n",
       "      <th>ID Bioreactor</th>\n",
       "      <th>Fecha/hora inicio</th>\n",
       "      <th>Fecha/hora fin</th>\n",
       "      <th>Volumen de inóculo utilizado</th>\n",
       "      <th>Turbidez inicio cultivo</th>\n",
       "      <th>Turbidez fin cultivo</th>\n",
       "      <th>Viabilidad final cultivo</th>\n",
       "      <th>ID Centrífuga</th>\n",
       "      <th>Centrifugación 1 turbidez</th>\n",
       "      <th>Centrifugación 2 turbidez</th>\n",
       "      <th>Producto 1</th>\n",
       "      <th>Producto 2</th>\n",
       "    </tr>\n",
       "  </thead>\n",
       "  <tbody>\n",
       "    <tr>\n",
       "      <th>0</th>\n",
       "      <td>23019</td>\n",
       "      <td>1</td>\n",
       "      <td>NaN</td>\n",
       "      <td>14615</td>\n",
       "      <td>2023-03-21 07:30:00</td>\n",
       "      <td>2023-03-23 06:30:00</td>\n",
       "      <td>82.4</td>\n",
       "      <td>17.28</td>\n",
       "      <td>91.2</td>\n",
       "      <td>184000000</td>\n",
       "      <td>17825</td>\n",
       "      <td>NaN</td>\n",
       "      <td>NaN</td>\n",
       "      <td>1747.920</td>\n",
       "      <td>6.00</td>\n",
       "    </tr>\n",
       "    <tr>\n",
       "      <th>1</th>\n",
       "      <td>23020</td>\n",
       "      <td>1</td>\n",
       "      <td>NaN</td>\n",
       "      <td>14616</td>\n",
       "      <td>2023-03-21 07:30:00</td>\n",
       "      <td>2023-03-23 06:30:00</td>\n",
       "      <td>80.4</td>\n",
       "      <td>18.80</td>\n",
       "      <td>91.2</td>\n",
       "      <td>181600000</td>\n",
       "      <td>14246</td>\n",
       "      <td>NaN</td>\n",
       "      <td>NaN</td>\n",
       "      <td>1676.160</td>\n",
       "      <td>6.56</td>\n",
       "    </tr>\n",
       "    <tr>\n",
       "      <th>2</th>\n",
       "      <td>23021</td>\n",
       "      <td>1</td>\n",
       "      <td>NaN</td>\n",
       "      <td>13170</td>\n",
       "      <td>2023-03-22 07:30:00</td>\n",
       "      <td>2023-03-24 06:30:00</td>\n",
       "      <td>66.4</td>\n",
       "      <td>16.16</td>\n",
       "      <td>86.4</td>\n",
       "      <td>248000000</td>\n",
       "      <td>17825</td>\n",
       "      <td>NaN</td>\n",
       "      <td>NaN</td>\n",
       "      <td>1928.496</td>\n",
       "      <td>8.08</td>\n",
       "    </tr>\n",
       "    <tr>\n",
       "      <th>3</th>\n",
       "      <td>23022</td>\n",
       "      <td>1</td>\n",
       "      <td>NaN</td>\n",
       "      <td>14614</td>\n",
       "      <td>2023-03-22 07:30:00</td>\n",
       "      <td>2023-03-24 06:30:00</td>\n",
       "      <td>85.6</td>\n",
       "      <td>18.48</td>\n",
       "      <td>83.2</td>\n",
       "      <td>229600000</td>\n",
       "      <td>12912</td>\n",
       "      <td>NaN</td>\n",
       "      <td>NaN</td>\n",
       "      <td>1782.800</td>\n",
       "      <td>5.92</td>\n",
       "    </tr>\n",
       "    <tr>\n",
       "      <th>4</th>\n",
       "      <td>23023</td>\n",
       "      <td>1</td>\n",
       "      <td>NaN</td>\n",
       "      <td>14615</td>\n",
       "      <td>2023-03-28 07:27:00</td>\n",
       "      <td>2023-03-30 10:00:00</td>\n",
       "      <td>77.6</td>\n",
       "      <td>17.12</td>\n",
       "      <td>74.4</td>\n",
       "      <td>132800000</td>\n",
       "      <td>17825</td>\n",
       "      <td>26.56</td>\n",
       "      <td>20.88</td>\n",
       "      <td>1861.840</td>\n",
       "      <td>2.96</td>\n",
       "    </tr>\n",
       "  </tbody>\n",
       "</table>\n",
       "</div>"
      ],
      "text/plain": [
       "    LOTE  Orden en el encadenado  LOTE parental  ID Bioreactor  \\\n",
       "0  23019                       1            NaN          14615   \n",
       "1  23020                       1            NaN          14616   \n",
       "2  23021                       1            NaN          13170   \n",
       "3  23022                       1            NaN          14614   \n",
       "4  23023                       1            NaN          14615   \n",
       "\n",
       "    Fecha/hora inicio      Fecha/hora fin  Volumen de inóculo utilizado  \\\n",
       "0 2023-03-21 07:30:00 2023-03-23 06:30:00                          82.4   \n",
       "1 2023-03-21 07:30:00 2023-03-23 06:30:00                          80.4   \n",
       "2 2023-03-22 07:30:00 2023-03-24 06:30:00                          66.4   \n",
       "3 2023-03-22 07:30:00 2023-03-24 06:30:00                          85.6   \n",
       "4 2023-03-28 07:27:00 2023-03-30 10:00:00                          77.6   \n",
       "\n",
       "   Turbidez inicio cultivo  Turbidez fin cultivo Viabilidad final cultivo  \\\n",
       "0                    17.28                  91.2                184000000   \n",
       "1                    18.80                  91.2                181600000   \n",
       "2                    16.16                  86.4                248000000   \n",
       "3                    18.48                  83.2                229600000   \n",
       "4                    17.12                  74.4                132800000   \n",
       "\n",
       "   ID Centrífuga  Centrifugación 1 turbidez  Centrifugación 2 turbidez  \\\n",
       "0          17825                        NaN                        NaN   \n",
       "1          14246                        NaN                        NaN   \n",
       "2          17825                        NaN                        NaN   \n",
       "3          12912                        NaN                        NaN   \n",
       "4          17825                      26.56                      20.88   \n",
       "\n",
       "   Producto 1  Producto 2  \n",
       "0    1747.920        6.00  \n",
       "1    1676.160        6.56  \n",
       "2    1928.496        8.08  \n",
       "3    1782.800        5.92  \n",
       "4    1861.840        2.96  "
      ]
     },
     "execution_count": 38,
     "metadata": {},
     "output_type": "execute_result"
    }
   ],
   "source": [
    "df_cultivo = pd.read_excel('raw_data/Fases producción v02.xlsx', sheet_name='Cultivo final', engine='openpyxl')\n",
    "df_cultivo.head(5)"
   ]
  },
  {
   "cell_type": "code",
   "execution_count": 39,
   "metadata": {},
   "outputs": [
    {
     "data": {
      "text/plain": [
       "(152, 15)"
      ]
     },
     "execution_count": 39,
     "metadata": {},
     "output_type": "execute_result"
    }
   ],
   "source": [
    "df_cultivo.shape"
   ]
  },
  {
   "cell_type": "code",
   "execution_count": 40,
   "metadata": {},
   "outputs": [
    {
     "data": {
      "text/plain": [
       "(151, 15)"
      ]
     },
     "execution_count": 40,
     "metadata": {},
     "output_type": "execute_result"
    }
   ],
   "source": [
    "df_cultivo = df_cultivo[df_cultivo['LOTE'].isin(LOTES)]\n",
    "df_cultivo.shape"
   ]
  },
  {
   "cell_type": "code",
   "execution_count": 41,
   "metadata": {},
   "outputs": [
    {
     "name": "stdout",
     "output_type": "stream",
     "text": [
      "<class 'pandas.core.frame.DataFrame'>\n",
      "Index: 151 entries, 0 to 151\n",
      "Data columns (total 15 columns):\n",
      " #   Column                        Non-Null Count  Dtype         \n",
      "---  ------                        --------------  -----         \n",
      " 0   LOTE                          151 non-null    int64         \n",
      " 1   Orden en el encadenado        151 non-null    int64         \n",
      " 2   LOTE parental                 22 non-null     float64       \n",
      " 3   ID Bioreactor                 151 non-null    int64         \n",
      " 4   Fecha/hora inicio             151 non-null    datetime64[ns]\n",
      " 5   Fecha/hora fin                151 non-null    datetime64[ns]\n",
      " 6   Volumen de inóculo utilizado  146 non-null    float64       \n",
      " 7   Turbidez inicio cultivo       151 non-null    float64       \n",
      " 8   Turbidez fin cultivo          151 non-null    float64       \n",
      " 9   Viabilidad final cultivo      151 non-null    object        \n",
      " 10  ID Centrífuga                 151 non-null    int64         \n",
      " 11  Centrifugación 1 turbidez     147 non-null    float64       \n",
      " 12  Centrifugación 2 turbidez     142 non-null    float64       \n",
      " 13  Producto 1                    151 non-null    float64       \n",
      " 14  Producto 2                    151 non-null    float64       \n",
      "dtypes: datetime64[ns](2), float64(8), int64(4), object(1)\n",
      "memory usage: 18.9+ KB\n"
     ]
    }
   ],
   "source": [
    "df_cultivo.info()"
   ]
  },
  {
   "cell_type": "code",
   "execution_count": 42,
   "metadata": {},
   "outputs": [],
   "source": [
    "df_cultivo['Viabilidad final cultivo'] = pd.to_numeric(df_cultivo['Viabilidad final cultivo'], errors='coerce')"
   ]
  },
  {
   "cell_type": "code",
   "execution_count": 43,
   "metadata": {},
   "outputs": [
    {
     "data": {
      "text/plain": [
       "LOTE                              0\n",
       "Orden en el encadenado            0\n",
       "LOTE parental                   129\n",
       "ID Bioreactor                     0\n",
       "Fecha/hora inicio                 0\n",
       "Fecha/hora fin                    0\n",
       "Volumen de inóculo utilizado      5\n",
       "Turbidez inicio cultivo           0\n",
       "Turbidez fin cultivo              0\n",
       "Viabilidad final cultivo          1\n",
       "ID Centrífuga                     0\n",
       "Centrifugación 1 turbidez         4\n",
       "Centrifugación 2 turbidez         9\n",
       "Producto 1                        0\n",
       "Producto 2                        0\n",
       "dtype: int64"
      ]
     },
     "execution_count": 43,
     "metadata": {},
     "output_type": "execute_result"
    }
   ],
   "source": [
    "df_cultivo.isna().sum()"
   ]
  },
  {
   "cell_type": "markdown",
   "metadata": {},
   "source": [
    "Los valores nulos para `LOTE parental` no lo son como tal, es decir, en esta variable la ausencia de un valor significa que el lote no ha sido encadenado de uno previo. Esto se comprueba facilmente viendo que el número de valores \"nulos\" corresponde con un orden de encadenado igual a 1.\n",
    "\n",
    "En cuanto al resto de variables:\n",
    "- El volumen de inóculo se puede rescatar de la tabla anterior\n",
    "- La turbidez de la centrifugación debería optarse por otros métodos como por ejemplo el valor medio"
   ]
  },
  {
   "cell_type": "code",
   "execution_count": 44,
   "metadata": {},
   "outputs": [
    {
     "data": {
      "text/plain": [
       "127"
      ]
     },
     "execution_count": 44,
     "metadata": {},
     "output_type": "execute_result"
    }
   ],
   "source": [
    "df_cultivo[df_cultivo['LOTE parental'].isna() & df_cultivo['Orden en el encadenado'] == 1].shape[0]"
   ]
  },
  {
   "cell_type": "markdown",
   "metadata": {},
   "source": [
    "Realizando la comprobación resulta que hay dos registros perdidos de Lote Parental"
   ]
  },
  {
   "cell_type": "code",
   "execution_count": 45,
   "metadata": {},
   "outputs": [
    {
     "data": {
      "text/html": [
       "<div>\n",
       "<style scoped>\n",
       "    .dataframe tbody tr th:only-of-type {\n",
       "        vertical-align: middle;\n",
       "    }\n",
       "\n",
       "    .dataframe tbody tr th {\n",
       "        vertical-align: top;\n",
       "    }\n",
       "\n",
       "    .dataframe thead th {\n",
       "        text-align: right;\n",
       "    }\n",
       "</style>\n",
       "<table border=\"1\" class=\"dataframe\">\n",
       "  <thead>\n",
       "    <tr style=\"text-align: right;\">\n",
       "      <th></th>\n",
       "      <th>LOTE</th>\n",
       "      <th>Orden en el encadenado</th>\n",
       "      <th>LOTE parental</th>\n",
       "      <th>ID Bioreactor</th>\n",
       "      <th>Fecha/hora inicio</th>\n",
       "      <th>Fecha/hora fin</th>\n",
       "      <th>Volumen de inóculo utilizado</th>\n",
       "      <th>Turbidez inicio cultivo</th>\n",
       "      <th>Turbidez fin cultivo</th>\n",
       "      <th>Viabilidad final cultivo</th>\n",
       "      <th>ID Centrífuga</th>\n",
       "      <th>Centrifugación 1 turbidez</th>\n",
       "      <th>Centrifugación 2 turbidez</th>\n",
       "      <th>Producto 1</th>\n",
       "      <th>Producto 2</th>\n",
       "    </tr>\n",
       "  </thead>\n",
       "  <tbody>\n",
       "    <tr>\n",
       "      <th>119</th>\n",
       "      <td>24016</td>\n",
       "      <td>2</td>\n",
       "      <td>NaN</td>\n",
       "      <td>14616</td>\n",
       "      <td>2024-01-22 11:20:00</td>\n",
       "      <td>2024-01-24 09:00:00</td>\n",
       "      <td>80.0</td>\n",
       "      <td>21.44</td>\n",
       "      <td>89.6</td>\n",
       "      <td>157600000.0</td>\n",
       "      <td>17825</td>\n",
       "      <td>34.00</td>\n",
       "      <td>NaN</td>\n",
       "      <td>1671.84</td>\n",
       "      <td>8.16</td>\n",
       "    </tr>\n",
       "    <tr>\n",
       "      <th>120</th>\n",
       "      <td>24017</td>\n",
       "      <td>2</td>\n",
       "      <td>NaN</td>\n",
       "      <td>14617</td>\n",
       "      <td>2024-01-22 11:00:00</td>\n",
       "      <td>2024-01-24 08:15:00</td>\n",
       "      <td>80.0</td>\n",
       "      <td>19.84</td>\n",
       "      <td>83.2</td>\n",
       "      <td>160000000.0</td>\n",
       "      <td>14246</td>\n",
       "      <td>28.56</td>\n",
       "      <td>24.32</td>\n",
       "      <td>1806.96</td>\n",
       "      <td>8.00</td>\n",
       "    </tr>\n",
       "  </tbody>\n",
       "</table>\n",
       "</div>"
      ],
      "text/plain": [
       "      LOTE  Orden en el encadenado  LOTE parental  ID Bioreactor  \\\n",
       "119  24016                       2            NaN          14616   \n",
       "120  24017                       2            NaN          14617   \n",
       "\n",
       "      Fecha/hora inicio      Fecha/hora fin  Volumen de inóculo utilizado  \\\n",
       "119 2024-01-22 11:20:00 2024-01-24 09:00:00                          80.0   \n",
       "120 2024-01-22 11:00:00 2024-01-24 08:15:00                          80.0   \n",
       "\n",
       "     Turbidez inicio cultivo  Turbidez fin cultivo  Viabilidad final cultivo  \\\n",
       "119                    21.44                  89.6               157600000.0   \n",
       "120                    19.84                  83.2               160000000.0   \n",
       "\n",
       "     ID Centrífuga  Centrifugación 1 turbidez  Centrifugación 2 turbidez  \\\n",
       "119          17825                      34.00                        NaN   \n",
       "120          14246                      28.56                      24.32   \n",
       "\n",
       "     Producto 1  Producto 2  \n",
       "119     1671.84        8.16  \n",
       "120     1806.96        8.00  "
      ]
     },
     "execution_count": 45,
     "metadata": {},
     "output_type": "execute_result"
    }
   ],
   "source": [
    "df_cultivo[df_cultivo['LOTE parental'].isna() & ~df_cultivo['Orden en el encadenado'] == 1]"
   ]
  },
  {
   "cell_type": "code",
   "execution_count": 46,
   "metadata": {},
   "outputs": [
    {
     "name": "stdout",
     "output_type": "stream",
     "text": [
      "Bioreactores utilizado [14615 14616 13170 14614 13169 14617 13189]\n"
     ]
    },
    {
     "data": {
      "text/plain": [
       "ID Bioreactor\n",
       "14616    34\n",
       "14615    30\n",
       "13170    29\n",
       "14614    26\n",
       "13169    22\n",
       "14617     9\n",
       "13189     1\n",
       "Name: count, dtype: int64"
      ]
     },
     "execution_count": 46,
     "metadata": {},
     "output_type": "execute_result"
    }
   ],
   "source": [
    "ids_cultivo_biorreactor = df_cultivo['ID Bioreactor'].unique() # [13169, 13170, 14614, 14615, 14616, 14617]\n",
    "print(f\"Bioreactores utilizado {ids_cultivo_biorreactor}\")\n",
    "df_cultivo['ID Bioreactor'].value_counts()"
   ]
  },
  {
   "cell_type": "markdown",
   "metadata": {},
   "source": [
    "Los bioreactores no coinciden con los del enunciado del reto: sobra el número 13189\n",
    "\n",
    "Al contrario con el inóculo, para esta fase su uso no es tan balanceado"
   ]
  },
  {
   "cell_type": "code",
   "execution_count": 47,
   "metadata": {},
   "outputs": [
    {
     "data": {
      "text/html": [
       "<div>\n",
       "<style scoped>\n",
       "    .dataframe tbody tr th:only-of-type {\n",
       "        vertical-align: middle;\n",
       "    }\n",
       "\n",
       "    .dataframe tbody tr th {\n",
       "        vertical-align: top;\n",
       "    }\n",
       "\n",
       "    .dataframe thead th {\n",
       "        text-align: right;\n",
       "    }\n",
       "</style>\n",
       "<table border=\"1\" class=\"dataframe\">\n",
       "  <thead>\n",
       "    <tr style=\"text-align: right;\">\n",
       "      <th></th>\n",
       "      <th>LOTE parental</th>\n",
       "      <th>Volumen de inóculo utilizado</th>\n",
       "      <th>Turbidez inicio cultivo</th>\n",
       "      <th>Turbidez fin cultivo</th>\n",
       "      <th>Viabilidad final cultivo</th>\n",
       "      <th>Centrifugación 1 turbidez</th>\n",
       "      <th>Centrifugación 2 turbidez</th>\n",
       "      <th>Producto 1</th>\n",
       "      <th>Producto 2</th>\n",
       "    </tr>\n",
       "  </thead>\n",
       "  <tbody>\n",
       "    <tr>\n",
       "      <th>count</th>\n",
       "      <td>22.000000</td>\n",
       "      <td>146.000000</td>\n",
       "      <td>151.000000</td>\n",
       "      <td>151.000000</td>\n",
       "      <td>1.500000e+02</td>\n",
       "      <td>147.000000</td>\n",
       "      <td>142.000000</td>\n",
       "      <td>151.000000</td>\n",
       "      <td>151.000000</td>\n",
       "    </tr>\n",
       "    <tr>\n",
       "      <th>mean</th>\n",
       "      <td>23571.818182</td>\n",
       "      <td>81.468493</td>\n",
       "      <td>18.027020</td>\n",
       "      <td>74.447682</td>\n",
       "      <td>1.703360e+08</td>\n",
       "      <td>30.065986</td>\n",
       "      <td>23.621972</td>\n",
       "      <td>1660.989605</td>\n",
       "      <td>6.130257</td>\n",
       "    </tr>\n",
       "    <tr>\n",
       "      <th>std</th>\n",
       "      <td>472.657697</td>\n",
       "      <td>2.252570</td>\n",
       "      <td>3.309846</td>\n",
       "      <td>8.962258</td>\n",
       "      <td>3.843024e+07</td>\n",
       "      <td>15.219392</td>\n",
       "      <td>17.266051</td>\n",
       "      <td>306.960238</td>\n",
       "      <td>1.407989</td>\n",
       "    </tr>\n",
       "    <tr>\n",
       "      <th>min</th>\n",
       "      <td>23085.000000</td>\n",
       "      <td>66.400000</td>\n",
       "      <td>12.560000</td>\n",
       "      <td>42.800000</td>\n",
       "      <td>7.040000e+07</td>\n",
       "      <td>21.280000</td>\n",
       "      <td>9.840000</td>\n",
       "      <td>526.400000</td>\n",
       "      <td>2.800000</td>\n",
       "    </tr>\n",
       "    <tr>\n",
       "      <th>25%</th>\n",
       "      <td>23112.250000</td>\n",
       "      <td>80.000000</td>\n",
       "      <td>16.400000</td>\n",
       "      <td>69.080000</td>\n",
       "      <td>1.482000e+08</td>\n",
       "      <td>26.400000</td>\n",
       "      <td>17.760000</td>\n",
       "      <td>1468.880000</td>\n",
       "      <td>5.160000</td>\n",
       "    </tr>\n",
       "    <tr>\n",
       "      <th>50%</th>\n",
       "      <td>23567.500000</td>\n",
       "      <td>81.600000</td>\n",
       "      <td>17.760000</td>\n",
       "      <td>74.400000</td>\n",
       "      <td>1.652000e+08</td>\n",
       "      <td>28.560000</td>\n",
       "      <td>20.760000</td>\n",
       "      <td>1676.160000</td>\n",
       "      <td>6.080000</td>\n",
       "    </tr>\n",
       "    <tr>\n",
       "      <th>75%</th>\n",
       "      <td>24034.750000</td>\n",
       "      <td>82.800000</td>\n",
       "      <td>18.760000</td>\n",
       "      <td>81.120000</td>\n",
       "      <td>1.926000e+08</td>\n",
       "      <td>30.520000</td>\n",
       "      <td>25.060000</td>\n",
       "      <td>1854.316000</td>\n",
       "      <td>7.120000</td>\n",
       "    </tr>\n",
       "    <tr>\n",
       "      <th>max</th>\n",
       "      <td>24051.000000</td>\n",
       "      <td>88.000000</td>\n",
       "      <td>44.400000</td>\n",
       "      <td>91.200000</td>\n",
       "      <td>3.696000e+08</td>\n",
       "      <td>168.800000</td>\n",
       "      <td>156.960000</td>\n",
       "      <td>2395.360000</td>\n",
       "      <td>9.200000</td>\n",
       "    </tr>\n",
       "  </tbody>\n",
       "</table>\n",
       "</div>"
      ],
      "text/plain": [
       "       LOTE parental  Volumen de inóculo utilizado  Turbidez inicio cultivo  \\\n",
       "count      22.000000                    146.000000               151.000000   \n",
       "mean    23571.818182                     81.468493                18.027020   \n",
       "std       472.657697                      2.252570                 3.309846   \n",
       "min     23085.000000                     66.400000                12.560000   \n",
       "25%     23112.250000                     80.000000                16.400000   \n",
       "50%     23567.500000                     81.600000                17.760000   \n",
       "75%     24034.750000                     82.800000                18.760000   \n",
       "max     24051.000000                     88.000000                44.400000   \n",
       "\n",
       "       Turbidez fin cultivo  Viabilidad final cultivo  \\\n",
       "count            151.000000              1.500000e+02   \n",
       "mean              74.447682              1.703360e+08   \n",
       "std                8.962258              3.843024e+07   \n",
       "min               42.800000              7.040000e+07   \n",
       "25%               69.080000              1.482000e+08   \n",
       "50%               74.400000              1.652000e+08   \n",
       "75%               81.120000              1.926000e+08   \n",
       "max               91.200000              3.696000e+08   \n",
       "\n",
       "       Centrifugación 1 turbidez  Centrifugación 2 turbidez   Producto 1  \\\n",
       "count                 147.000000                 142.000000   151.000000   \n",
       "mean                   30.065986                  23.621972  1660.989605   \n",
       "std                    15.219392                  17.266051   306.960238   \n",
       "min                    21.280000                   9.840000   526.400000   \n",
       "25%                    26.400000                  17.760000  1468.880000   \n",
       "50%                    28.560000                  20.760000  1676.160000   \n",
       "75%                    30.520000                  25.060000  1854.316000   \n",
       "max                   168.800000                 156.960000  2395.360000   \n",
       "\n",
       "       Producto 2  \n",
       "count  151.000000  \n",
       "mean     6.130257  \n",
       "std      1.407989  \n",
       "min      2.800000  \n",
       "25%      5.160000  \n",
       "50%      6.080000  \n",
       "75%      7.120000  \n",
       "max      9.200000  "
      ]
     },
     "execution_count": 47,
     "metadata": {},
     "output_type": "execute_result"
    }
   ],
   "source": [
    "df_cultivo.describe(include=float)"
   ]
  },
  {
   "cell_type": "markdown",
   "metadata": {},
   "source": [
    "- La desviación en la producción de Producto 1 (nuestra variable objetivo) es considerablemente alta. Ahora entendemos el porque del reto. Los resultados de las fases no son estables, los máximos y mínimos son muy dispares\n",
    "- La media de la viabilidad del cultivo aumenta ligeramente en esta fase respecto la anterior. \n",
    "- El volumen de inóculo utilizado es \"casi\" constante (mismo punto de partida)"
   ]
  },
  {
   "cell_type": "code",
   "execution_count": 48,
   "metadata": {},
   "outputs": [
    {
     "data": {
      "text/plain": [
       "count    151.000000\n",
       "mean      56.420662\n",
       "std        9.180736\n",
       "min       24.720000\n",
       "25%       51.120000\n",
       "50%       56.480000\n",
       "75%       63.680000\n",
       "max       73.920000\n",
       "Name: diferencia_turbidez, dtype: float64"
      ]
     },
     "execution_count": 48,
     "metadata": {},
     "output_type": "execute_result"
    }
   ],
   "source": [
    "df_cultivo['diferencia_turbidez'] = df_cultivo['Turbidez fin cultivo'] - df_cultivo['Turbidez inicio cultivo']\n",
    "df_cultivo['diferencia_turbidez'].describe()"
   ]
  },
  {
   "cell_type": "code",
   "execution_count": 49,
   "metadata": {},
   "outputs": [
    {
     "data": {
      "text/plain": [
       "count    142.000000\n",
       "mean      -6.467746\n",
       "std        7.285305\n",
       "min      -21.380000\n",
       "25%      -11.100000\n",
       "50%       -7.240000\n",
       "75%       -3.080000\n",
       "max       24.960000\n",
       "Name: diferencia_turbidez_centrifuga, dtype: float64"
      ]
     },
     "execution_count": 49,
     "metadata": {},
     "output_type": "execute_result"
    }
   ],
   "source": [
    "df_cultivo['diferencia_turbidez_centrifuga'] = df_cultivo['Centrifugación 2 turbidez'] - df_cultivo['Centrifugación 1 turbidez']\n",
    "df_cultivo['diferencia_turbidez_centrifuga'].describe()"
   ]
  },
  {
   "cell_type": "markdown",
   "metadata": {},
   "source": [
    "Mientras que en los bioreactores la turbidez aumenta, con la centrifugación el producto se \"aclara\".\n",
    "Notamos que la turbidez aumenta de forma más drástica que en el inóculo."
   ]
  },
  {
   "cell_type": "code",
   "execution_count": 50,
   "metadata": {},
   "outputs": [
    {
     "data": {
      "text/plain": [
       "count    151.000000\n",
       "mean      48.115342\n",
       "std        1.955472\n",
       "min       42.000000\n",
       "25%       47.508333\n",
       "50%       48.333333\n",
       "75%       49.250000\n",
       "max       53.750000\n",
       "Name: duracion_horas, dtype: float64"
      ]
     },
     "execution_count": 50,
     "metadata": {},
     "output_type": "execute_result"
    }
   ],
   "source": [
    "df_cultivo['duracion_horas'] = (df_cultivo['Fecha/hora fin'] - df_cultivo['Fecha/hora inicio']).dt.total_seconds() / 3600\n",
    "df_cultivo['duracion_horas'].describe()"
   ]
  },
  {
   "cell_type": "markdown",
   "metadata": {},
   "source": [
    "La fase de cultibo ronda entre las 40 y 50 horas, lo cual es un incremento de 10 respecto al inóculo. \"Haciendo la cuenta a la vieja\", el total de horas necesario para completar todo el proceso hasta obtener el producto rondaría a grosso modo unas ~100 horas"
   ]
  },
  {
   "cell_type": "markdown",
   "metadata": {},
   "source": [
    "#### Exploración Biorreactores"
   ]
  },
  {
   "cell_type": "markdown",
   "metadata": {},
   "source": [
    "Dado que el formato de datos es el mismo para todos los bioreactores, cogeremos dos \"aleatoriamente\" como muestra. Un bioreactor pequeño y otro de los grandes para ver si hay alguna diferencia en las métricas obtenidas."
   ]
  },
  {
   "cell_type": "markdown",
   "metadata": {},
   "source": [
    "A diferencia de los datos explorados hasta ahora, estos son por naturaleza temporales. Esto debe tenerse en cuanta a la hora de mostras cualquier datos estadísticos"
   ]
  },
  {
   "cell_type": "code",
   "execution_count": 85,
   "metadata": {},
   "outputs": [
    {
     "data": {
      "text/html": [
       "<div>\n",
       "<style scoped>\n",
       "    .dataframe tbody tr th:only-of-type {\n",
       "        vertical-align: middle;\n",
       "    }\n",
       "\n",
       "    .dataframe tbody tr th {\n",
       "        vertical-align: top;\n",
       "    }\n",
       "\n",
       "    .dataframe thead th {\n",
       "        text-align: right;\n",
       "    }\n",
       "</style>\n",
       "<table border=\"1\" class=\"dataframe\">\n",
       "  <thead>\n",
       "    <tr style=\"text-align: right;\">\n",
       "      <th></th>\n",
       "      <th>13172_FERM0101.Agitation_PV</th>\n",
       "      <th>13172_FERM0101.Air_Sparge_PV</th>\n",
       "      <th>13172_FERM0101.Biocontainer_Pressure_PV</th>\n",
       "      <th>13172_FERM0101.DO_1_PV</th>\n",
       "      <th>13172_FERM0101.DO_2_PV</th>\n",
       "      <th>13172_FERM0101.Gas_Overlay_PV</th>\n",
       "      <th>13172_FERM0101.Load_Cell_Net_PV</th>\n",
       "      <th>13172_FERM0101.pH_1_PV</th>\n",
       "      <th>13172_FERM0101.pH_2_PV</th>\n",
       "      <th>13172_FERM0101.PUMP_1_PV</th>\n",
       "      <th>13172_FERM0101.PUMP_1_TOTAL</th>\n",
       "      <th>13172_FERM0101.PUMP_2_PV</th>\n",
       "      <th>13172_FERM0101.PUMP_2_TOTAL</th>\n",
       "      <th>13172_FERM0101.Single_Use_DO_PV</th>\n",
       "      <th>13172_FERM0101.Single_Use_pH_PV</th>\n",
       "      <th>13172_FERM0101.Temperatura_PV</th>\n",
       "    </tr>\n",
       "    <tr>\n",
       "      <th>DateTime</th>\n",
       "      <th></th>\n",
       "      <th></th>\n",
       "      <th></th>\n",
       "      <th></th>\n",
       "      <th></th>\n",
       "      <th></th>\n",
       "      <th></th>\n",
       "      <th></th>\n",
       "      <th></th>\n",
       "      <th></th>\n",
       "      <th></th>\n",
       "      <th></th>\n",
       "      <th></th>\n",
       "      <th></th>\n",
       "      <th></th>\n",
       "      <th></th>\n",
       "    </tr>\n",
       "  </thead>\n",
       "  <tbody>\n",
       "    <tr>\n",
       "      <th>2023-03-15 00:00:00</th>\n",
       "      <td>0.0</td>\n",
       "      <td>0.0</td>\n",
       "      <td>480.0</td>\n",
       "      <td>NaN</td>\n",
       "      <td>0.0</td>\n",
       "      <td>0.0</td>\n",
       "      <td>-6.72</td>\n",
       "      <td>1.694073</td>\n",
       "      <td>-0.851783</td>\n",
       "      <td>0.0</td>\n",
       "      <td>4.96</td>\n",
       "      <td>0.0</td>\n",
       "      <td>0.0</td>\n",
       "      <td>875.360547</td>\n",
       "      <td>800.391992</td>\n",
       "      <td>19.376315</td>\n",
       "    </tr>\n",
       "    <tr>\n",
       "      <th>2023-03-15 00:15:00</th>\n",
       "      <td>0.0</td>\n",
       "      <td>0.0</td>\n",
       "      <td>480.0</td>\n",
       "      <td>NaN</td>\n",
       "      <td>0.0</td>\n",
       "      <td>0.0</td>\n",
       "      <td>-6.72</td>\n",
       "      <td>1.694073</td>\n",
       "      <td>-0.851783</td>\n",
       "      <td>0.0</td>\n",
       "      <td>4.96</td>\n",
       "      <td>0.0</td>\n",
       "      <td>0.0</td>\n",
       "      <td>875.360547</td>\n",
       "      <td>800.391992</td>\n",
       "      <td>19.376001</td>\n",
       "    </tr>\n",
       "    <tr>\n",
       "      <th>2023-03-15 00:30:00</th>\n",
       "      <td>0.0</td>\n",
       "      <td>0.0</td>\n",
       "      <td>480.0</td>\n",
       "      <td>NaN</td>\n",
       "      <td>0.0</td>\n",
       "      <td>0.0</td>\n",
       "      <td>-6.72</td>\n",
       "      <td>1.694073</td>\n",
       "      <td>-0.851783</td>\n",
       "      <td>0.0</td>\n",
       "      <td>4.96</td>\n",
       "      <td>0.0</td>\n",
       "      <td>0.0</td>\n",
       "      <td>875.360547</td>\n",
       "      <td>800.391992</td>\n",
       "      <td>19.272022</td>\n",
       "    </tr>\n",
       "    <tr>\n",
       "      <th>2023-03-15 00:45:00</th>\n",
       "      <td>0.0</td>\n",
       "      <td>0.0</td>\n",
       "      <td>480.0</td>\n",
       "      <td>NaN</td>\n",
       "      <td>0.0</td>\n",
       "      <td>0.0</td>\n",
       "      <td>-6.72</td>\n",
       "      <td>1.694073</td>\n",
       "      <td>-0.851783</td>\n",
       "      <td>0.0</td>\n",
       "      <td>4.96</td>\n",
       "      <td>0.0</td>\n",
       "      <td>0.0</td>\n",
       "      <td>875.360547</td>\n",
       "      <td>800.391992</td>\n",
       "      <td>19.271780</td>\n",
       "    </tr>\n",
       "    <tr>\n",
       "      <th>2023-03-15 01:00:00</th>\n",
       "      <td>0.0</td>\n",
       "      <td>0.0</td>\n",
       "      <td>480.0</td>\n",
       "      <td>NaN</td>\n",
       "      <td>0.0</td>\n",
       "      <td>0.0</td>\n",
       "      <td>-6.72</td>\n",
       "      <td>1.694073</td>\n",
       "      <td>-0.851783</td>\n",
       "      <td>0.0</td>\n",
       "      <td>4.96</td>\n",
       "      <td>0.0</td>\n",
       "      <td>0.0</td>\n",
       "      <td>875.360547</td>\n",
       "      <td>800.391992</td>\n",
       "      <td>19.272565</td>\n",
       "    </tr>\n",
       "  </tbody>\n",
       "</table>\n",
       "</div>"
      ],
      "text/plain": [
       "                     13172_FERM0101.Agitation_PV  \\\n",
       "DateTime                                           \n",
       "2023-03-15 00:00:00                          0.0   \n",
       "2023-03-15 00:15:00                          0.0   \n",
       "2023-03-15 00:30:00                          0.0   \n",
       "2023-03-15 00:45:00                          0.0   \n",
       "2023-03-15 01:00:00                          0.0   \n",
       "\n",
       "                     13172_FERM0101.Air_Sparge_PV  \\\n",
       "DateTime                                            \n",
       "2023-03-15 00:00:00                           0.0   \n",
       "2023-03-15 00:15:00                           0.0   \n",
       "2023-03-15 00:30:00                           0.0   \n",
       "2023-03-15 00:45:00                           0.0   \n",
       "2023-03-15 01:00:00                           0.0   \n",
       "\n",
       "                     13172_FERM0101.Biocontainer_Pressure_PV  \\\n",
       "DateTime                                                       \n",
       "2023-03-15 00:00:00                                    480.0   \n",
       "2023-03-15 00:15:00                                    480.0   \n",
       "2023-03-15 00:30:00                                    480.0   \n",
       "2023-03-15 00:45:00                                    480.0   \n",
       "2023-03-15 01:00:00                                    480.0   \n",
       "\n",
       "                     13172_FERM0101.DO_1_PV  13172_FERM0101.DO_2_PV  \\\n",
       "DateTime                                                              \n",
       "2023-03-15 00:00:00                     NaN                     0.0   \n",
       "2023-03-15 00:15:00                     NaN                     0.0   \n",
       "2023-03-15 00:30:00                     NaN                     0.0   \n",
       "2023-03-15 00:45:00                     NaN                     0.0   \n",
       "2023-03-15 01:00:00                     NaN                     0.0   \n",
       "\n",
       "                     13172_FERM0101.Gas_Overlay_PV  \\\n",
       "DateTime                                             \n",
       "2023-03-15 00:00:00                            0.0   \n",
       "2023-03-15 00:15:00                            0.0   \n",
       "2023-03-15 00:30:00                            0.0   \n",
       "2023-03-15 00:45:00                            0.0   \n",
       "2023-03-15 01:00:00                            0.0   \n",
       "\n",
       "                     13172_FERM0101.Load_Cell_Net_PV  13172_FERM0101.pH_1_PV  \\\n",
       "DateTime                                                                       \n",
       "2023-03-15 00:00:00                            -6.72                1.694073   \n",
       "2023-03-15 00:15:00                            -6.72                1.694073   \n",
       "2023-03-15 00:30:00                            -6.72                1.694073   \n",
       "2023-03-15 00:45:00                            -6.72                1.694073   \n",
       "2023-03-15 01:00:00                            -6.72                1.694073   \n",
       "\n",
       "                     13172_FERM0101.pH_2_PV  13172_FERM0101.PUMP_1_PV  \\\n",
       "DateTime                                                                \n",
       "2023-03-15 00:00:00               -0.851783                       0.0   \n",
       "2023-03-15 00:15:00               -0.851783                       0.0   \n",
       "2023-03-15 00:30:00               -0.851783                       0.0   \n",
       "2023-03-15 00:45:00               -0.851783                       0.0   \n",
       "2023-03-15 01:00:00               -0.851783                       0.0   \n",
       "\n",
       "                     13172_FERM0101.PUMP_1_TOTAL  13172_FERM0101.PUMP_2_PV  \\\n",
       "DateTime                                                                     \n",
       "2023-03-15 00:00:00                         4.96                       0.0   \n",
       "2023-03-15 00:15:00                         4.96                       0.0   \n",
       "2023-03-15 00:30:00                         4.96                       0.0   \n",
       "2023-03-15 00:45:00                         4.96                       0.0   \n",
       "2023-03-15 01:00:00                         4.96                       0.0   \n",
       "\n",
       "                     13172_FERM0101.PUMP_2_TOTAL  \\\n",
       "DateTime                                           \n",
       "2023-03-15 00:00:00                          0.0   \n",
       "2023-03-15 00:15:00                          0.0   \n",
       "2023-03-15 00:30:00                          0.0   \n",
       "2023-03-15 00:45:00                          0.0   \n",
       "2023-03-15 01:00:00                          0.0   \n",
       "\n",
       "                     13172_FERM0101.Single_Use_DO_PV  \\\n",
       "DateTime                                               \n",
       "2023-03-15 00:00:00                       875.360547   \n",
       "2023-03-15 00:15:00                       875.360547   \n",
       "2023-03-15 00:30:00                       875.360547   \n",
       "2023-03-15 00:45:00                       875.360547   \n",
       "2023-03-15 01:00:00                       875.360547   \n",
       "\n",
       "                     13172_FERM0101.Single_Use_pH_PV  \\\n",
       "DateTime                                               \n",
       "2023-03-15 00:00:00                       800.391992   \n",
       "2023-03-15 00:15:00                       800.391992   \n",
       "2023-03-15 00:30:00                       800.391992   \n",
       "2023-03-15 00:45:00                       800.391992   \n",
       "2023-03-15 01:00:00                       800.391992   \n",
       "\n",
       "                     13172_FERM0101.Temperatura_PV  \n",
       "DateTime                                            \n",
       "2023-03-15 00:00:00                      19.376315  \n",
       "2023-03-15 00:15:00                      19.376001  \n",
       "2023-03-15 00:30:00                      19.272022  \n",
       "2023-03-15 00:45:00                      19.271780  \n",
       "2023-03-15 01:00:00                      19.272565  "
      ]
     },
     "execution_count": 85,
     "metadata": {},
     "output_type": "execute_result"
    }
   ],
   "source": [
    "np.random.seed(seed)\n",
    "bioreactor_choice = np.random.choice(ids_inoculo_biorreactor)\n",
    "\n",
    "df_biorreactor_inoculo = pd.read_excel(f'raw_data/Biorreactor {bioreactor_choice}.xlsx',\n",
    "                               sheet_name='Datos', index_col='DateTime', parse_dates=True, engine='openpyxl')\n",
    "df_biorreactor_inoculo.head(5)"
   ]
  },
  {
   "cell_type": "code",
   "execution_count": 86,
   "metadata": {},
   "outputs": [
    {
     "name": "stdout",
     "output_type": "stream",
     "text": [
      "<class 'pandas.core.frame.DataFrame'>\n",
      "DatetimeIndex: 52413 entries, 2023-03-15 00:00:00 to 2024-09-11 00:00:00\n",
      "Data columns (total 16 columns):\n",
      " #   Column                                   Non-Null Count  Dtype  \n",
      "---  ------                                   --------------  -----  \n",
      " 0   13172_FERM0101.Agitation_PV              48086 non-null  float64\n",
      " 1   13172_FERM0101.Air_Sparge_PV             48086 non-null  float64\n",
      " 2   13172_FERM0101.Biocontainer_Pressure_PV  48087 non-null  float64\n",
      " 3   13172_FERM0101.DO_1_PV                   1178 non-null   float64\n",
      " 4   13172_FERM0101.DO_2_PV                   48086 non-null  float64\n",
      " 5   13172_FERM0101.Gas_Overlay_PV            48086 non-null  float64\n",
      " 6   13172_FERM0101.Load_Cell_Net_PV          48087 non-null  float64\n",
      " 7   13172_FERM0101.pH_1_PV                   48087 non-null  float64\n",
      " 8   13172_FERM0101.pH_2_PV                   48087 non-null  float64\n",
      " 9   13172_FERM0101.PUMP_1_PV                 48086 non-null  float64\n",
      " 10  13172_FERM0101.PUMP_1_TOTAL              48087 non-null  float64\n",
      " 11  13172_FERM0101.PUMP_2_PV                 48086 non-null  float64\n",
      " 12  13172_FERM0101.PUMP_2_TOTAL              48087 non-null  float64\n",
      " 13  13172_FERM0101.Single_Use_DO_PV          48086 non-null  float64\n",
      " 14  13172_FERM0101.Single_Use_pH_PV          48086 non-null  float64\n",
      " 15  13172_FERM0101.Temperatura_PV            48087 non-null  float64\n",
      "dtypes: float64(16)\n",
      "memory usage: 6.8 MB\n"
     ]
    }
   ],
   "source": [
    "df_biorreactor_inoculo.info()"
   ]
  },
  {
   "cell_type": "code",
   "execution_count": 87,
   "metadata": {},
   "outputs": [
    {
     "data": {
      "text/plain": [
       "13172_FERM0101.Agitation_PV                0.082556\n",
       "13172_FERM0101.Air_Sparge_PV               0.082556\n",
       "13172_FERM0101.Biocontainer_Pressure_PV    0.082537\n",
       "13172_FERM0101.DO_1_PV                     0.977525\n",
       "13172_FERM0101.DO_2_PV                     0.082556\n",
       "13172_FERM0101.Gas_Overlay_PV              0.082556\n",
       "13172_FERM0101.Load_Cell_Net_PV            0.082537\n",
       "13172_FERM0101.pH_1_PV                     0.082537\n",
       "13172_FERM0101.pH_2_PV                     0.082537\n",
       "13172_FERM0101.PUMP_1_PV                   0.082556\n",
       "13172_FERM0101.PUMP_1_TOTAL                0.082537\n",
       "13172_FERM0101.PUMP_2_PV                   0.082556\n",
       "13172_FERM0101.PUMP_2_TOTAL                0.082537\n",
       "13172_FERM0101.Single_Use_DO_PV            0.082556\n",
       "13172_FERM0101.Single_Use_pH_PV            0.082556\n",
       "13172_FERM0101.Temperatura_PV              0.082537\n",
       "dtype: float64"
      ]
     },
     "execution_count": 87,
     "metadata": {},
     "output_type": "execute_result"
    }
   ],
   "source": [
    "df_biorreactor_inoculo.isna().sum() / df_biorreactor_inoculo.shape[0]"
   ]
  },
  {
   "cell_type": "markdown",
   "metadata": {},
   "source": [
    "A pesar de haber un numero \"grande\" de registros perdidos, al ser un conjunto de tamaño considerable, los valores perdidos no cobran tanta importancia. Aun así, a primera vista parece que los números de registros nulos coinciden para casi todas las variables. Veamos si hay algun patrón oculto con unas simples consultas"
   ]
  },
  {
   "cell_type": "code",
   "execution_count": 88,
   "metadata": {},
   "outputs": [
    {
     "data": {
      "text/plain": [
       "(4325, 16)"
      ]
     },
     "execution_count": 88,
     "metadata": {},
     "output_type": "execute_result"
    }
   ],
   "source": [
    "all_nulls = df_biorreactor_inoculo[df_biorreactor_inoculo.isna().all(axis=1)]\n",
    "all_nulls.shape"
   ]
  },
  {
   "cell_type": "markdown",
   "metadata": {},
   "source": [
    "Hay un número considerable de muestras en las que no se ha registrado ninguna variable. Podemos suponer que en dichas horas, los biorreactores no están en funcionamiento o bien hay algun error en los sensores"
   ]
  },
  {
   "cell_type": "code",
   "execution_count": 89,
   "metadata": {},
   "outputs": [
    {
     "data": {
      "text/plain": [
       "DateTime\n",
       "3    2479\n",
       "4    1046\n",
       "1     797\n",
       "2       3\n",
       "Name: count, dtype: int64"
      ]
     },
     "execution_count": 89,
     "metadata": {},
     "output_type": "execute_result"
    }
   ],
   "source": [
    "df_biorreactor_inoculo[df_biorreactor_inoculo.isna().all(axis=1)].index.quarter.value_counts()"
   ]
  },
  {
   "cell_type": "markdown",
   "metadata": {},
   "source": [
    "Viendo las \"cuartos de año\" en los que todos las variables obtenidas son nulas, vemos que es mas habitual durante los meses de vacaciones (Julio, Agosto y Septiembre)"
   ]
  },
  {
   "cell_type": "markdown",
   "metadata": {},
   "source": [
    "Son muchas de las variables que se miden, pero al igual que en las anteriores tablas, no tenemos puntos de referencia ni tampoco unidades de medida. Por lo que interpretar los datos estadísticos se vuelve algo de poca utilidad. Veamoslo con un ejemplo de lote \"aleatorio\" para ver como se comporta."
   ]
  },
  {
   "cell_type": "code",
   "execution_count": 91,
   "metadata": {},
   "outputs": [
    {
     "data": {
      "text/plain": [
       "24009"
      ]
     },
     "execution_count": 91,
     "metadata": {},
     "output_type": "execute_result"
    }
   ],
   "source": [
    "np.random.seed(seed)\n",
    "lote_choice = np.random.choice(df_inoculo[df_inoculo['ID bioreactor'] == bioreactor_choice]['LOTE'])\n",
    "lote_choice"
   ]
  },
  {
   "cell_type": "code",
   "execution_count": 111,
   "metadata": {},
   "outputs": [
    {
     "name": "stdout",
     "output_type": "stream",
     "text": [
      "2024-01-22 07:30:00\n",
      "2024-01-23 06:45:00\n"
     ]
    }
   ],
   "source": [
    "ini, fin = df_inoculo[df_inoculo['LOTE'] == lote_choice][['Fecha/hora inicio', 'Fecha/hora fin']].iloc[0]\n",
    "print(ini)\n",
    "print(fin)"
   ]
  },
  {
   "cell_type": "code",
   "execution_count": 120,
   "metadata": {},
   "outputs": [
    {
     "data": {
      "text/html": [
       "<div>\n",
       "<style scoped>\n",
       "    .dataframe tbody tr th:only-of-type {\n",
       "        vertical-align: middle;\n",
       "    }\n",
       "\n",
       "    .dataframe tbody tr th {\n",
       "        vertical-align: top;\n",
       "    }\n",
       "\n",
       "    .dataframe thead th {\n",
       "        text-align: right;\n",
       "    }\n",
       "</style>\n",
       "<table border=\"1\" class=\"dataframe\">\n",
       "  <thead>\n",
       "    <tr style=\"text-align: right;\">\n",
       "      <th></th>\n",
       "      <th>13172_FERM0101.Agitation_PV</th>\n",
       "      <th>13172_FERM0101.Air_Sparge_PV</th>\n",
       "      <th>13172_FERM0101.Biocontainer_Pressure_PV</th>\n",
       "      <th>13172_FERM0101.DO_1_PV</th>\n",
       "      <th>13172_FERM0101.DO_2_PV</th>\n",
       "      <th>13172_FERM0101.Gas_Overlay_PV</th>\n",
       "      <th>13172_FERM0101.Load_Cell_Net_PV</th>\n",
       "      <th>13172_FERM0101.pH_1_PV</th>\n",
       "      <th>13172_FERM0101.pH_2_PV</th>\n",
       "      <th>13172_FERM0101.PUMP_1_PV</th>\n",
       "      <th>13172_FERM0101.PUMP_1_TOTAL</th>\n",
       "      <th>13172_FERM0101.PUMP_2_PV</th>\n",
       "      <th>13172_FERM0101.PUMP_2_TOTAL</th>\n",
       "      <th>13172_FERM0101.Single_Use_DO_PV</th>\n",
       "      <th>13172_FERM0101.Single_Use_pH_PV</th>\n",
       "      <th>13172_FERM0101.Temperatura_PV</th>\n",
       "    </tr>\n",
       "    <tr>\n",
       "      <th>DateTime</th>\n",
       "      <th></th>\n",
       "      <th></th>\n",
       "      <th></th>\n",
       "      <th></th>\n",
       "      <th></th>\n",
       "      <th></th>\n",
       "      <th></th>\n",
       "      <th></th>\n",
       "      <th></th>\n",
       "      <th></th>\n",
       "      <th></th>\n",
       "      <th></th>\n",
       "      <th></th>\n",
       "      <th></th>\n",
       "      <th></th>\n",
       "      <th></th>\n",
       "    </tr>\n",
       "  </thead>\n",
       "  <tbody>\n",
       "    <tr>\n",
       "      <th>2024-01-22 13:00:00</th>\n",
       "      <td>72.0</td>\n",
       "      <td>0.000000</td>\n",
       "      <td>3.131914</td>\n",
       "      <td>NaN</td>\n",
       "      <td>23.811433</td>\n",
       "      <td>3.999880</td>\n",
       "      <td>167.200000</td>\n",
       "      <td>-4.686229</td>\n",
       "      <td>5.935721</td>\n",
       "      <td>0.0</td>\n",
       "      <td>9.92</td>\n",
       "      <td>0.000000</td>\n",
       "      <td>0.0</td>\n",
       "      <td>26.101918</td>\n",
       "      <td>5.960000</td>\n",
       "      <td>29.223999</td>\n",
       "    </tr>\n",
       "    <tr>\n",
       "      <th>2024-01-23 05:15:00</th>\n",
       "      <td>72.0</td>\n",
       "      <td>10.977847</td>\n",
       "      <td>4.631971</td>\n",
       "      <td>NaN</td>\n",
       "      <td>20.031473</td>\n",
       "      <td>3.999148</td>\n",
       "      <td>165.679993</td>\n",
       "      <td>-4.686229</td>\n",
       "      <td>5.879150</td>\n",
       "      <td>0.0</td>\n",
       "      <td>9.92</td>\n",
       "      <td>3.813511</td>\n",
       "      <td>0.0</td>\n",
       "      <td>25.514638</td>\n",
       "      <td>5.951916</td>\n",
       "      <td>29.143994</td>\n",
       "    </tr>\n",
       "    <tr>\n",
       "      <th>2024-01-22 21:30:00</th>\n",
       "      <td>72.0</td>\n",
       "      <td>0.000000</td>\n",
       "      <td>2.049316</td>\n",
       "      <td>NaN</td>\n",
       "      <td>19.228456</td>\n",
       "      <td>3.999898</td>\n",
       "      <td>165.519995</td>\n",
       "      <td>-4.686229</td>\n",
       "      <td>5.903062</td>\n",
       "      <td>0.0</td>\n",
       "      <td>9.92</td>\n",
       "      <td>0.000000</td>\n",
       "      <td>0.0</td>\n",
       "      <td>20.902121</td>\n",
       "      <td>5.959845</td>\n",
       "      <td>29.159998</td>\n",
       "    </tr>\n",
       "    <tr>\n",
       "      <th>2024-01-22 23:30:00</th>\n",
       "      <td>72.0</td>\n",
       "      <td>0.000000</td>\n",
       "      <td>2.275816</td>\n",
       "      <td>NaN</td>\n",
       "      <td>23.346927</td>\n",
       "      <td>3.999922</td>\n",
       "      <td>165.279993</td>\n",
       "      <td>-4.686229</td>\n",
       "      <td>5.878859</td>\n",
       "      <td>0.0</td>\n",
       "      <td>9.92</td>\n",
       "      <td>0.585941</td>\n",
       "      <td>0.0</td>\n",
       "      <td>25.088108</td>\n",
       "      <td>5.944000</td>\n",
       "      <td>29.128003</td>\n",
       "    </tr>\n",
       "    <tr>\n",
       "      <th>2024-01-22 10:00:00</th>\n",
       "      <td>72.0</td>\n",
       "      <td>0.000000</td>\n",
       "      <td>3.234145</td>\n",
       "      <td>NaN</td>\n",
       "      <td>51.139835</td>\n",
       "      <td>3.999656</td>\n",
       "      <td>167.839990</td>\n",
       "      <td>-4.686229</td>\n",
       "      <td>5.927848</td>\n",
       "      <td>0.0</td>\n",
       "      <td>9.92</td>\n",
       "      <td>0.000000</td>\n",
       "      <td>0.0</td>\n",
       "      <td>53.247479</td>\n",
       "      <td>5.960102</td>\n",
       "      <td>29.536408</td>\n",
       "    </tr>\n",
       "  </tbody>\n",
       "</table>\n",
       "</div>"
      ],
      "text/plain": [
       "                     13172_FERM0101.Agitation_PV  \\\n",
       "DateTime                                           \n",
       "2024-01-22 13:00:00                         72.0   \n",
       "2024-01-23 05:15:00                         72.0   \n",
       "2024-01-22 21:30:00                         72.0   \n",
       "2024-01-22 23:30:00                         72.0   \n",
       "2024-01-22 10:00:00                         72.0   \n",
       "\n",
       "                     13172_FERM0101.Air_Sparge_PV  \\\n",
       "DateTime                                            \n",
       "2024-01-22 13:00:00                      0.000000   \n",
       "2024-01-23 05:15:00                     10.977847   \n",
       "2024-01-22 21:30:00                      0.000000   \n",
       "2024-01-22 23:30:00                      0.000000   \n",
       "2024-01-22 10:00:00                      0.000000   \n",
       "\n",
       "                     13172_FERM0101.Biocontainer_Pressure_PV  \\\n",
       "DateTime                                                       \n",
       "2024-01-22 13:00:00                                 3.131914   \n",
       "2024-01-23 05:15:00                                 4.631971   \n",
       "2024-01-22 21:30:00                                 2.049316   \n",
       "2024-01-22 23:30:00                                 2.275816   \n",
       "2024-01-22 10:00:00                                 3.234145   \n",
       "\n",
       "                     13172_FERM0101.DO_1_PV  13172_FERM0101.DO_2_PV  \\\n",
       "DateTime                                                              \n",
       "2024-01-22 13:00:00                     NaN               23.811433   \n",
       "2024-01-23 05:15:00                     NaN               20.031473   \n",
       "2024-01-22 21:30:00                     NaN               19.228456   \n",
       "2024-01-22 23:30:00                     NaN               23.346927   \n",
       "2024-01-22 10:00:00                     NaN               51.139835   \n",
       "\n",
       "                     13172_FERM0101.Gas_Overlay_PV  \\\n",
       "DateTime                                             \n",
       "2024-01-22 13:00:00                       3.999880   \n",
       "2024-01-23 05:15:00                       3.999148   \n",
       "2024-01-22 21:30:00                       3.999898   \n",
       "2024-01-22 23:30:00                       3.999922   \n",
       "2024-01-22 10:00:00                       3.999656   \n",
       "\n",
       "                     13172_FERM0101.Load_Cell_Net_PV  13172_FERM0101.pH_1_PV  \\\n",
       "DateTime                                                                       \n",
       "2024-01-22 13:00:00                       167.200000               -4.686229   \n",
       "2024-01-23 05:15:00                       165.679993               -4.686229   \n",
       "2024-01-22 21:30:00                       165.519995               -4.686229   \n",
       "2024-01-22 23:30:00                       165.279993               -4.686229   \n",
       "2024-01-22 10:00:00                       167.839990               -4.686229   \n",
       "\n",
       "                     13172_FERM0101.pH_2_PV  13172_FERM0101.PUMP_1_PV  \\\n",
       "DateTime                                                                \n",
       "2024-01-22 13:00:00                5.935721                       0.0   \n",
       "2024-01-23 05:15:00                5.879150                       0.0   \n",
       "2024-01-22 21:30:00                5.903062                       0.0   \n",
       "2024-01-22 23:30:00                5.878859                       0.0   \n",
       "2024-01-22 10:00:00                5.927848                       0.0   \n",
       "\n",
       "                     13172_FERM0101.PUMP_1_TOTAL  13172_FERM0101.PUMP_2_PV  \\\n",
       "DateTime                                                                     \n",
       "2024-01-22 13:00:00                         9.92                  0.000000   \n",
       "2024-01-23 05:15:00                         9.92                  3.813511   \n",
       "2024-01-22 21:30:00                         9.92                  0.000000   \n",
       "2024-01-22 23:30:00                         9.92                  0.585941   \n",
       "2024-01-22 10:00:00                         9.92                  0.000000   \n",
       "\n",
       "                     13172_FERM0101.PUMP_2_TOTAL  \\\n",
       "DateTime                                           \n",
       "2024-01-22 13:00:00                          0.0   \n",
       "2024-01-23 05:15:00                          0.0   \n",
       "2024-01-22 21:30:00                          0.0   \n",
       "2024-01-22 23:30:00                          0.0   \n",
       "2024-01-22 10:00:00                          0.0   \n",
       "\n",
       "                     13172_FERM0101.Single_Use_DO_PV  \\\n",
       "DateTime                                               \n",
       "2024-01-22 13:00:00                        26.101918   \n",
       "2024-01-23 05:15:00                        25.514638   \n",
       "2024-01-22 21:30:00                        20.902121   \n",
       "2024-01-22 23:30:00                        25.088108   \n",
       "2024-01-22 10:00:00                        53.247479   \n",
       "\n",
       "                     13172_FERM0101.Single_Use_pH_PV  \\\n",
       "DateTime                                               \n",
       "2024-01-22 13:00:00                         5.960000   \n",
       "2024-01-23 05:15:00                         5.951916   \n",
       "2024-01-22 21:30:00                         5.959845   \n",
       "2024-01-22 23:30:00                         5.944000   \n",
       "2024-01-22 10:00:00                         5.960102   \n",
       "\n",
       "                     13172_FERM0101.Temperatura_PV  \n",
       "DateTime                                            \n",
       "2024-01-22 13:00:00                      29.223999  \n",
       "2024-01-23 05:15:00                      29.143994  \n",
       "2024-01-22 21:30:00                      29.159998  \n",
       "2024-01-22 23:30:00                      29.128003  \n",
       "2024-01-22 10:00:00                      29.536408  "
      ]
     },
     "execution_count": 120,
     "metadata": {},
     "output_type": "execute_result"
    }
   ],
   "source": [
    "df_bio_lote_choice = df_biorreactor_inoculo[(df_biorreactor_inoculo.index >= ini) & (df_biorreactor_inoculo.index <= fin)]\n",
    "df_bio_lote_choice.sample(5, random_state=seed)"
   ]
  },
  {
   "cell_type": "code",
   "execution_count": 116,
   "metadata": {},
   "outputs": [
    {
     "data": {
      "text/html": [
       "<div>\n",
       "<style scoped>\n",
       "    .dataframe tbody tr th:only-of-type {\n",
       "        vertical-align: middle;\n",
       "    }\n",
       "\n",
       "    .dataframe tbody tr th {\n",
       "        vertical-align: top;\n",
       "    }\n",
       "\n",
       "    .dataframe thead th {\n",
       "        text-align: right;\n",
       "    }\n",
       "</style>\n",
       "<table border=\"1\" class=\"dataframe\">\n",
       "  <thead>\n",
       "    <tr style=\"text-align: right;\">\n",
       "      <th></th>\n",
       "      <th>13172_FERM0101.Agitation_PV</th>\n",
       "      <th>13172_FERM0101.Air_Sparge_PV</th>\n",
       "      <th>13172_FERM0101.Biocontainer_Pressure_PV</th>\n",
       "      <th>13172_FERM0101.DO_1_PV</th>\n",
       "      <th>13172_FERM0101.DO_2_PV</th>\n",
       "      <th>13172_FERM0101.Gas_Overlay_PV</th>\n",
       "      <th>13172_FERM0101.Load_Cell_Net_PV</th>\n",
       "      <th>13172_FERM0101.pH_1_PV</th>\n",
       "      <th>13172_FERM0101.pH_2_PV</th>\n",
       "      <th>13172_FERM0101.PUMP_1_PV</th>\n",
       "      <th>13172_FERM0101.PUMP_1_TOTAL</th>\n",
       "      <th>13172_FERM0101.PUMP_2_PV</th>\n",
       "      <th>13172_FERM0101.PUMP_2_TOTAL</th>\n",
       "      <th>13172_FERM0101.Single_Use_DO_PV</th>\n",
       "      <th>13172_FERM0101.Single_Use_pH_PV</th>\n",
       "      <th>13172_FERM0101.Temperatura_PV</th>\n",
       "    </tr>\n",
       "  </thead>\n",
       "  <tbody>\n",
       "    <tr>\n",
       "      <th>count</th>\n",
       "      <td>94.000000</td>\n",
       "      <td>94.000000</td>\n",
       "      <td>94.000000</td>\n",
       "      <td>0.0</td>\n",
       "      <td>94.000000</td>\n",
       "      <td>94.000000</td>\n",
       "      <td>94.000000</td>\n",
       "      <td>94.000000</td>\n",
       "      <td>94.000000</td>\n",
       "      <td>94.0</td>\n",
       "      <td>94.000000</td>\n",
       "      <td>94.000000</td>\n",
       "      <td>94.0</td>\n",
       "      <td>94.000000</td>\n",
       "      <td>94.000000</td>\n",
       "      <td>94.000000</td>\n",
       "    </tr>\n",
       "    <tr>\n",
       "      <th>mean</th>\n",
       "      <td>71.446809</td>\n",
       "      <td>1.617885</td>\n",
       "      <td>3.140548</td>\n",
       "      <td>NaN</td>\n",
       "      <td>26.096580</td>\n",
       "      <td>3.999966</td>\n",
       "      <td>166.388800</td>\n",
       "      <td>-4.556712</td>\n",
       "      <td>5.911013</td>\n",
       "      <td>0.0</td>\n",
       "      <td>9.713740</td>\n",
       "      <td>0.462490</td>\n",
       "      <td>0.0</td>\n",
       "      <td>28.195955</td>\n",
       "      <td>5.957275</td>\n",
       "      <td>29.444494</td>\n",
       "    </tr>\n",
       "    <tr>\n",
       "      <th>std</th>\n",
       "      <td>5.363390</td>\n",
       "      <td>4.325047</td>\n",
       "      <td>0.706767</td>\n",
       "      <td>NaN</td>\n",
       "      <td>16.411658</td>\n",
       "      <td>0.000332</td>\n",
       "      <td>1.281547</td>\n",
       "      <td>0.717314</td>\n",
       "      <td>0.031751</td>\n",
       "      <td>0.0</td>\n",
       "      <td>1.406425</td>\n",
       "      <td>1.095337</td>\n",
       "      <td>0.0</td>\n",
       "      <td>16.134938</td>\n",
       "      <td>0.009257</td>\n",
       "      <td>0.247043</td>\n",
       "    </tr>\n",
       "    <tr>\n",
       "      <th>min</th>\n",
       "      <td>20.000000</td>\n",
       "      <td>0.000000</td>\n",
       "      <td>1.875222</td>\n",
       "      <td>NaN</td>\n",
       "      <td>9.982952</td>\n",
       "      <td>3.999115</td>\n",
       "      <td>159.759998</td>\n",
       "      <td>-4.686229</td>\n",
       "      <td>5.871277</td>\n",
       "      <td>0.0</td>\n",
       "      <td>0.204996</td>\n",
       "      <td>0.000000</td>\n",
       "      <td>0.0</td>\n",
       "      <td>10.101448</td>\n",
       "      <td>5.943958</td>\n",
       "      <td>29.112144</td>\n",
       "    </tr>\n",
       "    <tr>\n",
       "      <th>25%</th>\n",
       "      <td>72.000000</td>\n",
       "      <td>0.000000</td>\n",
       "      <td>2.820432</td>\n",
       "      <td>NaN</td>\n",
       "      <td>16.467919</td>\n",
       "      <td>3.999749</td>\n",
       "      <td>165.459991</td>\n",
       "      <td>-4.686229</td>\n",
       "      <td>5.887024</td>\n",
       "      <td>0.0</td>\n",
       "      <td>9.920000</td>\n",
       "      <td>0.000000</td>\n",
       "      <td>0.0</td>\n",
       "      <td>18.667489</td>\n",
       "      <td>5.951937</td>\n",
       "      <td>29.208076</td>\n",
       "    </tr>\n",
       "    <tr>\n",
       "      <th>50%</th>\n",
       "      <td>72.000000</td>\n",
       "      <td>0.000000</td>\n",
       "      <td>3.129278</td>\n",
       "      <td>NaN</td>\n",
       "      <td>19.996719</td>\n",
       "      <td>3.999985</td>\n",
       "      <td>166.479993</td>\n",
       "      <td>-4.686229</td>\n",
       "      <td>5.919589</td>\n",
       "      <td>0.0</td>\n",
       "      <td>9.920000</td>\n",
       "      <td>0.000000</td>\n",
       "      <td>0.0</td>\n",
       "      <td>22.445416</td>\n",
       "      <td>5.960000</td>\n",
       "      <td>29.403964</td>\n",
       "    </tr>\n",
       "    <tr>\n",
       "      <th>75%</th>\n",
       "      <td>72.000000</td>\n",
       "      <td>0.000000</td>\n",
       "      <td>3.372885</td>\n",
       "      <td>NaN</td>\n",
       "      <td>25.056476</td>\n",
       "      <td>4.000222</td>\n",
       "      <td>167.279929</td>\n",
       "      <td>-4.686229</td>\n",
       "      <td>5.927848</td>\n",
       "      <td>0.0</td>\n",
       "      <td>9.920000</td>\n",
       "      <td>0.000000</td>\n",
       "      <td>0.0</td>\n",
       "      <td>27.563545</td>\n",
       "      <td>5.965904</td>\n",
       "      <td>29.664445</td>\n",
       "    </tr>\n",
       "    <tr>\n",
       "      <th>max</th>\n",
       "      <td>72.000000</td>\n",
       "      <td>15.996797</td>\n",
       "      <td>5.212317</td>\n",
       "      <td>NaN</td>\n",
       "      <td>80.154834</td>\n",
       "      <td>4.000748</td>\n",
       "      <td>169.605353</td>\n",
       "      <td>-0.506113</td>\n",
       "      <td>6.132291</td>\n",
       "      <td>0.0</td>\n",
       "      <td>9.920000</td>\n",
       "      <td>4.676138</td>\n",
       "      <td>0.0</td>\n",
       "      <td>80.093072</td>\n",
       "      <td>5.976000</td>\n",
       "      <td>29.871524</td>\n",
       "    </tr>\n",
       "  </tbody>\n",
       "</table>\n",
       "</div>"
      ],
      "text/plain": [
       "       13172_FERM0101.Agitation_PV  13172_FERM0101.Air_Sparge_PV  \\\n",
       "count                    94.000000                     94.000000   \n",
       "mean                     71.446809                      1.617885   \n",
       "std                       5.363390                      4.325047   \n",
       "min                      20.000000                      0.000000   \n",
       "25%                      72.000000                      0.000000   \n",
       "50%                      72.000000                      0.000000   \n",
       "75%                      72.000000                      0.000000   \n",
       "max                      72.000000                     15.996797   \n",
       "\n",
       "       13172_FERM0101.Biocontainer_Pressure_PV  13172_FERM0101.DO_1_PV  \\\n",
       "count                                94.000000                     0.0   \n",
       "mean                                  3.140548                     NaN   \n",
       "std                                   0.706767                     NaN   \n",
       "min                                   1.875222                     NaN   \n",
       "25%                                   2.820432                     NaN   \n",
       "50%                                   3.129278                     NaN   \n",
       "75%                                   3.372885                     NaN   \n",
       "max                                   5.212317                     NaN   \n",
       "\n",
       "       13172_FERM0101.DO_2_PV  13172_FERM0101.Gas_Overlay_PV  \\\n",
       "count               94.000000                      94.000000   \n",
       "mean                26.096580                       3.999966   \n",
       "std                 16.411658                       0.000332   \n",
       "min                  9.982952                       3.999115   \n",
       "25%                 16.467919                       3.999749   \n",
       "50%                 19.996719                       3.999985   \n",
       "75%                 25.056476                       4.000222   \n",
       "max                 80.154834                       4.000748   \n",
       "\n",
       "       13172_FERM0101.Load_Cell_Net_PV  13172_FERM0101.pH_1_PV  \\\n",
       "count                        94.000000               94.000000   \n",
       "mean                        166.388800               -4.556712   \n",
       "std                           1.281547                0.717314   \n",
       "min                         159.759998               -4.686229   \n",
       "25%                         165.459991               -4.686229   \n",
       "50%                         166.479993               -4.686229   \n",
       "75%                         167.279929               -4.686229   \n",
       "max                         169.605353               -0.506113   \n",
       "\n",
       "       13172_FERM0101.pH_2_PV  13172_FERM0101.PUMP_1_PV  \\\n",
       "count               94.000000                      94.0   \n",
       "mean                 5.911013                       0.0   \n",
       "std                  0.031751                       0.0   \n",
       "min                  5.871277                       0.0   \n",
       "25%                  5.887024                       0.0   \n",
       "50%                  5.919589                       0.0   \n",
       "75%                  5.927848                       0.0   \n",
       "max                  6.132291                       0.0   \n",
       "\n",
       "       13172_FERM0101.PUMP_1_TOTAL  13172_FERM0101.PUMP_2_PV  \\\n",
       "count                    94.000000                 94.000000   \n",
       "mean                      9.713740                  0.462490   \n",
       "std                       1.406425                  1.095337   \n",
       "min                       0.204996                  0.000000   \n",
       "25%                       9.920000                  0.000000   \n",
       "50%                       9.920000                  0.000000   \n",
       "75%                       9.920000                  0.000000   \n",
       "max                       9.920000                  4.676138   \n",
       "\n",
       "       13172_FERM0101.PUMP_2_TOTAL  13172_FERM0101.Single_Use_DO_PV  \\\n",
       "count                         94.0                        94.000000   \n",
       "mean                           0.0                        28.195955   \n",
       "std                            0.0                        16.134938   \n",
       "min                            0.0                        10.101448   \n",
       "25%                            0.0                        18.667489   \n",
       "50%                            0.0                        22.445416   \n",
       "75%                            0.0                        27.563545   \n",
       "max                            0.0                        80.093072   \n",
       "\n",
       "       13172_FERM0101.Single_Use_pH_PV  13172_FERM0101.Temperatura_PV  \n",
       "count                        94.000000                      94.000000  \n",
       "mean                          5.957275                      29.444494  \n",
       "std                           0.009257                       0.247043  \n",
       "min                           5.943958                      29.112144  \n",
       "25%                           5.951937                      29.208076  \n",
       "50%                           5.960000                      29.403964  \n",
       "75%                           5.965904                      29.664445  \n",
       "max                           5.976000                      29.871524  "
      ]
     },
     "execution_count": 116,
     "metadata": {},
     "output_type": "execute_result"
    }
   ],
   "source": [
    "df_bio_lote_choice.describe()"
   ]
  },
  {
   "cell_type": "markdown",
   "metadata": {},
   "source": [
    "Tras el \"cruce\" de tablas, hemos extraído para un lote todas las mediciones para el biorreactor pequeño. De un vistazo se puede ver claramente que salvo una o dos variables todas son muy estables (no tienen apenas desviación). Esto tiene todo el sentido del mundo, ¿de qué nos serviría una aparato así, si no es capaz de mantener un entorno propicio para el cultivo según los parámetros que se configuren?\n",
    "\n",
    "Por otro lado parece hay alguna variable con valores perdidos, por ejemplo las \"PUMP\" (adición de antiespumante y solución base) por los \"ceros\" en sus métricas y \"DO_1_PV\" (Presión parcial del oxígeno) que directamente arroja NaN"
   ]
  },
  {
   "cell_type": "code",
   "execution_count": 128,
   "metadata": {},
   "outputs": [
    {
     "data": {
      "text/html": [
       "<div>\n",
       "<style scoped>\n",
       "    .dataframe tbody tr th:only-of-type {\n",
       "        vertical-align: middle;\n",
       "    }\n",
       "\n",
       "    .dataframe tbody tr th {\n",
       "        vertical-align: top;\n",
       "    }\n",
       "\n",
       "    .dataframe thead th {\n",
       "        text-align: right;\n",
       "    }\n",
       "</style>\n",
       "<table border=\"1\" class=\"dataframe\">\n",
       "  <thead>\n",
       "    <tr style=\"text-align: right;\">\n",
       "      <th></th>\n",
       "      <th>14616_FERM0101.Agitation_PV</th>\n",
       "      <th>14616_FERM0101.Air_Sparge_PV</th>\n",
       "      <th>14616_FERM0101.Biocontainer_Pressure_PV</th>\n",
       "      <th>14616_FERM0101.DO_1_PV</th>\n",
       "      <th>14616_FERM0101.DO_2_PV</th>\n",
       "      <th>14616_FERM0101.Gas_Overlay_PV</th>\n",
       "      <th>14616_FERM0101.Load_Cell_Net_PV</th>\n",
       "      <th>14616_FERM0101.pH_1_PV</th>\n",
       "      <th>14616_FERM0101.pH_2_PV</th>\n",
       "      <th>14616_FERM0101.PUMP_1_PV</th>\n",
       "      <th>14616_FERM0101.PUMP_1_TOTAL</th>\n",
       "      <th>14616_FERM0101.PUMP_2_PV</th>\n",
       "      <th>14616_FERM0101.PUMP_2_TOTAL</th>\n",
       "      <th>14616_FERM0101.Single_Use_DO_PV</th>\n",
       "      <th>14616_FERM0101.Single_Use_pH_PV</th>\n",
       "      <th>14616_FERM0101.Temperatura_PV</th>\n",
       "    </tr>\n",
       "    <tr>\n",
       "      <th>DateTime</th>\n",
       "      <th></th>\n",
       "      <th></th>\n",
       "      <th></th>\n",
       "      <th></th>\n",
       "      <th></th>\n",
       "      <th></th>\n",
       "      <th></th>\n",
       "      <th></th>\n",
       "      <th></th>\n",
       "      <th></th>\n",
       "      <th></th>\n",
       "      <th></th>\n",
       "      <th></th>\n",
       "      <th></th>\n",
       "      <th></th>\n",
       "      <th></th>\n",
       "    </tr>\n",
       "  </thead>\n",
       "  <tbody>\n",
       "    <tr>\n",
       "      <th>2023-03-15 00:00:00</th>\n",
       "      <td>80.0</td>\n",
       "      <td>0.000000</td>\n",
       "      <td>0.715311</td>\n",
       "      <td>16.557993</td>\n",
       "      <td>0.0</td>\n",
       "      <td>3.999639</td>\n",
       "      <td>1652.800000</td>\n",
       "      <td>5.929625</td>\n",
       "      <td>-389.260962</td>\n",
       "      <td>0.0</td>\n",
       "      <td>39.679996</td>\n",
       "      <td>0.0</td>\n",
       "      <td>391.860913</td>\n",
       "      <td>17.361165</td>\n",
       "      <td>5.872</td>\n",
       "      <td>29.607996</td>\n",
       "    </tr>\n",
       "    <tr>\n",
       "      <th>2023-03-15 00:15:00</th>\n",
       "      <td>80.0</td>\n",
       "      <td>1.629763</td>\n",
       "      <td>0.795663</td>\n",
       "      <td>15.634378</td>\n",
       "      <td>0.0</td>\n",
       "      <td>4.000125</td>\n",
       "      <td>1652.800000</td>\n",
       "      <td>5.929625</td>\n",
       "      <td>-389.260962</td>\n",
       "      <td>0.0</td>\n",
       "      <td>39.679996</td>\n",
       "      <td>0.0</td>\n",
       "      <td>391.860913</td>\n",
       "      <td>16.468314</td>\n",
       "      <td>5.872</td>\n",
       "      <td>29.607996</td>\n",
       "    </tr>\n",
       "    <tr>\n",
       "      <th>2023-03-15 00:30:00</th>\n",
       "      <td>80.0</td>\n",
       "      <td>0.000000</td>\n",
       "      <td>0.844326</td>\n",
       "      <td>16.687202</td>\n",
       "      <td>0.0</td>\n",
       "      <td>4.000129</td>\n",
       "      <td>1652.807246</td>\n",
       "      <td>5.929625</td>\n",
       "      <td>-389.260962</td>\n",
       "      <td>0.0</td>\n",
       "      <td>39.679996</td>\n",
       "      <td>0.0</td>\n",
       "      <td>391.860913</td>\n",
       "      <td>17.516034</td>\n",
       "      <td>5.872</td>\n",
       "      <td>29.616003</td>\n",
       "    </tr>\n",
       "    <tr>\n",
       "      <th>2023-03-15 00:45:00</th>\n",
       "      <td>80.0</td>\n",
       "      <td>0.000000</td>\n",
       "      <td>0.755206</td>\n",
       "      <td>15.892802</td>\n",
       "      <td>0.0</td>\n",
       "      <td>3.999268</td>\n",
       "      <td>1652.800000</td>\n",
       "      <td>5.929625</td>\n",
       "      <td>-389.260962</td>\n",
       "      <td>0.0</td>\n",
       "      <td>39.679996</td>\n",
       "      <td>0.0</td>\n",
       "      <td>391.860913</td>\n",
       "      <td>16.595076</td>\n",
       "      <td>5.872</td>\n",
       "      <td>29.631995</td>\n",
       "    </tr>\n",
       "    <tr>\n",
       "      <th>2023-03-15 01:00:00</th>\n",
       "      <td>80.0</td>\n",
       "      <td>0.000000</td>\n",
       "      <td>0.755206</td>\n",
       "      <td>16.821199</td>\n",
       "      <td>0.0</td>\n",
       "      <td>3.999884</td>\n",
       "      <td>1652.800000</td>\n",
       "      <td>5.921457</td>\n",
       "      <td>-389.260962</td>\n",
       "      <td>0.0</td>\n",
       "      <td>39.679996</td>\n",
       "      <td>0.0</td>\n",
       "      <td>391.860913</td>\n",
       "      <td>17.754875</td>\n",
       "      <td>5.872</td>\n",
       "      <td>29.616193</td>\n",
       "    </tr>\n",
       "  </tbody>\n",
       "</table>\n",
       "</div>"
      ],
      "text/plain": [
       "                     14616_FERM0101.Agitation_PV  \\\n",
       "DateTime                                           \n",
       "2023-03-15 00:00:00                         80.0   \n",
       "2023-03-15 00:15:00                         80.0   \n",
       "2023-03-15 00:30:00                         80.0   \n",
       "2023-03-15 00:45:00                         80.0   \n",
       "2023-03-15 01:00:00                         80.0   \n",
       "\n",
       "                     14616_FERM0101.Air_Sparge_PV  \\\n",
       "DateTime                                            \n",
       "2023-03-15 00:00:00                      0.000000   \n",
       "2023-03-15 00:15:00                      1.629763   \n",
       "2023-03-15 00:30:00                      0.000000   \n",
       "2023-03-15 00:45:00                      0.000000   \n",
       "2023-03-15 01:00:00                      0.000000   \n",
       "\n",
       "                     14616_FERM0101.Biocontainer_Pressure_PV  \\\n",
       "DateTime                                                       \n",
       "2023-03-15 00:00:00                                 0.715311   \n",
       "2023-03-15 00:15:00                                 0.795663   \n",
       "2023-03-15 00:30:00                                 0.844326   \n",
       "2023-03-15 00:45:00                                 0.755206   \n",
       "2023-03-15 01:00:00                                 0.755206   \n",
       "\n",
       "                     14616_FERM0101.DO_1_PV  14616_FERM0101.DO_2_PV  \\\n",
       "DateTime                                                              \n",
       "2023-03-15 00:00:00               16.557993                     0.0   \n",
       "2023-03-15 00:15:00               15.634378                     0.0   \n",
       "2023-03-15 00:30:00               16.687202                     0.0   \n",
       "2023-03-15 00:45:00               15.892802                     0.0   \n",
       "2023-03-15 01:00:00               16.821199                     0.0   \n",
       "\n",
       "                     14616_FERM0101.Gas_Overlay_PV  \\\n",
       "DateTime                                             \n",
       "2023-03-15 00:00:00                       3.999639   \n",
       "2023-03-15 00:15:00                       4.000125   \n",
       "2023-03-15 00:30:00                       4.000129   \n",
       "2023-03-15 00:45:00                       3.999268   \n",
       "2023-03-15 01:00:00                       3.999884   \n",
       "\n",
       "                     14616_FERM0101.Load_Cell_Net_PV  14616_FERM0101.pH_1_PV  \\\n",
       "DateTime                                                                       \n",
       "2023-03-15 00:00:00                      1652.800000                5.929625   \n",
       "2023-03-15 00:15:00                      1652.800000                5.929625   \n",
       "2023-03-15 00:30:00                      1652.807246                5.929625   \n",
       "2023-03-15 00:45:00                      1652.800000                5.929625   \n",
       "2023-03-15 01:00:00                      1652.800000                5.921457   \n",
       "\n",
       "                     14616_FERM0101.pH_2_PV  14616_FERM0101.PUMP_1_PV  \\\n",
       "DateTime                                                                \n",
       "2023-03-15 00:00:00             -389.260962                       0.0   \n",
       "2023-03-15 00:15:00             -389.260962                       0.0   \n",
       "2023-03-15 00:30:00             -389.260962                       0.0   \n",
       "2023-03-15 00:45:00             -389.260962                       0.0   \n",
       "2023-03-15 01:00:00             -389.260962                       0.0   \n",
       "\n",
       "                     14616_FERM0101.PUMP_1_TOTAL  14616_FERM0101.PUMP_2_PV  \\\n",
       "DateTime                                                                     \n",
       "2023-03-15 00:00:00                    39.679996                       0.0   \n",
       "2023-03-15 00:15:00                    39.679996                       0.0   \n",
       "2023-03-15 00:30:00                    39.679996                       0.0   \n",
       "2023-03-15 00:45:00                    39.679996                       0.0   \n",
       "2023-03-15 01:00:00                    39.679996                       0.0   \n",
       "\n",
       "                     14616_FERM0101.PUMP_2_TOTAL  \\\n",
       "DateTime                                           \n",
       "2023-03-15 00:00:00                   391.860913   \n",
       "2023-03-15 00:15:00                   391.860913   \n",
       "2023-03-15 00:30:00                   391.860913   \n",
       "2023-03-15 00:45:00                   391.860913   \n",
       "2023-03-15 01:00:00                   391.860913   \n",
       "\n",
       "                     14616_FERM0101.Single_Use_DO_PV  \\\n",
       "DateTime                                               \n",
       "2023-03-15 00:00:00                        17.361165   \n",
       "2023-03-15 00:15:00                        16.468314   \n",
       "2023-03-15 00:30:00                        17.516034   \n",
       "2023-03-15 00:45:00                        16.595076   \n",
       "2023-03-15 01:00:00                        17.754875   \n",
       "\n",
       "                     14616_FERM0101.Single_Use_pH_PV  \\\n",
       "DateTime                                               \n",
       "2023-03-15 00:00:00                            5.872   \n",
       "2023-03-15 00:15:00                            5.872   \n",
       "2023-03-15 00:30:00                            5.872   \n",
       "2023-03-15 00:45:00                            5.872   \n",
       "2023-03-15 01:00:00                            5.872   \n",
       "\n",
       "                     14616_FERM0101.Temperatura_PV  \n",
       "DateTime                                            \n",
       "2023-03-15 00:00:00                      29.607996  \n",
       "2023-03-15 00:15:00                      29.607996  \n",
       "2023-03-15 00:30:00                      29.616003  \n",
       "2023-03-15 00:45:00                      29.631995  \n",
       "2023-03-15 01:00:00                      29.616193  "
      ]
     },
     "execution_count": 128,
     "metadata": {},
     "output_type": "execute_result"
    }
   ],
   "source": [
    "np.random.seed(seed)\n",
    "bioreactor_choice = np.random.choice(ids_cultivo_biorreactor)\n",
    "\n",
    "df_biorreactor_cultivo = pd.read_excel(f'raw_data/Biorreactor {bioreactor_choice}.xlsx',\n",
    "                               sheet_name='Datos', index_col='DateTime', parse_dates=True, engine='openpyxl')\n",
    "df_biorreactor_cultivo.head(5)"
   ]
  },
  {
   "cell_type": "code",
   "execution_count": 129,
   "metadata": {},
   "outputs": [
    {
     "name": "stdout",
     "output_type": "stream",
     "text": [
      "<class 'pandas.core.frame.DataFrame'>\n",
      "DatetimeIndex: 52413 entries, 2023-03-15 00:00:00 to 2024-09-11 00:00:00\n",
      "Data columns (total 16 columns):\n",
      " #   Column                                   Non-Null Count  Dtype  \n",
      "---  ------                                   --------------  -----  \n",
      " 0   14616_FERM0101.Agitation_PV              48054 non-null  float64\n",
      " 1   14616_FERM0101.Air_Sparge_PV             48054 non-null  float64\n",
      " 2   14616_FERM0101.Biocontainer_Pressure_PV  48054 non-null  float64\n",
      " 3   14616_FERM0101.DO_1_PV                   48054 non-null  float64\n",
      " 4   14616_FERM0101.DO_2_PV                   48054 non-null  float64\n",
      " 5   14616_FERM0101.Gas_Overlay_PV            48054 non-null  float64\n",
      " 6   14616_FERM0101.Load_Cell_Net_PV          48054 non-null  float64\n",
      " 7   14616_FERM0101.pH_1_PV                   48054 non-null  float64\n",
      " 8   14616_FERM0101.pH_2_PV                   48054 non-null  float64\n",
      " 9   14616_FERM0101.PUMP_1_PV                 48054 non-null  float64\n",
      " 10  14616_FERM0101.PUMP_1_TOTAL              48054 non-null  float64\n",
      " 11  14616_FERM0101.PUMP_2_PV                 48054 non-null  float64\n",
      " 12  14616_FERM0101.PUMP_2_TOTAL              48054 non-null  float64\n",
      " 13  14616_FERM0101.Single_Use_DO_PV          48054 non-null  float64\n",
      " 14  14616_FERM0101.Single_Use_pH_PV          48054 non-null  float64\n",
      " 15  14616_FERM0101.Temperatura_PV            48054 non-null  float64\n",
      "dtypes: float64(16)\n",
      "memory usage: 6.8 MB\n"
     ]
    }
   ],
   "source": [
    "df_biorreactor_cultivo.info()"
   ]
  },
  {
   "cell_type": "code",
   "execution_count": 130,
   "metadata": {},
   "outputs": [
    {
     "data": {
      "text/plain": [
       "14616_FERM0101.Agitation_PV                0.083166\n",
       "14616_FERM0101.Air_Sparge_PV               0.083166\n",
       "14616_FERM0101.Biocontainer_Pressure_PV    0.083166\n",
       "14616_FERM0101.DO_1_PV                     0.083166\n",
       "14616_FERM0101.DO_2_PV                     0.083166\n",
       "14616_FERM0101.Gas_Overlay_PV              0.083166\n",
       "14616_FERM0101.Load_Cell_Net_PV            0.083166\n",
       "14616_FERM0101.pH_1_PV                     0.083166\n",
       "14616_FERM0101.pH_2_PV                     0.083166\n",
       "14616_FERM0101.PUMP_1_PV                   0.083166\n",
       "14616_FERM0101.PUMP_1_TOTAL                0.083166\n",
       "14616_FERM0101.PUMP_2_PV                   0.083166\n",
       "14616_FERM0101.PUMP_2_TOTAL                0.083166\n",
       "14616_FERM0101.Single_Use_DO_PV            0.083166\n",
       "14616_FERM0101.Single_Use_pH_PV            0.083166\n",
       "14616_FERM0101.Temperatura_PV              0.083166\n",
       "dtype: float64"
      ]
     },
     "execution_count": 130,
     "metadata": {},
     "output_type": "execute_result"
    }
   ],
   "source": [
    "df_biorreactor_cultivo.isna().sum() / df_biorreactor_inoculo.shape[0]"
   ]
  },
  {
   "cell_type": "code",
   "execution_count": 131,
   "metadata": {},
   "outputs": [
    {
     "data": {
      "text/plain": [
       "(4359, 16)"
      ]
     },
     "execution_count": 131,
     "metadata": {},
     "output_type": "execute_result"
    }
   ],
   "source": [
    "all_nulls = df_biorreactor_cultivo[df_biorreactor_cultivo.isna().all(axis=1)]\n",
    "all_nulls.shape"
   ]
  },
  {
   "cell_type": "code",
   "execution_count": 132,
   "metadata": {},
   "outputs": [
    {
     "data": {
      "text/plain": [
       "DateTime\n",
       "3    2395\n",
       "4    1066\n",
       "1     894\n",
       "2       4\n",
       "Name: count, dtype: int64"
      ]
     },
     "execution_count": 132,
     "metadata": {},
     "output_type": "execute_result"
    }
   ],
   "source": [
    "df_biorreactor_cultivo[df_biorreactor_cultivo.isna().all(axis=1)].index.quarter.value_counts()"
   ]
  },
  {
   "cell_type": "code",
   "execution_count": 134,
   "metadata": {},
   "outputs": [
    {
     "data": {
      "text/plain": [
       "np.int64(24045)"
      ]
     },
     "execution_count": 134,
     "metadata": {},
     "output_type": "execute_result"
    }
   ],
   "source": [
    "np.random.seed(seed)\n",
    "lote_choice = np.random.choice(df_cultivo[df_cultivo['ID Bioreactor'] == bioreactor_choice]['LOTE'])\n",
    "lote_choice"
   ]
  },
  {
   "cell_type": "code",
   "execution_count": 136,
   "metadata": {},
   "outputs": [
    {
     "name": "stdout",
     "output_type": "stream",
     "text": [
      "2024-03-12 07:25:00\n",
      "2024-03-14 09:15:00\n"
     ]
    }
   ],
   "source": [
    "ini, fin = df_cultivo[df_cultivo['LOTE'] == lote_choice][['Fecha/hora inicio', 'Fecha/hora fin']].iloc[0]\n",
    "print(ini)\n",
    "print(fin)"
   ]
  },
  {
   "cell_type": "code",
   "execution_count": 137,
   "metadata": {},
   "outputs": [
    {
     "data": {
      "text/html": [
       "<div>\n",
       "<style scoped>\n",
       "    .dataframe tbody tr th:only-of-type {\n",
       "        vertical-align: middle;\n",
       "    }\n",
       "\n",
       "    .dataframe tbody tr th {\n",
       "        vertical-align: top;\n",
       "    }\n",
       "\n",
       "    .dataframe thead th {\n",
       "        text-align: right;\n",
       "    }\n",
       "</style>\n",
       "<table border=\"1\" class=\"dataframe\">\n",
       "  <thead>\n",
       "    <tr style=\"text-align: right;\">\n",
       "      <th></th>\n",
       "      <th>13172_FERM0101.Agitation_PV</th>\n",
       "      <th>13172_FERM0101.Air_Sparge_PV</th>\n",
       "      <th>13172_FERM0101.Biocontainer_Pressure_PV</th>\n",
       "      <th>13172_FERM0101.DO_1_PV</th>\n",
       "      <th>13172_FERM0101.DO_2_PV</th>\n",
       "      <th>13172_FERM0101.Gas_Overlay_PV</th>\n",
       "      <th>13172_FERM0101.Load_Cell_Net_PV</th>\n",
       "      <th>13172_FERM0101.pH_1_PV</th>\n",
       "      <th>13172_FERM0101.pH_2_PV</th>\n",
       "      <th>13172_FERM0101.PUMP_1_PV</th>\n",
       "      <th>13172_FERM0101.PUMP_1_TOTAL</th>\n",
       "      <th>13172_FERM0101.PUMP_2_PV</th>\n",
       "      <th>13172_FERM0101.PUMP_2_TOTAL</th>\n",
       "      <th>13172_FERM0101.Single_Use_DO_PV</th>\n",
       "      <th>13172_FERM0101.Single_Use_pH_PV</th>\n",
       "      <th>13172_FERM0101.Temperatura_PV</th>\n",
       "    </tr>\n",
       "    <tr>\n",
       "      <th>DateTime</th>\n",
       "      <th></th>\n",
       "      <th></th>\n",
       "      <th></th>\n",
       "      <th></th>\n",
       "      <th></th>\n",
       "      <th></th>\n",
       "      <th></th>\n",
       "      <th></th>\n",
       "      <th></th>\n",
       "      <th></th>\n",
       "      <th></th>\n",
       "      <th></th>\n",
       "      <th></th>\n",
       "      <th></th>\n",
       "      <th></th>\n",
       "      <th></th>\n",
       "    </tr>\n",
       "  </thead>\n",
       "  <tbody>\n",
       "    <tr>\n",
       "      <th>2024-03-13 02:00:00</th>\n",
       "      <td>0.0</td>\n",
       "      <td>0.0</td>\n",
       "      <td>480.0</td>\n",
       "      <td>NaN</td>\n",
       "      <td>0.0</td>\n",
       "      <td>0.0</td>\n",
       "      <td>-6.96</td>\n",
       "      <td>-4.686229</td>\n",
       "      <td>1.298498</td>\n",
       "      <td>0.0</td>\n",
       "      <td>7.439999</td>\n",
       "      <td>0.0</td>\n",
       "      <td>2.766121</td>\n",
       "      <td>736.844434</td>\n",
       "      <td>800.208008</td>\n",
       "      <td>16.176132</td>\n",
       "    </tr>\n",
       "    <tr>\n",
       "      <th>2024-03-12 10:00:00</th>\n",
       "      <td>0.0</td>\n",
       "      <td>0.0</td>\n",
       "      <td>480.0</td>\n",
       "      <td>NaN</td>\n",
       "      <td>0.0</td>\n",
       "      <td>0.0</td>\n",
       "      <td>-7.28</td>\n",
       "      <td>-4.686229</td>\n",
       "      <td>1.298498</td>\n",
       "      <td>0.0</td>\n",
       "      <td>7.439999</td>\n",
       "      <td>0.0</td>\n",
       "      <td>2.766121</td>\n",
       "      <td>736.844434</td>\n",
       "      <td>800.208008</td>\n",
       "      <td>17.350321</td>\n",
       "    </tr>\n",
       "    <tr>\n",
       "      <th>2024-03-14 05:15:00</th>\n",
       "      <td>0.0</td>\n",
       "      <td>0.0</td>\n",
       "      <td>480.0</td>\n",
       "      <td>NaN</td>\n",
       "      <td>0.0</td>\n",
       "      <td>0.0</td>\n",
       "      <td>-6.96</td>\n",
       "      <td>-4.686229</td>\n",
       "      <td>1.298498</td>\n",
       "      <td>0.0</td>\n",
       "      <td>7.439999</td>\n",
       "      <td>0.0</td>\n",
       "      <td>2.766121</td>\n",
       "      <td>736.844434</td>\n",
       "      <td>800.208008</td>\n",
       "      <td>16.471997</td>\n",
       "    </tr>\n",
       "    <tr>\n",
       "      <th>2024-03-14 08:15:00</th>\n",
       "      <td>0.0</td>\n",
       "      <td>0.0</td>\n",
       "      <td>480.0</td>\n",
       "      <td>NaN</td>\n",
       "      <td>0.0</td>\n",
       "      <td>0.0</td>\n",
       "      <td>-6.96</td>\n",
       "      <td>-4.686229</td>\n",
       "      <td>1.298498</td>\n",
       "      <td>0.0</td>\n",
       "      <td>7.439999</td>\n",
       "      <td>0.0</td>\n",
       "      <td>2.766121</td>\n",
       "      <td>736.844434</td>\n",
       "      <td>800.208008</td>\n",
       "      <td>15.928003</td>\n",
       "    </tr>\n",
       "    <tr>\n",
       "      <th>2024-03-13 05:15:00</th>\n",
       "      <td>0.0</td>\n",
       "      <td>0.0</td>\n",
       "      <td>480.0</td>\n",
       "      <td>NaN</td>\n",
       "      <td>0.0</td>\n",
       "      <td>0.0</td>\n",
       "      <td>-6.96</td>\n",
       "      <td>-4.686229</td>\n",
       "      <td>1.298498</td>\n",
       "      <td>0.0</td>\n",
       "      <td>7.439999</td>\n",
       "      <td>0.0</td>\n",
       "      <td>2.766121</td>\n",
       "      <td>736.844434</td>\n",
       "      <td>800.208008</td>\n",
       "      <td>16.254972</td>\n",
       "    </tr>\n",
       "  </tbody>\n",
       "</table>\n",
       "</div>"
      ],
      "text/plain": [
       "                     13172_FERM0101.Agitation_PV  \\\n",
       "DateTime                                           \n",
       "2024-03-13 02:00:00                          0.0   \n",
       "2024-03-12 10:00:00                          0.0   \n",
       "2024-03-14 05:15:00                          0.0   \n",
       "2024-03-14 08:15:00                          0.0   \n",
       "2024-03-13 05:15:00                          0.0   \n",
       "\n",
       "                     13172_FERM0101.Air_Sparge_PV  \\\n",
       "DateTime                                            \n",
       "2024-03-13 02:00:00                           0.0   \n",
       "2024-03-12 10:00:00                           0.0   \n",
       "2024-03-14 05:15:00                           0.0   \n",
       "2024-03-14 08:15:00                           0.0   \n",
       "2024-03-13 05:15:00                           0.0   \n",
       "\n",
       "                     13172_FERM0101.Biocontainer_Pressure_PV  \\\n",
       "DateTime                                                       \n",
       "2024-03-13 02:00:00                                    480.0   \n",
       "2024-03-12 10:00:00                                    480.0   \n",
       "2024-03-14 05:15:00                                    480.0   \n",
       "2024-03-14 08:15:00                                    480.0   \n",
       "2024-03-13 05:15:00                                    480.0   \n",
       "\n",
       "                     13172_FERM0101.DO_1_PV  13172_FERM0101.DO_2_PV  \\\n",
       "DateTime                                                              \n",
       "2024-03-13 02:00:00                     NaN                     0.0   \n",
       "2024-03-12 10:00:00                     NaN                     0.0   \n",
       "2024-03-14 05:15:00                     NaN                     0.0   \n",
       "2024-03-14 08:15:00                     NaN                     0.0   \n",
       "2024-03-13 05:15:00                     NaN                     0.0   \n",
       "\n",
       "                     13172_FERM0101.Gas_Overlay_PV  \\\n",
       "DateTime                                             \n",
       "2024-03-13 02:00:00                            0.0   \n",
       "2024-03-12 10:00:00                            0.0   \n",
       "2024-03-14 05:15:00                            0.0   \n",
       "2024-03-14 08:15:00                            0.0   \n",
       "2024-03-13 05:15:00                            0.0   \n",
       "\n",
       "                     13172_FERM0101.Load_Cell_Net_PV  13172_FERM0101.pH_1_PV  \\\n",
       "DateTime                                                                       \n",
       "2024-03-13 02:00:00                            -6.96               -4.686229   \n",
       "2024-03-12 10:00:00                            -7.28               -4.686229   \n",
       "2024-03-14 05:15:00                            -6.96               -4.686229   \n",
       "2024-03-14 08:15:00                            -6.96               -4.686229   \n",
       "2024-03-13 05:15:00                            -6.96               -4.686229   \n",
       "\n",
       "                     13172_FERM0101.pH_2_PV  13172_FERM0101.PUMP_1_PV  \\\n",
       "DateTime                                                                \n",
       "2024-03-13 02:00:00                1.298498                       0.0   \n",
       "2024-03-12 10:00:00                1.298498                       0.0   \n",
       "2024-03-14 05:15:00                1.298498                       0.0   \n",
       "2024-03-14 08:15:00                1.298498                       0.0   \n",
       "2024-03-13 05:15:00                1.298498                       0.0   \n",
       "\n",
       "                     13172_FERM0101.PUMP_1_TOTAL  13172_FERM0101.PUMP_2_PV  \\\n",
       "DateTime                                                                     \n",
       "2024-03-13 02:00:00                     7.439999                       0.0   \n",
       "2024-03-12 10:00:00                     7.439999                       0.0   \n",
       "2024-03-14 05:15:00                     7.439999                       0.0   \n",
       "2024-03-14 08:15:00                     7.439999                       0.0   \n",
       "2024-03-13 05:15:00                     7.439999                       0.0   \n",
       "\n",
       "                     13172_FERM0101.PUMP_2_TOTAL  \\\n",
       "DateTime                                           \n",
       "2024-03-13 02:00:00                     2.766121   \n",
       "2024-03-12 10:00:00                     2.766121   \n",
       "2024-03-14 05:15:00                     2.766121   \n",
       "2024-03-14 08:15:00                     2.766121   \n",
       "2024-03-13 05:15:00                     2.766121   \n",
       "\n",
       "                     13172_FERM0101.Single_Use_DO_PV  \\\n",
       "DateTime                                               \n",
       "2024-03-13 02:00:00                       736.844434   \n",
       "2024-03-12 10:00:00                       736.844434   \n",
       "2024-03-14 05:15:00                       736.844434   \n",
       "2024-03-14 08:15:00                       736.844434   \n",
       "2024-03-13 05:15:00                       736.844434   \n",
       "\n",
       "                     13172_FERM0101.Single_Use_pH_PV  \\\n",
       "DateTime                                               \n",
       "2024-03-13 02:00:00                       800.208008   \n",
       "2024-03-12 10:00:00                       800.208008   \n",
       "2024-03-14 05:15:00                       800.208008   \n",
       "2024-03-14 08:15:00                       800.208008   \n",
       "2024-03-13 05:15:00                       800.208008   \n",
       "\n",
       "                     13172_FERM0101.Temperatura_PV  \n",
       "DateTime                                            \n",
       "2024-03-13 02:00:00                      16.176132  \n",
       "2024-03-12 10:00:00                      17.350321  \n",
       "2024-03-14 05:15:00                      16.471997  \n",
       "2024-03-14 08:15:00                      15.928003  \n",
       "2024-03-13 05:15:00                      16.254972  "
      ]
     },
     "execution_count": 137,
     "metadata": {},
     "output_type": "execute_result"
    }
   ],
   "source": [
    "df_bio_lote_choice = df_biorreactor_inoculo[(df_biorreactor_inoculo.index >= ini) & (df_biorreactor_inoculo.index <= fin)]\n",
    "df_bio_lote_choice.sample(5, random_state=seed)"
   ]
  },
  {
   "cell_type": "code",
   "execution_count": 138,
   "metadata": {},
   "outputs": [
    {
     "data": {
      "text/html": [
       "<div>\n",
       "<style scoped>\n",
       "    .dataframe tbody tr th:only-of-type {\n",
       "        vertical-align: middle;\n",
       "    }\n",
       "\n",
       "    .dataframe tbody tr th {\n",
       "        vertical-align: top;\n",
       "    }\n",
       "\n",
       "    .dataframe thead th {\n",
       "        text-align: right;\n",
       "    }\n",
       "</style>\n",
       "<table border=\"1\" class=\"dataframe\">\n",
       "  <thead>\n",
       "    <tr style=\"text-align: right;\">\n",
       "      <th></th>\n",
       "      <th>13172_FERM0101.Agitation_PV</th>\n",
       "      <th>13172_FERM0101.Air_Sparge_PV</th>\n",
       "      <th>13172_FERM0101.Biocontainer_Pressure_PV</th>\n",
       "      <th>13172_FERM0101.DO_1_PV</th>\n",
       "      <th>13172_FERM0101.DO_2_PV</th>\n",
       "      <th>13172_FERM0101.Gas_Overlay_PV</th>\n",
       "      <th>13172_FERM0101.Load_Cell_Net_PV</th>\n",
       "      <th>13172_FERM0101.pH_1_PV</th>\n",
       "      <th>13172_FERM0101.pH_2_PV</th>\n",
       "      <th>13172_FERM0101.PUMP_1_PV</th>\n",
       "      <th>13172_FERM0101.PUMP_1_TOTAL</th>\n",
       "      <th>13172_FERM0101.PUMP_2_PV</th>\n",
       "      <th>13172_FERM0101.PUMP_2_TOTAL</th>\n",
       "      <th>13172_FERM0101.Single_Use_DO_PV</th>\n",
       "      <th>13172_FERM0101.Single_Use_pH_PV</th>\n",
       "      <th>13172_FERM0101.Temperatura_PV</th>\n",
       "    </tr>\n",
       "  </thead>\n",
       "  <tbody>\n",
       "    <tr>\n",
       "      <th>count</th>\n",
       "      <td>200.000000</td>\n",
       "      <td>200.000000</td>\n",
       "      <td>200.000000</td>\n",
       "      <td>0.0</td>\n",
       "      <td>200.000000</td>\n",
       "      <td>200.000000</td>\n",
       "      <td>200.000000</td>\n",
       "      <td>200.000000</td>\n",
       "      <td>200.000000</td>\n",
       "      <td>200.0</td>\n",
       "      <td>200.000000</td>\n",
       "      <td>200.0</td>\n",
       "      <td>200.000000</td>\n",
       "      <td>200.000000</td>\n",
       "      <td>200.000000</td>\n",
       "      <td>200.000000</td>\n",
       "    </tr>\n",
       "    <tr>\n",
       "      <th>mean</th>\n",
       "      <td>0.768575</td>\n",
       "      <td>0.079914</td>\n",
       "      <td>470.429460</td>\n",
       "      <td>NaN</td>\n",
       "      <td>0.645150</td>\n",
       "      <td>0.060003</td>\n",
       "      <td>-5.106585</td>\n",
       "      <td>-4.686229</td>\n",
       "      <td>1.391847</td>\n",
       "      <td>0.0</td>\n",
       "      <td>7.439927</td>\n",
       "      <td>0.0</td>\n",
       "      <td>2.753228</td>\n",
       "      <td>722.753288</td>\n",
       "      <td>784.322966</td>\n",
       "      <td>17.371586</td>\n",
       "    </tr>\n",
       "    <tr>\n",
       "      <th>std</th>\n",
       "      <td>6.669483</td>\n",
       "      <td>1.130028</td>\n",
       "      <td>67.162126</td>\n",
       "      <td>NaN</td>\n",
       "      <td>6.069985</td>\n",
       "      <td>0.487451</td>\n",
       "      <td>16.163367</td>\n",
       "      <td>0.000000</td>\n",
       "      <td>0.655387</td>\n",
       "      <td>0.0</td>\n",
       "      <td>0.001026</td>\n",
       "      <td>0.0</td>\n",
       "      <td>0.182346</td>\n",
       "      <td>98.954515</td>\n",
       "      <td>111.474327</td>\n",
       "      <td>1.776524</td>\n",
       "    </tr>\n",
       "    <tr>\n",
       "      <th>min</th>\n",
       "      <td>0.000000</td>\n",
       "      <td>0.000000</td>\n",
       "      <td>-0.087623</td>\n",
       "      <td>NaN</td>\n",
       "      <td>0.000000</td>\n",
       "      <td>0.000000</td>\n",
       "      <td>-7.855803</td>\n",
       "      <td>-4.686229</td>\n",
       "      <td>1.298498</td>\n",
       "      <td>0.0</td>\n",
       "      <td>7.425494</td>\n",
       "      <td>0.0</td>\n",
       "      <td>0.187360</td>\n",
       "      <td>15.312366</td>\n",
       "      <td>5.928000</td>\n",
       "      <td>15.777187</td>\n",
       "    </tr>\n",
       "    <tr>\n",
       "      <th>25%</th>\n",
       "      <td>0.000000</td>\n",
       "      <td>0.000000</td>\n",
       "      <td>480.000000</td>\n",
       "      <td>NaN</td>\n",
       "      <td>0.000000</td>\n",
       "      <td>0.000000</td>\n",
       "      <td>-7.040000</td>\n",
       "      <td>-4.686229</td>\n",
       "      <td>1.298498</td>\n",
       "      <td>0.0</td>\n",
       "      <td>7.439999</td>\n",
       "      <td>0.0</td>\n",
       "      <td>2.766121</td>\n",
       "      <td>736.844434</td>\n",
       "      <td>800.208008</td>\n",
       "      <td>16.448536</td>\n",
       "    </tr>\n",
       "    <tr>\n",
       "      <th>50%</th>\n",
       "      <td>0.000000</td>\n",
       "      <td>0.000000</td>\n",
       "      <td>480.000000</td>\n",
       "      <td>NaN</td>\n",
       "      <td>0.000000</td>\n",
       "      <td>0.000000</td>\n",
       "      <td>-6.960000</td>\n",
       "      <td>-4.686229</td>\n",
       "      <td>1.298498</td>\n",
       "      <td>0.0</td>\n",
       "      <td>7.439999</td>\n",
       "      <td>0.0</td>\n",
       "      <td>2.766121</td>\n",
       "      <td>736.844434</td>\n",
       "      <td>800.208008</td>\n",
       "      <td>17.215379</td>\n",
       "    </tr>\n",
       "    <tr>\n",
       "      <th>75%</th>\n",
       "      <td>0.000000</td>\n",
       "      <td>0.000000</td>\n",
       "      <td>480.000000</td>\n",
       "      <td>NaN</td>\n",
       "      <td>0.000000</td>\n",
       "      <td>0.000000</td>\n",
       "      <td>-6.960000</td>\n",
       "      <td>-4.686229</td>\n",
       "      <td>1.298498</td>\n",
       "      <td>0.0</td>\n",
       "      <td>7.439999</td>\n",
       "      <td>0.0</td>\n",
       "      <td>2.766121</td>\n",
       "      <td>736.844434</td>\n",
       "      <td>800.208008</td>\n",
       "      <td>17.951481</td>\n",
       "    </tr>\n",
       "    <tr>\n",
       "      <th>max</th>\n",
       "      <td>72.000000</td>\n",
       "      <td>15.981021</td>\n",
       "      <td>480.000000</td>\n",
       "      <td>NaN</td>\n",
       "      <td>81.650659</td>\n",
       "      <td>4.000316</td>\n",
       "      <td>166.879993</td>\n",
       "      <td>-4.686229</td>\n",
       "      <td>6.208184</td>\n",
       "      <td>0.0</td>\n",
       "      <td>7.439999</td>\n",
       "      <td>0.0</td>\n",
       "      <td>2.766121</td>\n",
       "      <td>736.844434</td>\n",
       "      <td>800.208008</td>\n",
       "      <td>29.856006</td>\n",
       "    </tr>\n",
       "  </tbody>\n",
       "</table>\n",
       "</div>"
      ],
      "text/plain": [
       "       13172_FERM0101.Agitation_PV  13172_FERM0101.Air_Sparge_PV  \\\n",
       "count                   200.000000                    200.000000   \n",
       "mean                      0.768575                      0.079914   \n",
       "std                       6.669483                      1.130028   \n",
       "min                       0.000000                      0.000000   \n",
       "25%                       0.000000                      0.000000   \n",
       "50%                       0.000000                      0.000000   \n",
       "75%                       0.000000                      0.000000   \n",
       "max                      72.000000                     15.981021   \n",
       "\n",
       "       13172_FERM0101.Biocontainer_Pressure_PV  13172_FERM0101.DO_1_PV  \\\n",
       "count                               200.000000                     0.0   \n",
       "mean                                470.429460                     NaN   \n",
       "std                                  67.162126                     NaN   \n",
       "min                                  -0.087623                     NaN   \n",
       "25%                                 480.000000                     NaN   \n",
       "50%                                 480.000000                     NaN   \n",
       "75%                                 480.000000                     NaN   \n",
       "max                                 480.000000                     NaN   \n",
       "\n",
       "       13172_FERM0101.DO_2_PV  13172_FERM0101.Gas_Overlay_PV  \\\n",
       "count              200.000000                     200.000000   \n",
       "mean                 0.645150                       0.060003   \n",
       "std                  6.069985                       0.487451   \n",
       "min                  0.000000                       0.000000   \n",
       "25%                  0.000000                       0.000000   \n",
       "50%                  0.000000                       0.000000   \n",
       "75%                  0.000000                       0.000000   \n",
       "max                 81.650659                       4.000316   \n",
       "\n",
       "       13172_FERM0101.Load_Cell_Net_PV  13172_FERM0101.pH_1_PV  \\\n",
       "count                       200.000000              200.000000   \n",
       "mean                         -5.106585               -4.686229   \n",
       "std                          16.163367                0.000000   \n",
       "min                          -7.855803               -4.686229   \n",
       "25%                          -7.040000               -4.686229   \n",
       "50%                          -6.960000               -4.686229   \n",
       "75%                          -6.960000               -4.686229   \n",
       "max                         166.879993               -4.686229   \n",
       "\n",
       "       13172_FERM0101.pH_2_PV  13172_FERM0101.PUMP_1_PV  \\\n",
       "count              200.000000                     200.0   \n",
       "mean                 1.391847                       0.0   \n",
       "std                  0.655387                       0.0   \n",
       "min                  1.298498                       0.0   \n",
       "25%                  1.298498                       0.0   \n",
       "50%                  1.298498                       0.0   \n",
       "75%                  1.298498                       0.0   \n",
       "max                  6.208184                       0.0   \n",
       "\n",
       "       13172_FERM0101.PUMP_1_TOTAL  13172_FERM0101.PUMP_2_PV  \\\n",
       "count                   200.000000                     200.0   \n",
       "mean                      7.439927                       0.0   \n",
       "std                       0.001026                       0.0   \n",
       "min                       7.425494                       0.0   \n",
       "25%                       7.439999                       0.0   \n",
       "50%                       7.439999                       0.0   \n",
       "75%                       7.439999                       0.0   \n",
       "max                       7.439999                       0.0   \n",
       "\n",
       "       13172_FERM0101.PUMP_2_TOTAL  13172_FERM0101.Single_Use_DO_PV  \\\n",
       "count                   200.000000                       200.000000   \n",
       "mean                      2.753228                       722.753288   \n",
       "std                       0.182346                        98.954515   \n",
       "min                       0.187360                        15.312366   \n",
       "25%                       2.766121                       736.844434   \n",
       "50%                       2.766121                       736.844434   \n",
       "75%                       2.766121                       736.844434   \n",
       "max                       2.766121                       736.844434   \n",
       "\n",
       "       13172_FERM0101.Single_Use_pH_PV  13172_FERM0101.Temperatura_PV  \n",
       "count                       200.000000                     200.000000  \n",
       "mean                        784.322966                      17.371586  \n",
       "std                         111.474327                       1.776524  \n",
       "min                           5.928000                      15.777187  \n",
       "25%                         800.208008                      16.448536  \n",
       "50%                         800.208008                      17.215379  \n",
       "75%                         800.208008                      17.951481  \n",
       "max                         800.208008                      29.856006  "
      ]
     },
     "execution_count": 138,
     "metadata": {},
     "output_type": "execute_result"
    }
   ],
   "source": [
    "df_bio_lote_choice.describe()"
   ]
  },
  {
   "cell_type": "markdown",
   "metadata": {},
   "source": [
    "Tomando datos de uno de los bioreactores grandes volvemos a encontrarnos con el mismo escenario. No se aprecian diferencias notables a simple vista."
   ]
  },
  {
   "cell_type": "code",
   "execution_count": 203,
   "metadata": {},
   "outputs": [
    {
     "data": {
      "text/plain": [
       "<Axes: xlabel='DateTime'>"
      ]
     },
     "execution_count": 203,
     "metadata": {},
     "output_type": "execute_result"
    },
    {
     "data": {
      "image/png": "[encoded data removed]",
      "text/plain": [
       "<Figure size 640x480 with 1 Axes>"
      ]
     },
     "metadata": {},
     "output_type": "display_data"
    }
   ],
   "source": [
    "df_bio_lote_choice['13172_FERM0101.Temperatura_PV'].plot(kind='line') # Ejemplo de evolución de la variable"
   ]
  },
  {
   "cell_type": "markdown",
   "metadata": {},
   "source": [
    "En casi todas las variables el valor inicial es bastante dispar, pero se estabiliza en seguida. Con la temperatura se puede ver la pequeña oscilación con el transcurso de la fase"
   ]
  },
  {
   "cell_type": "markdown",
   "metadata": {},
   "source": [
    "Aspectos a tener en cuenta para la limpieza y transformación:\n",
    "\n",
    "- Tener una tabla por bioreactor es poco eficiente, teniendo en cuenta que todos manejan las mismas variables. Lo que hay que hacer para simplificar las consultas es añadir una variable que indique el biorreactor que junto la fecha sea el indíce. Dicho de otra manera, para cada instante de tiempo, habrá tantos registros como bioreactores haya\n",
    "- Relacionado con lo anterior, los nombres de las variables es bastante ofuscado, habría que trabajar con algo estándar (al igual que con el resto de tablas)\n",
    "- Descartar las filas con todo nulos, no podemos recuperar dichos valores"
   ]
  },
  {
   "cell_type": "markdown",
   "metadata": {},
   "source": [
    "##### Datos cinéticos de cada fase del producto"
   ]
  },
  {
   "cell_type": "markdown",
   "metadata": {},
   "source": [
    "Todos los datos se encuentran en el mismo archivo, pero en hojas de Excel diferentes por lo que las cachearemos en *dataframes* diferentes para más comodidad"
   ]
  },
  {
   "cell_type": "code",
   "execution_count": 164,
   "metadata": {},
   "outputs": [
    {
     "data": {
      "text/html": [
       "<div>\n",
       "<style scoped>\n",
       "    .dataframe tbody tr th:only-of-type {\n",
       "        vertical-align: middle;\n",
       "    }\n",
       "\n",
       "    .dataframe tbody tr th {\n",
       "        vertical-align: top;\n",
       "    }\n",
       "\n",
       "    .dataframe thead th {\n",
       "        text-align: right;\n",
       "    }\n",
       "</style>\n",
       "<table border=\"1\" class=\"dataframe\">\n",
       "  <thead>\n",
       "    <tr style=\"text-align: right;\">\n",
       "      <th></th>\n",
       "      <th>Lote</th>\n",
       "      <th>Fecha</th>\n",
       "      <th>Turbidez</th>\n",
       "      <th>Viabilidad</th>\n",
       "    </tr>\n",
       "  </thead>\n",
       "  <tbody>\n",
       "    <tr>\n",
       "      <th>0</th>\n",
       "      <td>23019</td>\n",
       "      <td>2023-03-21 06:30:00</td>\n",
       "      <td>32.80</td>\n",
       "      <td>134400000.0</td>\n",
       "    </tr>\n",
       "    <tr>\n",
       "      <th>1</th>\n",
       "      <td>23020</td>\n",
       "      <td>2023-03-21 06:30:00</td>\n",
       "      <td>32.80</td>\n",
       "      <td>134400000.0</td>\n",
       "    </tr>\n",
       "    <tr>\n",
       "      <th>2</th>\n",
       "      <td>23021</td>\n",
       "      <td>2023-03-22 06:30:00</td>\n",
       "      <td>27.84</td>\n",
       "      <td>115200000.0</td>\n",
       "    </tr>\n",
       "    <tr>\n",
       "      <th>3</th>\n",
       "      <td>23022</td>\n",
       "      <td>2023-03-22 06:30:00</td>\n",
       "      <td>27.84</td>\n",
       "      <td>115200000.0</td>\n",
       "    </tr>\n",
       "    <tr>\n",
       "      <th>4</th>\n",
       "      <td>23023</td>\n",
       "      <td>2023-03-27 07:30:00</td>\n",
       "      <td>18.24</td>\n",
       "      <td>10880000.0</td>\n",
       "    </tr>\n",
       "  </tbody>\n",
       "</table>\n",
       "</div>"
      ],
      "text/plain": [
       "    Lote               Fecha  Turbidez   Viabilidad\n",
       "0  23019 2023-03-21 06:30:00     32.80  134400000.0\n",
       "1  23020 2023-03-21 06:30:00     32.80  134400000.0\n",
       "2  23021 2023-03-22 06:30:00     27.84  115200000.0\n",
       "3  23022 2023-03-22 06:30:00     27.84  115200000.0\n",
       "4  23023 2023-03-27 07:30:00     18.24   10880000.0"
      ]
     },
     "execution_count": 164,
     "metadata": {},
     "output_type": "execute_result"
    }
   ],
   "source": [
    "df_ipc_inoculo = pd.read_excel('raw_data/Cinéticos IPC.xlsx', sheet_name='Inóculos', engine='openpyxl')\n",
    "df_ipc_inoculo.head(5)"
   ]
  },
  {
   "cell_type": "code",
   "execution_count": 165,
   "metadata": {},
   "outputs": [
    {
     "data": {
      "text/plain": [
       "(737, 4)"
      ]
     },
     "execution_count": 165,
     "metadata": {},
     "output_type": "execute_result"
    }
   ],
   "source": [
    "df_ipc_inoculo.shape"
   ]
  },
  {
   "cell_type": "code",
   "execution_count": 166,
   "metadata": {},
   "outputs": [
    {
     "data": {
      "text/plain": [
       "(656, 4)"
      ]
     },
     "execution_count": 166,
     "metadata": {},
     "output_type": "execute_result"
    }
   ],
   "source": [
    "df_ipc_inoculo = df_ipc_inoculo[df_ipc_inoculo['Lote'].isin(LOTES)]\n",
    "df_ipc_inoculo.shape"
   ]
  },
  {
   "cell_type": "code",
   "execution_count": 167,
   "metadata": {},
   "outputs": [
    {
     "name": "stdout",
     "output_type": "stream",
     "text": [
      "<class 'pandas.core.frame.DataFrame'>\n",
      "Index: 656 entries, 0 to 736\n",
      "Data columns (total 4 columns):\n",
      " #   Column      Non-Null Count  Dtype         \n",
      "---  ------      --------------  -----         \n",
      " 0   Lote        656 non-null    object        \n",
      " 1   Fecha       656 non-null    datetime64[ns]\n",
      " 2   Turbidez    654 non-null    float64       \n",
      " 3   Viabilidad  656 non-null    float64       \n",
      "dtypes: datetime64[ns](1), float64(2), object(1)\n",
      "memory usage: 25.6+ KB\n"
     ]
    }
   ],
   "source": [
    "df_ipc_inoculo.info()"
   ]
  },
  {
   "cell_type": "code",
   "execution_count": 168,
   "metadata": {},
   "outputs": [
    {
     "data": {
      "text/html": [
       "<div>\n",
       "<style scoped>\n",
       "    .dataframe tbody tr th:only-of-type {\n",
       "        vertical-align: middle;\n",
       "    }\n",
       "\n",
       "    .dataframe tbody tr th {\n",
       "        vertical-align: top;\n",
       "    }\n",
       "\n",
       "    .dataframe thead th {\n",
       "        text-align: right;\n",
       "    }\n",
       "</style>\n",
       "<table border=\"1\" class=\"dataframe\">\n",
       "  <thead>\n",
       "    <tr style=\"text-align: right;\">\n",
       "      <th></th>\n",
       "      <th>Turbidez</th>\n",
       "      <th>Viabilidad</th>\n",
       "    </tr>\n",
       "  </thead>\n",
       "  <tbody>\n",
       "    <tr>\n",
       "      <th>count</th>\n",
       "      <td>654.000000</td>\n",
       "      <td>6.560000e+02</td>\n",
       "    </tr>\n",
       "    <tr>\n",
       "      <th>mean</th>\n",
       "      <td>20.028502</td>\n",
       "      <td>4.585787e+07</td>\n",
       "    </tr>\n",
       "    <tr>\n",
       "      <th>std</th>\n",
       "      <td>5.224630</td>\n",
       "      <td>4.473573e+07</td>\n",
       "    </tr>\n",
       "    <tr>\n",
       "      <th>min</th>\n",
       "      <td>11.200000</td>\n",
       "      <td>5.981333e+05</td>\n",
       "    </tr>\n",
       "    <tr>\n",
       "      <th>25%</th>\n",
       "      <td>15.620000</td>\n",
       "      <td>7.296667e+06</td>\n",
       "    </tr>\n",
       "    <tr>\n",
       "      <th>50%</th>\n",
       "      <td>18.240000</td>\n",
       "      <td>1.997333e+07</td>\n",
       "    </tr>\n",
       "    <tr>\n",
       "      <th>75%</th>\n",
       "      <td>24.700000</td>\n",
       "      <td>8.440000e+07</td>\n",
       "    </tr>\n",
       "    <tr>\n",
       "      <th>max</th>\n",
       "      <td>34.800000</td>\n",
       "      <td>1.669333e+08</td>\n",
       "    </tr>\n",
       "  </tbody>\n",
       "</table>\n",
       "</div>"
      ],
      "text/plain": [
       "         Turbidez    Viabilidad\n",
       "count  654.000000  6.560000e+02\n",
       "mean    20.028502  4.585787e+07\n",
       "std      5.224630  4.473573e+07\n",
       "min     11.200000  5.981333e+05\n",
       "25%     15.620000  7.296667e+06\n",
       "50%     18.240000  1.997333e+07\n",
       "75%     24.700000  8.440000e+07\n",
       "max     34.800000  1.669333e+08"
      ]
     },
     "execution_count": 168,
     "metadata": {},
     "output_type": "execute_result"
    }
   ],
   "source": [
    "df_ipc_inoculo.describe(include=float)"
   ]
  },
  {
   "cell_type": "code",
   "execution_count": 157,
   "metadata": {},
   "outputs": [
    {
     "data": {
      "text/plain": [
       "Lote\n",
       "23043    12\n",
       "23036    10\n",
       "23139     9\n",
       "23138     9\n",
       "23087     8\n",
       "         ..\n",
       "23045     2\n",
       "23021     1\n",
       "23020     1\n",
       "23022     1\n",
       "23019     1\n",
       "Name: count, Length: 158, dtype: int64"
      ]
     },
     "execution_count": 157,
     "metadata": {},
     "output_type": "execute_result"
    }
   ],
   "source": [
    "df_ipc_inoculo['Lote'].value_counts()"
   ]
  },
  {
   "cell_type": "markdown",
   "metadata": {},
   "source": [
    "No a todos los lotes se les han realizado la misma cantidad de controles. ¿Puede deberse al tiempo que tardan?"
   ]
  },
  {
   "cell_type": "code",
   "execution_count": 169,
   "metadata": {},
   "outputs": [
    {
     "data": {
      "text/html": [
       "<div>\n",
       "<style scoped>\n",
       "    .dataframe tbody tr th:only-of-type {\n",
       "        vertical-align: middle;\n",
       "    }\n",
       "\n",
       "    .dataframe tbody tr th {\n",
       "        vertical-align: top;\n",
       "    }\n",
       "\n",
       "    .dataframe thead th {\n",
       "        text-align: right;\n",
       "    }\n",
       "</style>\n",
       "<table border=\"1\" class=\"dataframe\">\n",
       "  <thead>\n",
       "    <tr style=\"text-align: right;\">\n",
       "      <th></th>\n",
       "      <th>LOTE</th>\n",
       "      <th>ID bioreactor</th>\n",
       "      <th>Fecha/hora inicio</th>\n",
       "      <th>Fecha/hora fin</th>\n",
       "      <th>Volumen de cultivo</th>\n",
       "      <th>Turbidez inicio cultivo</th>\n",
       "      <th>Turbidez final culttivo</th>\n",
       "      <th>Viabilidad final cultivo</th>\n",
       "      <th>diferencia_turbidez</th>\n",
       "      <th>duracion_horas</th>\n",
       "    </tr>\n",
       "  </thead>\n",
       "  <tbody>\n",
       "    <tr>\n",
       "      <th>25</th>\n",
       "      <td>23043</td>\n",
       "      <td>14618</td>\n",
       "      <td>2023-06-11 07:35:00</td>\n",
       "      <td>2023-06-12 07:35:00</td>\n",
       "      <td>84.0</td>\n",
       "      <td>13.2</td>\n",
       "      <td>24.24</td>\n",
       "      <td>87200000.0</td>\n",
       "      <td>11.04</td>\n",
       "      <td>24.0</td>\n",
       "    </tr>\n",
       "  </tbody>\n",
       "</table>\n",
       "</div>"
      ],
      "text/plain": [
       "     LOTE  ID bioreactor   Fecha/hora inicio      Fecha/hora fin  \\\n",
       "25  23043          14618 2023-06-11 07:35:00 2023-06-12 07:35:00   \n",
       "\n",
       "    Volumen de cultivo  Turbidez inicio cultivo  Turbidez final culttivo  \\\n",
       "25                84.0                     13.2                    24.24   \n",
       "\n",
       "    Viabilidad final cultivo  diferencia_turbidez  duracion_horas  \n",
       "25                87200000.0                11.04            24.0  "
      ]
     },
     "execution_count": 169,
     "metadata": {},
     "output_type": "execute_result"
    }
   ],
   "source": [
    "df_inoculo[df_inoculo['LOTE'] == 23043]"
   ]
  },
  {
   "cell_type": "code",
   "execution_count": 174,
   "metadata": {},
   "outputs": [
    {
     "data": {
      "text/html": [
       "<div>\n",
       "<style scoped>\n",
       "    .dataframe tbody tr th:only-of-type {\n",
       "        vertical-align: middle;\n",
       "    }\n",
       "\n",
       "    .dataframe tbody tr th {\n",
       "        vertical-align: top;\n",
       "    }\n",
       "\n",
       "    .dataframe thead th {\n",
       "        text-align: right;\n",
       "    }\n",
       "</style>\n",
       "<table border=\"1\" class=\"dataframe\">\n",
       "  <thead>\n",
       "    <tr style=\"text-align: right;\">\n",
       "      <th></th>\n",
       "      <th>LOTE</th>\n",
       "      <th>ID bioreactor</th>\n",
       "      <th>Fecha/hora inicio</th>\n",
       "      <th>Fecha/hora fin</th>\n",
       "      <th>Volumen de cultivo</th>\n",
       "      <th>Turbidez inicio cultivo</th>\n",
       "      <th>Turbidez final culttivo</th>\n",
       "      <th>Viabilidad final cultivo</th>\n",
       "      <th>diferencia_turbidez</th>\n",
       "      <th>duracion_horas</th>\n",
       "    </tr>\n",
       "  </thead>\n",
       "  <tbody>\n",
       "    <tr>\n",
       "      <th>26</th>\n",
       "      <td>23045</td>\n",
       "      <td>14618</td>\n",
       "      <td>2023-06-11 07:35:00</td>\n",
       "      <td>2023-06-12 07:35:00</td>\n",
       "      <td>81.6</td>\n",
       "      <td>13.2</td>\n",
       "      <td>24.24</td>\n",
       "      <td>87200000.0</td>\n",
       "      <td>11.04</td>\n",
       "      <td>24.0</td>\n",
       "    </tr>\n",
       "  </tbody>\n",
       "</table>\n",
       "</div>"
      ],
      "text/plain": [
       "     LOTE  ID bioreactor   Fecha/hora inicio      Fecha/hora fin  \\\n",
       "26  23045          14618 2023-06-11 07:35:00 2023-06-12 07:35:00   \n",
       "\n",
       "    Volumen de cultivo  Turbidez inicio cultivo  Turbidez final culttivo  \\\n",
       "26                81.6                     13.2                    24.24   \n",
       "\n",
       "    Viabilidad final cultivo  diferencia_turbidez  duracion_horas  \n",
       "26                87200000.0                11.04            24.0  "
      ]
     },
     "execution_count": 174,
     "metadata": {},
     "output_type": "execute_result"
    }
   ],
   "source": [
    "df_inoculo[df_inoculo['LOTE'] == 23045] # 23021  23020 23022 23019 -> no existen ¿por qué?"
   ]
  },
  {
   "cell_type": "markdown",
   "metadata": {},
   "source": [
    "Ambas muestras tardaron lo mismo y el resto de variables son prácticamente idénticas\n",
    "\n",
    "**NOTA** Algunos de los lotes de los datos de cinéticos no se encuentran en el conjunto de inóculo"
   ]
  },
  {
   "cell_type": "code",
   "execution_count": 178,
   "metadata": {},
   "outputs": [
    {
     "data": {
      "text/plain": [
       "Fecha\n",
       "7     168\n",
       "6      99\n",
       "8      96\n",
       "12     47\n",
       "20     40\n",
       "16     38\n",
       "9      36\n",
       "11     31\n",
       "15     24\n",
       "19     23\n",
       "10     20\n",
       "13     12\n",
       "18      7\n",
       "17      6\n",
       "14      5\n",
       "21      4\n",
       "Name: count, dtype: int64"
      ]
     },
     "execution_count": 178,
     "metadata": {},
     "output_type": "execute_result"
    }
   ],
   "source": [
    "df_ipc_inoculo['Fecha'].dt.hour.value_counts()"
   ]
  },
  {
   "cell_type": "markdown",
   "metadata": {},
   "source": [
    "Las mediciones se realizan por lo general durante las primeras horas de la mañana"
   ]
  },
  {
   "cell_type": "code",
   "execution_count": 179,
   "metadata": {},
   "outputs": [
    {
     "data": {
      "text/html": [
       "<div>\n",
       "<style scoped>\n",
       "    .dataframe tbody tr th:only-of-type {\n",
       "        vertical-align: middle;\n",
       "    }\n",
       "\n",
       "    .dataframe tbody tr th {\n",
       "        vertical-align: top;\n",
       "    }\n",
       "\n",
       "    .dataframe thead th {\n",
       "        text-align: right;\n",
       "    }\n",
       "</style>\n",
       "<table border=\"1\" class=\"dataframe\">\n",
       "  <thead>\n",
       "    <tr style=\"text-align: right;\">\n",
       "      <th></th>\n",
       "      <th>Lote</th>\n",
       "      <th>Fecha</th>\n",
       "      <th>Turbidez</th>\n",
       "      <th>Viabilidad</th>\n",
       "      <th>Glucosa g/L</th>\n",
       "    </tr>\n",
       "  </thead>\n",
       "  <tbody>\n",
       "    <tr>\n",
       "      <th>0</th>\n",
       "      <td>23019</td>\n",
       "      <td>2023-03-21 07:30:00</td>\n",
       "      <td>17.28</td>\n",
       "      <td>8.333333e+06</td>\n",
       "      <td>1.744</td>\n",
       "    </tr>\n",
       "    <tr>\n",
       "      <th>1</th>\n",
       "      <td>23019</td>\n",
       "      <td>2023-03-21 11:00:00</td>\n",
       "      <td>17.28</td>\n",
       "      <td>1.397333e+07</td>\n",
       "      <td>1.968</td>\n",
       "    </tr>\n",
       "    <tr>\n",
       "      <th>2</th>\n",
       "      <td>23019</td>\n",
       "      <td>2023-03-21 14:00:00</td>\n",
       "      <td>18.4</td>\n",
       "      <td>1.688000e+07</td>\n",
       "      <td>1.92</td>\n",
       "    </tr>\n",
       "    <tr>\n",
       "      <th>3</th>\n",
       "      <td>23019</td>\n",
       "      <td>2023-03-21 18:00:00</td>\n",
       "      <td>19.76</td>\n",
       "      <td>2.474667e+07</td>\n",
       "      <td>1.88</td>\n",
       "    </tr>\n",
       "    <tr>\n",
       "      <th>4</th>\n",
       "      <td>23019</td>\n",
       "      <td>2023-03-22 07:00:00</td>\n",
       "      <td>39.12</td>\n",
       "      <td>1.000000e+08</td>\n",
       "      <td>1.568</td>\n",
       "    </tr>\n",
       "  </tbody>\n",
       "</table>\n",
       "</div>"
      ],
      "text/plain": [
       "    Lote               Fecha Turbidez    Viabilidad Glucosa g/L\n",
       "0  23019 2023-03-21 07:30:00    17.28  8.333333e+06       1.744\n",
       "1  23019 2023-03-21 11:00:00    17.28  1.397333e+07       1.968\n",
       "2  23019 2023-03-21 14:00:00     18.4  1.688000e+07        1.92\n",
       "3  23019 2023-03-21 18:00:00    19.76  2.474667e+07        1.88\n",
       "4  23019 2023-03-22 07:00:00    39.12  1.000000e+08       1.568"
      ]
     },
     "execution_count": 179,
     "metadata": {},
     "output_type": "execute_result"
    }
   ],
   "source": [
    "df_ipc_cultivo = pd.read_excel('raw_data/Cinéticos IPC.xlsx', sheet_name='Cultivos finales', engine='openpyxl')\n",
    "df_ipc_cultivo.head(5)"
   ]
  },
  {
   "cell_type": "code",
   "execution_count": 181,
   "metadata": {},
   "outputs": [
    {
     "data": {
      "text/plain": [
       "(1911, 5)"
      ]
     },
     "execution_count": 181,
     "metadata": {},
     "output_type": "execute_result"
    }
   ],
   "source": [
    "df_ipc_cultivo.shape"
   ]
  },
  {
   "cell_type": "code",
   "execution_count": 182,
   "metadata": {},
   "outputs": [
    {
     "data": {
      "text/plain": [
       "(1721, 5)"
      ]
     },
     "execution_count": 182,
     "metadata": {},
     "output_type": "execute_result"
    }
   ],
   "source": [
    "df_ipc_cultivo = df_ipc_cultivo[df_ipc_cultivo['Lote'].isin(LOTES)]\n",
    "df_ipc_cultivo.shape"
   ]
  },
  {
   "cell_type": "code",
   "execution_count": 190,
   "metadata": {},
   "outputs": [
    {
     "name": "stdout",
     "output_type": "stream",
     "text": [
      "<class 'pandas.core.frame.DataFrame'>\n",
      "Index: 1721 entries, 0 to 1910\n",
      "Data columns (total 5 columns):\n",
      " #   Column       Non-Null Count  Dtype         \n",
      "---  ------       --------------  -----         \n",
      " 0   Lote         1721 non-null   object        \n",
      " 1   Fecha        1719 non-null   datetime64[ns]\n",
      " 2   Turbidez     1713 non-null   float64       \n",
      " 3   Viabilidad   1720 non-null   float64       \n",
      " 4   Glucosa g/L  1405 non-null   float64       \n",
      "dtypes: datetime64[ns](1), float64(3), object(1)\n",
      "memory usage: 80.7+ KB\n"
     ]
    }
   ],
   "source": [
    "df_ipc_cultivo.info()"
   ]
  },
  {
   "cell_type": "markdown",
   "metadata": {},
   "source": [
    "No se infieren correctamente las columnas de coma flotante seguramente porque hay valores perdidos que pandas no sabe interpetar. Forzamos el \"casteo\""
   ]
  },
  {
   "cell_type": "code",
   "execution_count": 191,
   "metadata": {},
   "outputs": [],
   "source": [
    "df_ipc_cultivo['Turbidez'] = pd.to_numeric(df_ipc_cultivo['Turbidez'], errors='coerce')\n",
    "df_ipc_cultivo['Glucosa g/L'] = pd.to_numeric(df_ipc_cultivo['Glucosa g/L'], errors='coerce')"
   ]
  },
  {
   "cell_type": "code",
   "execution_count": 192,
   "metadata": {},
   "outputs": [
    {
     "data": {
      "text/html": [
       "<div>\n",
       "<style scoped>\n",
       "    .dataframe tbody tr th:only-of-type {\n",
       "        vertical-align: middle;\n",
       "    }\n",
       "\n",
       "    .dataframe tbody tr th {\n",
       "        vertical-align: top;\n",
       "    }\n",
       "\n",
       "    .dataframe thead th {\n",
       "        text-align: right;\n",
       "    }\n",
       "</style>\n",
       "<table border=\"1\" class=\"dataframe\">\n",
       "  <thead>\n",
       "    <tr style=\"text-align: right;\">\n",
       "      <th></th>\n",
       "      <th>Turbidez</th>\n",
       "      <th>Viabilidad</th>\n",
       "      <th>Glucosa g/L</th>\n",
       "    </tr>\n",
       "  </thead>\n",
       "  <tbody>\n",
       "    <tr>\n",
       "      <th>count</th>\n",
       "      <td>1713.000000</td>\n",
       "      <td>1.720000e+03</td>\n",
       "      <td>1405.000000</td>\n",
       "    </tr>\n",
       "    <tr>\n",
       "      <th>mean</th>\n",
       "      <td>47.077343</td>\n",
       "      <td>9.953120e+07</td>\n",
       "      <td>1.336357</td>\n",
       "    </tr>\n",
       "    <tr>\n",
       "      <th>std</th>\n",
       "      <td>24.585495</td>\n",
       "      <td>1.183673e+08</td>\n",
       "      <td>0.583797</td>\n",
       "    </tr>\n",
       "    <tr>\n",
       "      <th>min</th>\n",
       "      <td>4.960000</td>\n",
       "      <td>8.160000e+05</td>\n",
       "      <td>0.000000</td>\n",
       "    </tr>\n",
       "    <tr>\n",
       "      <th>25%</th>\n",
       "      <td>20.240000</td>\n",
       "      <td>1.818667e+07</td>\n",
       "      <td>0.792000</td>\n",
       "    </tr>\n",
       "    <tr>\n",
       "      <th>50%</th>\n",
       "      <td>46.320000</td>\n",
       "      <td>9.813333e+07</td>\n",
       "      <td>1.448000</td>\n",
       "    </tr>\n",
       "    <tr>\n",
       "      <th>75%</th>\n",
       "      <td>70.560000</td>\n",
       "      <td>1.587333e+08</td>\n",
       "      <td>1.816000</td>\n",
       "    </tr>\n",
       "    <tr>\n",
       "      <th>max</th>\n",
       "      <td>104.800000</td>\n",
       "      <td>4.036267e+09</td>\n",
       "      <td>3.296000</td>\n",
       "    </tr>\n",
       "  </tbody>\n",
       "</table>\n",
       "</div>"
      ],
      "text/plain": [
       "          Turbidez    Viabilidad  Glucosa g/L\n",
       "count  1713.000000  1.720000e+03  1405.000000\n",
       "mean     47.077343  9.953120e+07     1.336357\n",
       "std      24.585495  1.183673e+08     0.583797\n",
       "min       4.960000  8.160000e+05     0.000000\n",
       "25%      20.240000  1.818667e+07     0.792000\n",
       "50%      46.320000  9.813333e+07     1.448000\n",
       "75%      70.560000  1.587333e+08     1.816000\n",
       "max     104.800000  4.036267e+09     3.296000"
      ]
     },
     "execution_count": 192,
     "metadata": {},
     "output_type": "execute_result"
    }
   ],
   "source": [
    "df_ipc_cultivo.describe(include=float)"
   ]
  },
  {
   "cell_type": "markdown",
   "metadata": {},
   "source": [
    "La turbidez aumenta respecto la anterior fase y consigo la viabilidad, aunque en realidad la turbidez parece estar más relacionada con la glucosa"
   ]
  },
  {
   "cell_type": "code",
   "execution_count": 195,
   "metadata": {},
   "outputs": [
    {
     "data": {
      "text/html": [
       "<div>\n",
       "<style scoped>\n",
       "    .dataframe tbody tr th:only-of-type {\n",
       "        vertical-align: middle;\n",
       "    }\n",
       "\n",
       "    .dataframe tbody tr th {\n",
       "        vertical-align: top;\n",
       "    }\n",
       "\n",
       "    .dataframe thead th {\n",
       "        text-align: right;\n",
       "    }\n",
       "</style>\n",
       "<table border=\"1\" class=\"dataframe\">\n",
       "  <thead>\n",
       "    <tr style=\"text-align: right;\">\n",
       "      <th></th>\n",
       "      <th>Turbidez</th>\n",
       "      <th>Viabilidad</th>\n",
       "      <th>Glucosa g/L</th>\n",
       "    </tr>\n",
       "  </thead>\n",
       "  <tbody>\n",
       "    <tr>\n",
       "      <th>Turbidez</th>\n",
       "      <td>1.000000</td>\n",
       "      <td>0.552517</td>\n",
       "      <td>-0.857791</td>\n",
       "    </tr>\n",
       "    <tr>\n",
       "      <th>Viabilidad</th>\n",
       "      <td>0.552517</td>\n",
       "      <td>1.000000</td>\n",
       "      <td>-0.425730</td>\n",
       "    </tr>\n",
       "    <tr>\n",
       "      <th>Glucosa g/L</th>\n",
       "      <td>-0.857791</td>\n",
       "      <td>-0.425730</td>\n",
       "      <td>1.000000</td>\n",
       "    </tr>\n",
       "  </tbody>\n",
       "</table>\n",
       "</div>"
      ],
      "text/plain": [
       "             Turbidez  Viabilidad  Glucosa g/L\n",
       "Turbidez     1.000000    0.552517    -0.857791\n",
       "Viabilidad   0.552517    1.000000    -0.425730\n",
       "Glucosa g/L -0.857791   -0.425730     1.000000"
      ]
     },
     "execution_count": 195,
     "metadata": {},
     "output_type": "execute_result"
    }
   ],
   "source": [
    "df_ipc_cultivo.select_dtypes(float).corr()"
   ]
  },
  {
   "cell_type": "code",
   "execution_count": 193,
   "metadata": {},
   "outputs": [
    {
     "data": {
      "text/plain": [
       "Lote\n",
       "23082    16\n",
       "23051    14\n",
       "23038    14\n",
       "23063    14\n",
       "23092    14\n",
       "         ..\n",
       "24083     3\n",
       "24084     3\n",
       "24081     3\n",
       "24019     3\n",
       "24055     3\n",
       "Name: count, Length: 205, dtype: int64"
      ]
     },
     "execution_count": 193,
     "metadata": {},
     "output_type": "execute_result"
    }
   ],
   "source": [
    "df_ipc_cultivo['Lote'].value_counts()"
   ]
  },
  {
   "cell_type": "markdown",
   "metadata": {},
   "source": [
    "Ocurre lo mismo que antes, hay lotes que tienen más controles que otros"
   ]
  },
  {
   "cell_type": "code",
   "execution_count": 218,
   "metadata": {},
   "outputs": [
    {
     "data": {
      "text/plain": [
       "<Axes: title={'center': 'Evolución Glucosa'}>"
      ]
     },
     "execution_count": 218,
     "metadata": {},
     "output_type": "execute_result"
    },
    {
     "data": {
      "image/png": "[encoded data removed]",
      "text/plain": [
       "<Figure size 1500x500 with 2 Axes>"
      ]
     },
     "metadata": {},
     "output_type": "display_data"
    }
   ],
   "source": [
    "# mejorar  -> tomamos como ejemplo el lote con mas observaciones\n",
    "fig, axes = plt.subplots(1, 2, figsize=(15, 5))\n",
    "\n",
    "df_ipc_cultivo[df_ipc_cultivo['Lote'] == 23082]['Turbidez'].plot(kind='line', ax=axes[1], title=\"Evolución Turbidez\")\n",
    "df_ipc_cultivo[df_ipc_cultivo['Lote'] == 23082]['Glucosa g/L'].plot(kind='line', ax=axes[0], title=\"Evolución Glucosa\")\n",
    "# df_ipc_cultivo[df_ipc_cultivo['Lote'] == 23082]['Viabilidad'].plot(kind='line', ax=axes[2])"
   ]
  },
  {
   "cell_type": "markdown",
   "metadata": {},
   "source": [
    "Con los gráficos se ve claramente que ambas variables son inversamente proporcionales"
   ]
  },
  {
   "cell_type": "code",
   "execution_count": 194,
   "metadata": {},
   "outputs": [
    {
     "data": {
      "text/plain": [
       "Fecha\n",
       "7.0     241\n",
       "6.0     207\n",
       "8.0     203\n",
       "11.0    139\n",
       "10.0    117\n",
       "9.0     110\n",
       "20.0    107\n",
       "19.0    102\n",
       "12.0    100\n",
       "15.0     96\n",
       "16.0     88\n",
       "14.0     66\n",
       "18.0     60\n",
       "13.0     35\n",
       "17.0     26\n",
       "21.0     19\n",
       "5.0       2\n",
       "4.0       1\n",
       "Name: count, dtype: int64"
      ]
     },
     "execution_count": 194,
     "metadata": {},
     "output_type": "execute_result"
    }
   ],
   "source": [
    "df_ipc_cultivo['Fecha'].dt.hour.value_counts()"
   ]
  },
  {
   "cell_type": "markdown",
   "metadata": {},
   "source": [
    "De nuevo, las mediciones de realizan generalmente a primeras horas de la mañana"
   ]
  },
  {
   "cell_type": "code",
   "execution_count": 23,
   "metadata": {},
   "outputs": [
    {
     "data": {
      "text/html": [
       "<div>\n",
       "<style scoped>\n",
       "    .dataframe tbody tr th:only-of-type {\n",
       "        vertical-align: middle;\n",
       "    }\n",
       "\n",
       "    .dataframe tbody tr th {\n",
       "        vertical-align: top;\n",
       "    }\n",
       "\n",
       "    .dataframe thead th {\n",
       "        text-align: right;\n",
       "    }\n",
       "</style>\n",
       "<table border=\"1\" class=\"dataframe\">\n",
       "  <thead>\n",
       "    <tr style=\"text-align: right;\">\n",
       "      <th></th>\n",
       "      <th>Lote</th>\n",
       "      <th>Centrífuga</th>\n",
       "      <th>Centrifugada (1 o 2)</th>\n",
       "      <th>Volumen centrifugado (L)</th>\n",
       "      <th>Turbidez</th>\n",
       "    </tr>\n",
       "  </thead>\n",
       "  <tbody>\n",
       "    <tr>\n",
       "      <th>0</th>\n",
       "      <td>23019</td>\n",
       "      <td>17825</td>\n",
       "      <td>1</td>\n",
       "      <td>200</td>\n",
       "      <td>26.8</td>\n",
       "    </tr>\n",
       "    <tr>\n",
       "      <th>1</th>\n",
       "      <td>23019</td>\n",
       "      <td>17825</td>\n",
       "      <td>1</td>\n",
       "      <td>400</td>\n",
       "      <td>26.32</td>\n",
       "    </tr>\n",
       "    <tr>\n",
       "      <th>2</th>\n",
       "      <td>23019</td>\n",
       "      <td>17825</td>\n",
       "      <td>1</td>\n",
       "      <td>600</td>\n",
       "      <td>28.16</td>\n",
       "    </tr>\n",
       "    <tr>\n",
       "      <th>3</th>\n",
       "      <td>23019</td>\n",
       "      <td>17825</td>\n",
       "      <td>1</td>\n",
       "      <td>800</td>\n",
       "      <td>28.08</td>\n",
       "    </tr>\n",
       "    <tr>\n",
       "      <th>4</th>\n",
       "      <td>23019</td>\n",
       "      <td>17825</td>\n",
       "      <td>1</td>\n",
       "      <td>1000</td>\n",
       "      <td>28.4</td>\n",
       "    </tr>\n",
       "  </tbody>\n",
       "</table>\n",
       "</div>"
      ],
      "text/plain": [
       "    Lote  Centrífuga  Centrifugada (1 o 2)  Volumen centrifugado (L) Turbidez\n",
       "0  23019       17825                     1                       200     26.8\n",
       "1  23019       17825                     1                       400    26.32\n",
       "2  23019       17825                     1                       600    28.16\n",
       "3  23019       17825                     1                       800    28.08\n",
       "4  23019       17825                     1                      1000     28.4"
      ]
     },
     "execution_count": 23,
     "metadata": {},
     "output_type": "execute_result"
    }
   ],
   "source": [
    "df_ipc_centrifuga = pd.read_excel('raw_data/Cinéticos IPC.xlsx', sheet_name='Centrifugación', engine='openpyxl')\n",
    "df_ipc_centrifuga.head(5)"
   ]
  },
  {
   "cell_type": "code",
   "execution_count": 24,
   "metadata": {},
   "outputs": [
    {
     "data": {
      "text/plain": [
       "(2426, 5)"
      ]
     },
     "execution_count": 24,
     "metadata": {},
     "output_type": "execute_result"
    }
   ],
   "source": [
    "df_ipc_centrifuga.shape"
   ]
  },
  {
   "cell_type": "code",
   "execution_count": 25,
   "metadata": {},
   "outputs": [
    {
     "data": {
      "text/plain": [
       "(2209, 5)"
      ]
     },
     "execution_count": 25,
     "metadata": {},
     "output_type": "execute_result"
    }
   ],
   "source": [
    "df_ipc_centrifuga = df_ipc_centrifuga[df_ipc_centrifuga['Lote'].isin(LOTES)]\n",
    "df_ipc_centrifuga.shape"
   ]
  },
  {
   "cell_type": "code",
   "execution_count": 26,
   "metadata": {},
   "outputs": [
    {
     "name": "stdout",
     "output_type": "stream",
     "text": [
      "<class 'pandas.core.frame.DataFrame'>\n",
      "Index: 2209 entries, 0 to 2420\n",
      "Data columns (total 5 columns):\n",
      " #   Column                    Non-Null Count  Dtype \n",
      "---  ------                    --------------  ----- \n",
      " 0   Lote                      2209 non-null   object\n",
      " 1   Centrífuga                2209 non-null   int64 \n",
      " 2   Centrifugada (1 o 2)      2209 non-null   int64 \n",
      " 3   Volumen centrifugado (L)  2209 non-null   int64 \n",
      " 4   Turbidez                  2176 non-null   object\n",
      "dtypes: int64(3), object(2)\n",
      "memory usage: 103.5+ KB\n"
     ]
    }
   ],
   "source": [
    "df_ipc_centrifuga.info()"
   ]
  },
  {
   "cell_type": "markdown",
   "metadata": {},
   "source": [
    "No se carga correctamente la turbidez por la falta de algunos registros. Se fuerza el casteo"
   ]
  },
  {
   "cell_type": "code",
   "execution_count": 27,
   "metadata": {},
   "outputs": [],
   "source": [
    "df_ipc_centrifuga['Turbidez'] = pd.to_numeric(df_ipc_centrifuga['Turbidez'], errors='coerce')"
   ]
  },
  {
   "cell_type": "code",
   "execution_count": 28,
   "metadata": {},
   "outputs": [
    {
     "data": {
      "text/html": [
       "<div>\n",
       "<style scoped>\n",
       "    .dataframe tbody tr th:only-of-type {\n",
       "        vertical-align: middle;\n",
       "    }\n",
       "\n",
       "    .dataframe tbody tr th {\n",
       "        vertical-align: top;\n",
       "    }\n",
       "\n",
       "    .dataframe thead th {\n",
       "        text-align: right;\n",
       "    }\n",
       "</style>\n",
       "<table border=\"1\" class=\"dataframe\">\n",
       "  <thead>\n",
       "    <tr style=\"text-align: right;\">\n",
       "      <th></th>\n",
       "      <th>Turbidez</th>\n",
       "      <th>Volumen centrifugado (L)</th>\n",
       "    </tr>\n",
       "  </thead>\n",
       "  <tbody>\n",
       "    <tr>\n",
       "      <th>count</th>\n",
       "      <td>2164.000000</td>\n",
       "      <td>2209.000000</td>\n",
       "    </tr>\n",
       "    <tr>\n",
       "      <th>mean</th>\n",
       "      <td>28.149030</td>\n",
       "      <td>836.803984</td>\n",
       "    </tr>\n",
       "    <tr>\n",
       "      <th>std</th>\n",
       "      <td>16.282145</td>\n",
       "      <td>638.533843</td>\n",
       "    </tr>\n",
       "    <tr>\n",
       "      <th>min</th>\n",
       "      <td>6.480000</td>\n",
       "      <td>100.000000</td>\n",
       "    </tr>\n",
       "    <tr>\n",
       "      <th>25%</th>\n",
       "      <td>23.360000</td>\n",
       "      <td>300.000000</td>\n",
       "    </tr>\n",
       "    <tr>\n",
       "      <th>50%</th>\n",
       "      <td>27.440000</td>\n",
       "      <td>600.000000</td>\n",
       "    </tr>\n",
       "    <tr>\n",
       "      <th>75%</th>\n",
       "      <td>30.160000</td>\n",
       "      <td>1400.000000</td>\n",
       "    </tr>\n",
       "    <tr>\n",
       "      <th>max</th>\n",
       "      <td>275.200000</td>\n",
       "      <td>2000.000000</td>\n",
       "    </tr>\n",
       "  </tbody>\n",
       "</table>\n",
       "</div>"
      ],
      "text/plain": [
       "          Turbidez  Volumen centrifugado (L)\n",
       "count  2164.000000               2209.000000\n",
       "mean     28.149030                836.803984\n",
       "std      16.282145                638.533843\n",
       "min       6.480000                100.000000\n",
       "25%      23.360000                300.000000\n",
       "50%      27.440000                600.000000\n",
       "75%      30.160000               1400.000000\n",
       "max     275.200000               2000.000000"
      ]
     },
     "execution_count": 28,
     "metadata": {},
     "output_type": "execute_result"
    }
   ],
   "source": [
    "df_ipc_centrifuga[['Turbidez', 'Volumen centrifugado (L)']].describe()"
   ]
  },
  {
   "cell_type": "markdown",
   "metadata": {},
   "source": [
    "Algo que llama mucho la atención es el hehco de que volumen de centrifugado es muy dispar. Veamos que ocurre con esta variable"
   ]
  },
  {
   "cell_type": "code",
   "execution_count": 29,
   "metadata": {},
   "outputs": [
    {
     "data": {
      "text/plain": [
       "Lote   Centrífuga  Centrifugada (1 o 2)  Volumen centrifugado (L)  Turbidez\n",
       "23019  17825       1                     200                       26.80       1\n",
       "23131  17825       1                     1000                      33.04       1\n",
       "23132  12912       1                     1000                      31.68       1\n",
       "                                         800                       32.00       1\n",
       "                                         600                       31.28       1\n",
       "                                                                              ..\n",
       "23077  14246       2                     200                       21.20       1\n",
       "                                         100                       17.04       1\n",
       "                   1                     2000                      30.48       1\n",
       "                                         1800                      29.84       1\n",
       "24110  14246       2                     400                       27.60       1\n",
       "Name: count, Length: 2164, dtype: int64"
      ]
     },
     "execution_count": 29,
     "metadata": {},
     "output_type": "execute_result"
    }
   ],
   "source": [
    "df_ipc_centrifuga.value_counts()"
   ]
  },
  {
   "cell_type": "markdown",
   "metadata": {},
   "source": [
    "Al parecer un mismo lote se centrifuga varias veces y con volumenes diferentes en la misma centrifugadora"
   ]
  },
  {
   "cell_type": "code",
   "execution_count": 30,
   "metadata": {},
   "outputs": [
    {
     "data": {
      "text/plain": [
       "Centrífuga\n",
       "14246    846\n",
       "17825    773\n",
       "12912    556\n",
       "6379      19\n",
       "14247     10\n",
       "14146      5\n",
       "Name: count, dtype: int64"
      ]
     },
     "execution_count": 30,
     "metadata": {},
     "output_type": "execute_result"
    }
   ],
   "source": [
    "df_ipc_centrifuga['Centrífuga'].value_counts()"
   ]
  },
  {
   "cell_type": "markdown",
   "metadata": {},
   "source": [
    "Hay mas centrifugadores que las expuestas en el enunciado:\n",
    "\n",
    "> \"Las dos centrifugaciones se realizan en la misma centrífuga. Los códigos de las centrífugas son: 12912, 14246, 17825\"\n",
    "\n",
    "¿Nos tenemos que quedar unicamente con las tres que mas se usan? (Son las que coinciden con el enunciado del reto)"
   ]
  },
  {
   "cell_type": "code",
   "execution_count": 31,
   "metadata": {},
   "outputs": [],
   "source": [
    "ids_centrifugadora = [12912, 14246, 17825]"
   ]
  },
  {
   "cell_type": "code",
   "execution_count": 32,
   "metadata": {},
   "outputs": [
    {
     "data": {
      "text/plain": [
       "Centrifugada (1 o 2)\n",
       "1    1535\n",
       "2     674\n",
       "Name: count, dtype: int64"
      ]
     },
     "execution_count": 32,
     "metadata": {},
     "output_type": "execute_result"
    }
   ],
   "source": [
    "df_ipc_centrifuga['Centrifugada (1 o 2)'].value_counts()"
   ]
  },
  {
   "cell_type": "code",
   "execution_count": 33,
   "metadata": {},
   "outputs": [
    {
     "data": {
      "text/html": [
       "<div>\n",
       "<style scoped>\n",
       "    .dataframe tbody tr th:only-of-type {\n",
       "        vertical-align: middle;\n",
       "    }\n",
       "\n",
       "    .dataframe tbody tr th {\n",
       "        vertical-align: top;\n",
       "    }\n",
       "\n",
       "    .dataframe thead tr th {\n",
       "        text-align: left;\n",
       "    }\n",
       "\n",
       "    .dataframe thead tr:last-of-type th {\n",
       "        text-align: right;\n",
       "    }\n",
       "</style>\n",
       "<table border=\"1\" class=\"dataframe\">\n",
       "  <thead>\n",
       "    <tr>\n",
       "      <th></th>\n",
       "      <th colspan=\"4\" halign=\"left\">Volumen centrifugado (L)</th>\n",
       "      <th colspan=\"2\" halign=\"left\">Turbidez</th>\n",
       "      <th colspan=\"2\" halign=\"left\">Centrifugada (1 o 2)</th>\n",
       "    </tr>\n",
       "    <tr>\n",
       "      <th></th>\n",
       "      <th>sum</th>\n",
       "      <th>max</th>\n",
       "      <th>min</th>\n",
       "      <th>list</th>\n",
       "      <th>mean</th>\n",
       "      <th>std</th>\n",
       "      <th>count1</th>\n",
       "      <th>count2</th>\n",
       "    </tr>\n",
       "    <tr>\n",
       "      <th>Lote</th>\n",
       "      <th></th>\n",
       "      <th></th>\n",
       "      <th></th>\n",
       "      <th></th>\n",
       "      <th></th>\n",
       "      <th></th>\n",
       "      <th></th>\n",
       "      <th></th>\n",
       "    </tr>\n",
       "  </thead>\n",
       "  <tbody>\n",
       "    <tr>\n",
       "      <th>23019</th>\n",
       "      <td>12000</td>\n",
       "      <td>2000</td>\n",
       "      <td>100</td>\n",
       "      <td>[200, 400, 600, 800, 1000, 1200, 1400, 1600, 1...</td>\n",
       "      <td>26.017143</td>\n",
       "      <td>3.252065</td>\n",
       "      <td>10</td>\n",
       "      <td>4</td>\n",
       "    </tr>\n",
       "    <tr>\n",
       "      <th>23020</th>\n",
       "      <td>12000</td>\n",
       "      <td>2000</td>\n",
       "      <td>100</td>\n",
       "      <td>[200, 400, 600, 800, 1000, 1200, 1400, 1600, 1...</td>\n",
       "      <td>24.011429</td>\n",
       "      <td>7.357448</td>\n",
       "      <td>10</td>\n",
       "      <td>4</td>\n",
       "    </tr>\n",
       "    <tr>\n",
       "      <th>23021</th>\n",
       "      <td>12000</td>\n",
       "      <td>2000</td>\n",
       "      <td>100</td>\n",
       "      <td>[200, 400, 600, 800, 1000, 1200, 1400, 1600, 1...</td>\n",
       "      <td>26.291429</td>\n",
       "      <td>4.678525</td>\n",
       "      <td>10</td>\n",
       "      <td>4</td>\n",
       "    </tr>\n",
       "    <tr>\n",
       "      <th>23022</th>\n",
       "      <td>12000</td>\n",
       "      <td>2000</td>\n",
       "      <td>100</td>\n",
       "      <td>[200, 400, 600, 800, 1000, 1200, 1400, 1600, 1...</td>\n",
       "      <td>21.782857</td>\n",
       "      <td>7.651835</td>\n",
       "      <td>10</td>\n",
       "      <td>4</td>\n",
       "    </tr>\n",
       "    <tr>\n",
       "      <th>23023</th>\n",
       "      <td>12000</td>\n",
       "      <td>2000</td>\n",
       "      <td>100</td>\n",
       "      <td>[200, 400, 600, 800, 1000, 1200, 1400, 1600, 1...</td>\n",
       "      <td>24.977143</td>\n",
       "      <td>2.720394</td>\n",
       "      <td>10</td>\n",
       "      <td>4</td>\n",
       "    </tr>\n",
       "    <tr>\n",
       "      <th>...</th>\n",
       "      <td>...</td>\n",
       "      <td>...</td>\n",
       "      <td>...</td>\n",
       "      <td>...</td>\n",
       "      <td>...</td>\n",
       "      <td>...</td>\n",
       "      <td>...</td>\n",
       "      <td>...</td>\n",
       "    </tr>\n",
       "    <tr>\n",
       "      <th>24106</th>\n",
       "      <td>3700</td>\n",
       "      <td>2000</td>\n",
       "      <td>100</td>\n",
       "      <td>[200, 1000, 2000, 100, 400]</td>\n",
       "      <td>29.856000</td>\n",
       "      <td>3.199200</td>\n",
       "      <td>3</td>\n",
       "      <td>2</td>\n",
       "    </tr>\n",
       "    <tr>\n",
       "      <th>24107</th>\n",
       "      <td>3700</td>\n",
       "      <td>2000</td>\n",
       "      <td>100</td>\n",
       "      <td>[200, 1000, 2000, 100, 400]</td>\n",
       "      <td>26.288000</td>\n",
       "      <td>2.781424</td>\n",
       "      <td>3</td>\n",
       "      <td>2</td>\n",
       "    </tr>\n",
       "    <tr>\n",
       "      <th>24108</th>\n",
       "      <td>3700</td>\n",
       "      <td>2000</td>\n",
       "      <td>100</td>\n",
       "      <td>[200, 1000, 2000, 100, 400]</td>\n",
       "      <td>24.016000</td>\n",
       "      <td>7.869211</td>\n",
       "      <td>3</td>\n",
       "      <td>2</td>\n",
       "    </tr>\n",
       "    <tr>\n",
       "      <th>24109</th>\n",
       "      <td>3700</td>\n",
       "      <td>2000</td>\n",
       "      <td>100</td>\n",
       "      <td>[200, 1000, 2000, 100, 400]</td>\n",
       "      <td>30.480000</td>\n",
       "      <td>1.723253</td>\n",
       "      <td>3</td>\n",
       "      <td>2</td>\n",
       "    </tr>\n",
       "    <tr>\n",
       "      <th>24110</th>\n",
       "      <td>3700</td>\n",
       "      <td>2000</td>\n",
       "      <td>100</td>\n",
       "      <td>[200, 1000, 2000, 100, 400]</td>\n",
       "      <td>31.856000</td>\n",
       "      <td>3.717375</td>\n",
       "      <td>3</td>\n",
       "      <td>2</td>\n",
       "    </tr>\n",
       "  </tbody>\n",
       "</table>\n",
       "<p>206 rows × 8 columns</p>\n",
       "</div>"
      ],
      "text/plain": [
       "      Volumen centrifugado (L)             \\\n",
       "                           sum   max  min   \n",
       "Lote                                        \n",
       "23019                    12000  2000  100   \n",
       "23020                    12000  2000  100   \n",
       "23021                    12000  2000  100   \n",
       "23022                    12000  2000  100   \n",
       "23023                    12000  2000  100   \n",
       "...                        ...   ...  ...   \n",
       "24106                     3700  2000  100   \n",
       "24107                     3700  2000  100   \n",
       "24108                     3700  2000  100   \n",
       "24109                     3700  2000  100   \n",
       "24110                     3700  2000  100   \n",
       "\n",
       "                                                           Turbidez            \\\n",
       "                                                    list       mean       std   \n",
       "Lote                                                                            \n",
       "23019  [200, 400, 600, 800, 1000, 1200, 1400, 1600, 1...  26.017143  3.252065   \n",
       "23020  [200, 400, 600, 800, 1000, 1200, 1400, 1600, 1...  24.011429  7.357448   \n",
       "23021  [200, 400, 600, 800, 1000, 1200, 1400, 1600, 1...  26.291429  4.678525   \n",
       "23022  [200, 400, 600, 800, 1000, 1200, 1400, 1600, 1...  21.782857  7.651835   \n",
       "23023  [200, 400, 600, 800, 1000, 1200, 1400, 1600, 1...  24.977143  2.720394   \n",
       "...                                                  ...        ...       ...   \n",
       "24106                        [200, 1000, 2000, 100, 400]  29.856000  3.199200   \n",
       "24107                        [200, 1000, 2000, 100, 400]  26.288000  2.781424   \n",
       "24108                        [200, 1000, 2000, 100, 400]  24.016000  7.869211   \n",
       "24109                        [200, 1000, 2000, 100, 400]  30.480000  1.723253   \n",
       "24110                        [200, 1000, 2000, 100, 400]  31.856000  3.717375   \n",
       "\n",
       "      Centrifugada (1 o 2)         \n",
       "                    count1 count2  \n",
       "Lote                               \n",
       "23019                   10      4  \n",
       "23020                   10      4  \n",
       "23021                   10      4  \n",
       "23022                   10      4  \n",
       "23023                   10      4  \n",
       "...                    ...    ...  \n",
       "24106                    3      2  \n",
       "24107                    3      2  \n",
       "24108                    3      2  \n",
       "24109                    3      2  \n",
       "24110                    3      2  \n",
       "\n",
       "[206 rows x 8 columns]"
      ]
     },
     "execution_count": 33,
     "metadata": {},
     "output_type": "execute_result"
    }
   ],
   "source": [
    "df_ipc_centrifuga.groupby(by='Lote').agg(\n",
    "    {'Volumen centrifugado (L)': ['sum', 'max', 'min', list], \n",
    "     'Turbidez': ['mean', 'std'], \n",
    "     'Centrifugada (1 o 2)': [\n",
    "         ('count1', lambda x: (x == 1).sum()), \n",
    "         ('count2',lambda x: (x == 2).sum())\n",
    "        ]\n",
    "    })"
   ]
  },
  {
   "cell_type": "markdown",
   "metadata": {},
   "source": [
    "- Los volumenes de centrifugado son siempre estándar: múltiplos de 200\n",
    "- La turbidez entre los diferentes volumenes varía ligeramente \n",
    "- Es evidente que los volumenes de centrifugado son mayores en la fase 1, quedando menor volumen para la segunda centrifugación (fijándonos en el orden de las listas de volumenes)"
   ]
  },
  {
   "cell_type": "markdown",
   "metadata": {},
   "source": [
    "##### Variables centrifugadoras"
   ]
  },
  {
   "cell_type": "markdown",
   "metadata": {},
   "source": [
    "Al igual que los biorreactores, las centrifugadores también disponen de un conjunto de mediciones a lo largo del tiempo. Seleccionaremos uno de las tablas al \"azar\" dado que todos siguen la misma estructura"
   ]
  },
  {
   "cell_type": "code",
   "execution_count": 9,
   "metadata": {},
   "outputs": [
    {
     "data": {
      "text/html": [
       "<div>\n",
       "<style scoped>\n",
       "    .dataframe tbody tr th:only-of-type {\n",
       "        vertical-align: middle;\n",
       "    }\n",
       "\n",
       "    .dataframe tbody tr th {\n",
       "        vertical-align: top;\n",
       "    }\n",
       "\n",
       "    .dataframe thead th {\n",
       "        text-align: right;\n",
       "    }\n",
       "</style>\n",
       "<table border=\"1\" class=\"dataframe\">\n",
       "  <thead>\n",
       "    <tr style=\"text-align: right;\">\n",
       "      <th></th>\n",
       "      <th>14246_CTF0101.EN_Parcial</th>\n",
       "      <th>14246_CTF0101.EN_Total</th>\n",
       "      <th>14246_D01780551.PV</th>\n",
       "      <th>14246_D01906041.PV</th>\n",
       "      <th>14246_D01916047.PV</th>\n",
       "      <th>14246_D01916503.PV</th>\n",
       "      <th>14246_D01919022.PV</th>\n",
       "    </tr>\n",
       "    <tr>\n",
       "      <th>DateTime</th>\n",
       "      <th></th>\n",
       "      <th></th>\n",
       "      <th></th>\n",
       "      <th></th>\n",
       "      <th></th>\n",
       "      <th></th>\n",
       "      <th></th>\n",
       "    </tr>\n",
       "  </thead>\n",
       "  <tbody>\n",
       "    <tr>\n",
       "      <th>2023-03-15 00:00:00</th>\n",
       "      <td>0.0</td>\n",
       "      <td>0.0</td>\n",
       "      <td>100.0</td>\n",
       "      <td>0.0</td>\n",
       "      <td>0.426557</td>\n",
       "      <td>NaN</td>\n",
       "      <td>0.0</td>\n",
       "    </tr>\n",
       "    <tr>\n",
       "      <th>2023-03-15 00:15:00</th>\n",
       "      <td>0.0</td>\n",
       "      <td>0.0</td>\n",
       "      <td>100.0</td>\n",
       "      <td>0.0</td>\n",
       "      <td>0.425116</td>\n",
       "      <td>NaN</td>\n",
       "      <td>0.0</td>\n",
       "    </tr>\n",
       "    <tr>\n",
       "      <th>2023-03-15 00:30:00</th>\n",
       "      <td>0.0</td>\n",
       "      <td>0.0</td>\n",
       "      <td>100.0</td>\n",
       "      <td>0.0</td>\n",
       "      <td>0.425405</td>\n",
       "      <td>NaN</td>\n",
       "      <td>0.0</td>\n",
       "    </tr>\n",
       "    <tr>\n",
       "      <th>2023-03-15 00:45:00</th>\n",
       "      <td>0.0</td>\n",
       "      <td>0.0</td>\n",
       "      <td>100.0</td>\n",
       "      <td>0.0</td>\n",
       "      <td>0.425408</td>\n",
       "      <td>NaN</td>\n",
       "      <td>0.0</td>\n",
       "    </tr>\n",
       "    <tr>\n",
       "      <th>2023-03-15 01:00:00</th>\n",
       "      <td>0.0</td>\n",
       "      <td>0.0</td>\n",
       "      <td>100.0</td>\n",
       "      <td>0.0</td>\n",
       "      <td>0.426263</td>\n",
       "      <td>NaN</td>\n",
       "      <td>0.0</td>\n",
       "    </tr>\n",
       "  </tbody>\n",
       "</table>\n",
       "</div>"
      ],
      "text/plain": [
       "                     14246_CTF0101.EN_Parcial  14246_CTF0101.EN_Total  \\\n",
       "DateTime                                                                \n",
       "2023-03-15 00:00:00                       0.0                     0.0   \n",
       "2023-03-15 00:15:00                       0.0                     0.0   \n",
       "2023-03-15 00:30:00                       0.0                     0.0   \n",
       "2023-03-15 00:45:00                       0.0                     0.0   \n",
       "2023-03-15 01:00:00                       0.0                     0.0   \n",
       "\n",
       "                     14246_D01780551.PV  14246_D01906041.PV  \\\n",
       "DateTime                                                      \n",
       "2023-03-15 00:00:00               100.0                 0.0   \n",
       "2023-03-15 00:15:00               100.0                 0.0   \n",
       "2023-03-15 00:30:00               100.0                 0.0   \n",
       "2023-03-15 00:45:00               100.0                 0.0   \n",
       "2023-03-15 01:00:00               100.0                 0.0   \n",
       "\n",
       "                     14246_D01916047.PV  14246_D01916503.PV  \\\n",
       "DateTime                                                      \n",
       "2023-03-15 00:00:00            0.426557                 NaN   \n",
       "2023-03-15 00:15:00            0.425116                 NaN   \n",
       "2023-03-15 00:30:00            0.425405                 NaN   \n",
       "2023-03-15 00:45:00            0.425408                 NaN   \n",
       "2023-03-15 01:00:00            0.426263                 NaN   \n",
       "\n",
       "                     14246_D01919022.PV  \n",
       "DateTime                                 \n",
       "2023-03-15 00:00:00                 0.0  \n",
       "2023-03-15 00:15:00                 0.0  \n",
       "2023-03-15 00:30:00                 0.0  \n",
       "2023-03-15 00:45:00                 0.0  \n",
       "2023-03-15 01:00:00                 0.0  "
      ]
     },
     "execution_count": 9,
     "metadata": {},
     "output_type": "execute_result"
    }
   ],
   "source": [
    "np.random.seed(seed)\n",
    "centrifugadora_choice = np.random.choice(ids_centrifugadora)\n",
    "\n",
    "\n",
    "df_centrifugadora = pd.read_excel(f'raw_data/Centrífuga {centrifugadora_choice}.xlsx',\n",
    "                               sheet_name='Datos', index_col='DateTime', parse_dates=True, engine='openpyxl')\n",
    "df_centrifugadora.head(5)"
   ]
  },
  {
   "cell_type": "code",
   "execution_count": 11,
   "metadata": {},
   "outputs": [
    {
     "data": {
      "text/plain": [
       "(52413, 7)"
      ]
     },
     "execution_count": 11,
     "metadata": {},
     "output_type": "execute_result"
    }
   ],
   "source": [
    "df_centrifugadora.shape"
   ]
  },
  {
   "cell_type": "code",
   "execution_count": 21,
   "metadata": {},
   "outputs": [
    {
     "name": "stdout",
     "output_type": "stream",
     "text": [
      "<class 'pandas.core.frame.DataFrame'>\n",
      "DatetimeIndex: 52413 entries, 2023-03-15 00:00:00 to 2024-09-11 00:00:00\n",
      "Data columns (total 7 columns):\n",
      " #   Column                    Non-Null Count  Dtype  \n",
      "---  ------                    --------------  -----  \n",
      " 0   14246_CTF0101.EN_Parcial  51828 non-null  float64\n",
      " 1   14246_CTF0101.EN_Total    51828 non-null  float64\n",
      " 2   14246_D01780551.PV        52368 non-null  float64\n",
      " 3   14246_D01906041.PV        52368 non-null  float64\n",
      " 4   14246_D01916047.PV        52368 non-null  float64\n",
      " 5   14246_D01916503.PV        37518 non-null  float64\n",
      " 6   14246_D01919022.PV        52368 non-null  float64\n",
      "dtypes: float64(7)\n",
      "memory usage: 3.2 MB\n"
     ]
    }
   ],
   "source": [
    "df_centrifugadora.info()"
   ]
  },
  {
   "cell_type": "code",
   "execution_count": 22,
   "metadata": {},
   "outputs": [
    {
     "data": {
      "text/plain": [
       "14246_CTF0101.EN_Parcial      585\n",
       "14246_CTF0101.EN_Total        585\n",
       "14246_D01780551.PV             45\n",
       "14246_D01906041.PV             45\n",
       "14246_D01916047.PV             45\n",
       "14246_D01916503.PV          14895\n",
       "14246_D01919022.PV             45\n",
       "dtype: int64"
      ]
     },
     "execution_count": 22,
     "metadata": {},
     "output_type": "execute_result"
    }
   ],
   "source": [
    "df_centrifugadora.isna().sum()"
   ]
  },
  {
   "cell_type": "markdown",
   "metadata": {},
   "source": [
    "Nos encontramos con valores perdidos en todas las columnas, pero hay una que llama más la atención que otras `D01916503.PV` (Presión del agua de maniobra) que faltan muchos más registros en comparación con el resto"
   ]
  },
  {
   "cell_type": "markdown",
   "metadata": {},
   "source": [
    "Para ver la evolución de las variables en el tiempo, cogeremos un lote al \"azar\" como muestra para ver como se comportan y entender cómo se pueden explotar estos datos. Primero, necesitaremos los horarios de las centrifugadoras"
   ]
  },
  {
   "cell_type": "code",
   "execution_count": 40,
   "metadata": {},
   "outputs": [
    {
     "data": {
      "text/html": [
       "<div>\n",
       "<style scoped>\n",
       "    .dataframe tbody tr th:only-of-type {\n",
       "        vertical-align: middle;\n",
       "    }\n",
       "\n",
       "    .dataframe tbody tr th {\n",
       "        vertical-align: top;\n",
       "    }\n",
       "\n",
       "    .dataframe thead th {\n",
       "        text-align: right;\n",
       "    }\n",
       "</style>\n",
       "<table border=\"1\" class=\"dataframe\">\n",
       "  <thead>\n",
       "    <tr style=\"text-align: right;\">\n",
       "      <th></th>\n",
       "      <th>EQUIPO</th>\n",
       "      <th>Operación</th>\n",
       "      <th>Orden</th>\n",
       "      <th>DATEVALUE</th>\n",
       "    </tr>\n",
       "  </thead>\n",
       "  <tbody>\n",
       "    <tr>\n",
       "      <th>0</th>\n",
       "      <td>14246</td>\n",
       "      <td>Centrifugació 1 ini</td>\n",
       "      <td>10005144</td>\n",
       "      <td>2023-05-26 13:45:41</td>\n",
       "    </tr>\n",
       "    <tr>\n",
       "      <th>1</th>\n",
       "      <td>14246</td>\n",
       "      <td>Centrifugació 1 fi</td>\n",
       "      <td>10005144</td>\n",
       "      <td>2023-05-26 15:26:57</td>\n",
       "    </tr>\n",
       "    <tr>\n",
       "      <th>2</th>\n",
       "      <td>14246</td>\n",
       "      <td>Centrifugació 2 ini</td>\n",
       "      <td>10005144</td>\n",
       "      <td>2023-05-26 16:56:30</td>\n",
       "    </tr>\n",
       "    <tr>\n",
       "      <th>3</th>\n",
       "      <td>14246</td>\n",
       "      <td>Centrifugació 2 fi</td>\n",
       "      <td>10005144</td>\n",
       "      <td>2023-05-26 18:18:12</td>\n",
       "    </tr>\n",
       "    <tr>\n",
       "      <th>4</th>\n",
       "      <td>14246</td>\n",
       "      <td>Centrifugació 1 ini</td>\n",
       "      <td>10005176</td>\n",
       "      <td>2023-07-07 11:53:24</td>\n",
       "    </tr>\n",
       "  </tbody>\n",
       "</table>\n",
       "</div>"
      ],
      "text/plain": [
       "   EQUIPO            Operación     Orden           DATEVALUE\n",
       "0   14246  Centrifugació 1 ini  10005144 2023-05-26 13:45:41\n",
       "1   14246   Centrifugació 1 fi  10005144 2023-05-26 15:26:57\n",
       "2   14246  Centrifugació 2 ini  10005144 2023-05-26 16:56:30\n",
       "3   14246   Centrifugació 2 fi  10005144 2023-05-26 18:18:12\n",
       "4   14246  Centrifugació 1 ini  10005176 2023-07-07 11:53:24"
      ]
     },
     "execution_count": 40,
     "metadata": {},
     "output_type": "execute_result"
    }
   ],
   "source": [
    "df_horario_centrifuga = pd.read_excel('raw_data/Horas inicio fin centrífugas.xlsx',parse_dates=[\"DATEVALUE\"] , engine='openpyxl')\n",
    "df_horario_centrifuga.head(5)"
   ]
  },
  {
   "cell_type": "code",
   "execution_count": 41,
   "metadata": {},
   "outputs": [
    {
     "data": {
      "text/plain": [
       "(984, 4)"
      ]
     },
     "execution_count": 41,
     "metadata": {},
     "output_type": "execute_result"
    }
   ],
   "source": [
    "df_horario_centrifuga.shape"
   ]
  },
  {
   "cell_type": "code",
   "execution_count": 42,
   "metadata": {},
   "outputs": [
    {
     "name": "stdout",
     "output_type": "stream",
     "text": [
      "<class 'pandas.core.frame.DataFrame'>\n",
      "RangeIndex: 984 entries, 0 to 983\n",
      "Data columns (total 4 columns):\n",
      " #   Column     Non-Null Count  Dtype         \n",
      "---  ------     --------------  -----         \n",
      " 0   EQUIPO     984 non-null    int64         \n",
      " 1   Operación  984 non-null    object        \n",
      " 2   Orden      984 non-null    int64         \n",
      " 3   DATEVALUE  984 non-null    datetime64[ns]\n",
      "dtypes: datetime64[ns](1), int64(2), object(1)\n",
      "memory usage: 30.9+ KB\n"
     ]
    }
   ],
   "source": [
    "df_horario_centrifuga.info()"
   ]
  },
  {
   "cell_type": "markdown",
   "metadata": {},
   "source": [
    "Esta tabla tiene ciertas peculiaridades. A diferencia del resto, su índice no es de tipo `datetime`. Más bien se basa en los \"eventos\" que ocurren: inicio y fin de centrifugación. Esto complica en gran parte su manejo y también cruce con otras tablas para obtener información.\n",
    "\n",
    "- Las filas deben a pasar a ser columnas (pivot) donde las cuatro operaciones: \"Centri 1 ini\" , \"Centri 1 fin\", \"Centri 2 ini\", \"Centri 2 fin\" pasen a ser columnas/variables de tipo temporal con los datos de la columna `DATEVALUE`\n",
    "- Aqui se trabaja con ordenes en lugar de lotes como en el resto de conjuntos. Habría que añadir la correspondencia para no tener que realizar siempre `join` con la tabla de información básica inicial proporcionada\n",
    "- La columna `EQUIPO` debe ser renombrada para que sea comun un nombre comun con las otras tablas"
   ]
  },
  {
   "cell_type": "markdown",
   "metadata": {},
   "source": [
    "Para poder realizar la tarea de exploración, haremos las operaciones manualmente por agilidad"
   ]
  },
  {
   "cell_type": "code",
   "execution_count": 44,
   "metadata": {},
   "outputs": [
    {
     "data": {
      "text/html": [
       "<div>\n",
       "<style scoped>\n",
       "    .dataframe tbody tr th:only-of-type {\n",
       "        vertical-align: middle;\n",
       "    }\n",
       "\n",
       "    .dataframe tbody tr th {\n",
       "        vertical-align: top;\n",
       "    }\n",
       "\n",
       "    .dataframe thead th {\n",
       "        text-align: right;\n",
       "    }\n",
       "</style>\n",
       "<table border=\"1\" class=\"dataframe\">\n",
       "  <thead>\n",
       "    <tr style=\"text-align: right;\">\n",
       "      <th></th>\n",
       "      <th>EQUIPO</th>\n",
       "      <th>Operación</th>\n",
       "      <th>Orden</th>\n",
       "      <th>DATEVALUE</th>\n",
       "    </tr>\n",
       "  </thead>\n",
       "  <tbody>\n",
       "    <tr>\n",
       "      <th>0</th>\n",
       "      <td>14246</td>\n",
       "      <td>Centrifugació 1 ini</td>\n",
       "      <td>10005144</td>\n",
       "      <td>2023-05-26 13:45:41</td>\n",
       "    </tr>\n",
       "    <tr>\n",
       "      <th>1</th>\n",
       "      <td>14246</td>\n",
       "      <td>Centrifugació 1 fi</td>\n",
       "      <td>10005144</td>\n",
       "      <td>2023-05-26 15:26:57</td>\n",
       "    </tr>\n",
       "  </tbody>\n",
       "</table>\n",
       "</div>"
      ],
      "text/plain": [
       "   EQUIPO            Operación     Orden           DATEVALUE\n",
       "0   14246  Centrifugació 1 ini  10005144 2023-05-26 13:45:41\n",
       "1   14246   Centrifugació 1 fi  10005144 2023-05-26 15:26:57"
      ]
     },
     "execution_count": 44,
     "metadata": {},
     "output_type": "execute_result"
    }
   ],
   "source": [
    "df_horario_centrifuga[df_horario_centrifuga['EQUIPO'] == centrifugadora_choice][0:2]"
   ]
  },
  {
   "cell_type": "code",
   "execution_count": 46,
   "metadata": {},
   "outputs": [
    {
     "name": "stdout",
     "output_type": "stream",
     "text": [
      "2023-05-26 13:45:41\n",
      "2023-05-26 15:26:57\n"
     ]
    }
   ],
   "source": [
    "ini, fin = df_horario_centrifuga[df_horario_centrifuga['EQUIPO'] == centrifugadora_choice][0:2]['DATEVALUE'].to_list()\n",
    "print(ini)\n",
    "print(fin)"
   ]
  },
  {
   "cell_type": "code",
   "execution_count": 47,
   "metadata": {},
   "outputs": [
    {
     "data": {
      "text/plain": [
       "np.int64(23088)"
      ]
     },
     "execution_count": 47,
     "metadata": {},
     "output_type": "execute_result"
    }
   ],
   "source": [
    "np.random.seed(seed)\n",
    "lotes_centrifugadora = df_ipc_centrifuga[df_ipc_centrifuga['Centrífuga'] == centrifugadora_choice]['Lote'].to_list()\n",
    "lote_choice = np.random.choice(lotes_centrifugadora)\n",
    "lote_choice"
   ]
  },
  {
   "cell_type": "code",
   "execution_count": 48,
   "metadata": {},
   "outputs": [
    {
     "data": {
      "text/html": [
       "<div>\n",
       "<style scoped>\n",
       "    .dataframe tbody tr th:only-of-type {\n",
       "        vertical-align: middle;\n",
       "    }\n",
       "\n",
       "    .dataframe tbody tr th {\n",
       "        vertical-align: top;\n",
       "    }\n",
       "\n",
       "    .dataframe thead th {\n",
       "        text-align: right;\n",
       "    }\n",
       "</style>\n",
       "<table border=\"1\" class=\"dataframe\">\n",
       "  <thead>\n",
       "    <tr style=\"text-align: right;\">\n",
       "      <th></th>\n",
       "      <th>Lote</th>\n",
       "      <th>Centrífuga</th>\n",
       "      <th>Centrifugada (1 o 2)</th>\n",
       "      <th>Volumen centrifugado (L)</th>\n",
       "      <th>Turbidez</th>\n",
       "    </tr>\n",
       "  </thead>\n",
       "  <tbody>\n",
       "    <tr>\n",
       "      <th>994</th>\n",
       "      <td>23088</td>\n",
       "      <td>14246</td>\n",
       "      <td>1</td>\n",
       "      <td>200</td>\n",
       "      <td>32.32</td>\n",
       "    </tr>\n",
       "    <tr>\n",
       "      <th>995</th>\n",
       "      <td>23088</td>\n",
       "      <td>14246</td>\n",
       "      <td>1</td>\n",
       "      <td>400</td>\n",
       "      <td>31.12</td>\n",
       "    </tr>\n",
       "    <tr>\n",
       "      <th>996</th>\n",
       "      <td>23088</td>\n",
       "      <td>14246</td>\n",
       "      <td>1</td>\n",
       "      <td>600</td>\n",
       "      <td>32.48</td>\n",
       "    </tr>\n",
       "    <tr>\n",
       "      <th>997</th>\n",
       "      <td>23088</td>\n",
       "      <td>14246</td>\n",
       "      <td>1</td>\n",
       "      <td>800</td>\n",
       "      <td>30.80</td>\n",
       "    </tr>\n",
       "    <tr>\n",
       "      <th>998</th>\n",
       "      <td>23088</td>\n",
       "      <td>14246</td>\n",
       "      <td>1</td>\n",
       "      <td>1000</td>\n",
       "      <td>31.28</td>\n",
       "    </tr>\n",
       "    <tr>\n",
       "      <th>999</th>\n",
       "      <td>23088</td>\n",
       "      <td>14246</td>\n",
       "      <td>1</td>\n",
       "      <td>1200</td>\n",
       "      <td>31.68</td>\n",
       "    </tr>\n",
       "    <tr>\n",
       "      <th>1000</th>\n",
       "      <td>23088</td>\n",
       "      <td>14246</td>\n",
       "      <td>1</td>\n",
       "      <td>1400</td>\n",
       "      <td>31.20</td>\n",
       "    </tr>\n",
       "    <tr>\n",
       "      <th>1001</th>\n",
       "      <td>23088</td>\n",
       "      <td>14246</td>\n",
       "      <td>1</td>\n",
       "      <td>1600</td>\n",
       "      <td>32.40</td>\n",
       "    </tr>\n",
       "    <tr>\n",
       "      <th>1002</th>\n",
       "      <td>23088</td>\n",
       "      <td>14246</td>\n",
       "      <td>1</td>\n",
       "      <td>1800</td>\n",
       "      <td>31.68</td>\n",
       "    </tr>\n",
       "    <tr>\n",
       "      <th>1003</th>\n",
       "      <td>23088</td>\n",
       "      <td>14246</td>\n",
       "      <td>1</td>\n",
       "      <td>2000</td>\n",
       "      <td>31.76</td>\n",
       "    </tr>\n",
       "    <tr>\n",
       "      <th>1004</th>\n",
       "      <td>23088</td>\n",
       "      <td>14246</td>\n",
       "      <td>2</td>\n",
       "      <td>100</td>\n",
       "      <td>20.56</td>\n",
       "    </tr>\n",
       "    <tr>\n",
       "      <th>1005</th>\n",
       "      <td>23088</td>\n",
       "      <td>14246</td>\n",
       "      <td>2</td>\n",
       "      <td>200</td>\n",
       "      <td>21.60</td>\n",
       "    </tr>\n",
       "    <tr>\n",
       "      <th>1006</th>\n",
       "      <td>23088</td>\n",
       "      <td>14246</td>\n",
       "      <td>2</td>\n",
       "      <td>300</td>\n",
       "      <td>21.92</td>\n",
       "    </tr>\n",
       "    <tr>\n",
       "      <th>1007</th>\n",
       "      <td>23088</td>\n",
       "      <td>14246</td>\n",
       "      <td>2</td>\n",
       "      <td>400</td>\n",
       "      <td>21.76</td>\n",
       "    </tr>\n",
       "  </tbody>\n",
       "</table>\n",
       "</div>"
      ],
      "text/plain": [
       "       Lote  Centrífuga  Centrifugada (1 o 2)  Volumen centrifugado (L)  \\\n",
       "994   23088       14246                     1                       200   \n",
       "995   23088       14246                     1                       400   \n",
       "996   23088       14246                     1                       600   \n",
       "997   23088       14246                     1                       800   \n",
       "998   23088       14246                     1                      1000   \n",
       "999   23088       14246                     1                      1200   \n",
       "1000  23088       14246                     1                      1400   \n",
       "1001  23088       14246                     1                      1600   \n",
       "1002  23088       14246                     1                      1800   \n",
       "1003  23088       14246                     1                      2000   \n",
       "1004  23088       14246                     2                       100   \n",
       "1005  23088       14246                     2                       200   \n",
       "1006  23088       14246                     2                       300   \n",
       "1007  23088       14246                     2                       400   \n",
       "\n",
       "      Turbidez  \n",
       "994      32.32  \n",
       "995      31.12  \n",
       "996      32.48  \n",
       "997      30.80  \n",
       "998      31.28  \n",
       "999      31.68  \n",
       "1000     31.20  \n",
       "1001     32.40  \n",
       "1002     31.68  \n",
       "1003     31.76  \n",
       "1004     20.56  \n",
       "1005     21.60  \n",
       "1006     21.92  \n",
       "1007     21.76  "
      ]
     },
     "execution_count": 48,
     "metadata": {},
     "output_type": "execute_result"
    }
   ],
   "source": [
    "df_ipc_centrifuga[df_ipc_centrifuga['Lote'] == lote_choice]"
   ]
  },
  {
   "cell_type": "code",
   "execution_count": 52,
   "metadata": {},
   "outputs": [
    {
     "data": {
      "text/html": [
       "<div>\n",
       "<style scoped>\n",
       "    .dataframe tbody tr th:only-of-type {\n",
       "        vertical-align: middle;\n",
       "    }\n",
       "\n",
       "    .dataframe tbody tr th {\n",
       "        vertical-align: top;\n",
       "    }\n",
       "\n",
       "    .dataframe thead th {\n",
       "        text-align: right;\n",
       "    }\n",
       "</style>\n",
       "<table border=\"1\" class=\"dataframe\">\n",
       "  <thead>\n",
       "    <tr style=\"text-align: right;\">\n",
       "      <th></th>\n",
       "      <th>14246_CTF0101.EN_Parcial</th>\n",
       "      <th>14246_CTF0101.EN_Total</th>\n",
       "      <th>14246_D01780551.PV</th>\n",
       "      <th>14246_D01906041.PV</th>\n",
       "      <th>14246_D01916047.PV</th>\n",
       "      <th>14246_D01916503.PV</th>\n",
       "      <th>14246_D01919022.PV</th>\n",
       "    </tr>\n",
       "    <tr>\n",
       "      <th>DateTime</th>\n",
       "      <th></th>\n",
       "      <th></th>\n",
       "      <th></th>\n",
       "      <th></th>\n",
       "      <th></th>\n",
       "      <th></th>\n",
       "      <th></th>\n",
       "    </tr>\n",
       "  </thead>\n",
       "  <tbody>\n",
       "    <tr>\n",
       "      <th>2023-05-26 14:00:00</th>\n",
       "      <td>0.0</td>\n",
       "      <td>0.0</td>\n",
       "      <td>27.377303</td>\n",
       "      <td>508.939415</td>\n",
       "      <td>3.228658</td>\n",
       "      <td>NaN</td>\n",
       "      <td>6679.213381</td>\n",
       "    </tr>\n",
       "    <tr>\n",
       "      <th>2023-05-26 14:15:00</th>\n",
       "      <td>0.0</td>\n",
       "      <td>0.0</td>\n",
       "      <td>26.506624</td>\n",
       "      <td>504.443654</td>\n",
       "      <td>3.176922</td>\n",
       "      <td>NaN</td>\n",
       "      <td>6678.545603</td>\n",
       "    </tr>\n",
       "    <tr>\n",
       "      <th>2023-05-26 14:30:00</th>\n",
       "      <td>0.0</td>\n",
       "      <td>0.0</td>\n",
       "      <td>27.124602</td>\n",
       "      <td>500.443737</td>\n",
       "      <td>3.252317</td>\n",
       "      <td>NaN</td>\n",
       "      <td>6679.013188</td>\n",
       "    </tr>\n",
       "    <tr>\n",
       "      <th>2023-05-26 14:45:00</th>\n",
       "      <td>0.0</td>\n",
       "      <td>0.0</td>\n",
       "      <td>26.306660</td>\n",
       "      <td>497.017829</td>\n",
       "      <td>3.130083</td>\n",
       "      <td>NaN</td>\n",
       "      <td>6679.182390</td>\n",
       "    </tr>\n",
       "    <tr>\n",
       "      <th>2023-05-26 15:00:00</th>\n",
       "      <td>0.0</td>\n",
       "      <td>0.0</td>\n",
       "      <td>27.201634</td>\n",
       "      <td>497.076719</td>\n",
       "      <td>3.201098</td>\n",
       "      <td>NaN</td>\n",
       "      <td>6677.497421</td>\n",
       "    </tr>\n",
       "    <tr>\n",
       "      <th>2023-05-26 15:15:00</th>\n",
       "      <td>0.0</td>\n",
       "      <td>0.0</td>\n",
       "      <td>27.641188</td>\n",
       "      <td>490.997559</td>\n",
       "      <td>3.193712</td>\n",
       "      <td>NaN</td>\n",
       "      <td>6676.607707</td>\n",
       "    </tr>\n",
       "  </tbody>\n",
       "</table>\n",
       "</div>"
      ],
      "text/plain": [
       "                     14246_CTF0101.EN_Parcial  14246_CTF0101.EN_Total  \\\n",
       "DateTime                                                                \n",
       "2023-05-26 14:00:00                       0.0                     0.0   \n",
       "2023-05-26 14:15:00                       0.0                     0.0   \n",
       "2023-05-26 14:30:00                       0.0                     0.0   \n",
       "2023-05-26 14:45:00                       0.0                     0.0   \n",
       "2023-05-26 15:00:00                       0.0                     0.0   \n",
       "2023-05-26 15:15:00                       0.0                     0.0   \n",
       "\n",
       "                     14246_D01780551.PV  14246_D01906041.PV  \\\n",
       "DateTime                                                      \n",
       "2023-05-26 14:00:00           27.377303          508.939415   \n",
       "2023-05-26 14:15:00           26.506624          504.443654   \n",
       "2023-05-26 14:30:00           27.124602          500.443737   \n",
       "2023-05-26 14:45:00           26.306660          497.017829   \n",
       "2023-05-26 15:00:00           27.201634          497.076719   \n",
       "2023-05-26 15:15:00           27.641188          490.997559   \n",
       "\n",
       "                     14246_D01916047.PV  14246_D01916503.PV  \\\n",
       "DateTime                                                      \n",
       "2023-05-26 14:00:00            3.228658                 NaN   \n",
       "2023-05-26 14:15:00            3.176922                 NaN   \n",
       "2023-05-26 14:30:00            3.252317                 NaN   \n",
       "2023-05-26 14:45:00            3.130083                 NaN   \n",
       "2023-05-26 15:00:00            3.201098                 NaN   \n",
       "2023-05-26 15:15:00            3.193712                 NaN   \n",
       "\n",
       "                     14246_D01919022.PV  \n",
       "DateTime                                 \n",
       "2023-05-26 14:00:00         6679.213381  \n",
       "2023-05-26 14:15:00         6678.545603  \n",
       "2023-05-26 14:30:00         6679.013188  \n",
       "2023-05-26 14:45:00         6679.182390  \n",
       "2023-05-26 15:00:00         6677.497421  \n",
       "2023-05-26 15:15:00         6676.607707  "
      ]
     },
     "execution_count": 52,
     "metadata": {},
     "output_type": "execute_result"
    }
   ],
   "source": [
    "df_centrifugadora_sample = df_centrifugadora[(df_centrifugadora.index >= ini) & (df_centrifugadora.index <= fin)]\n",
    "df_centrifugadora_sample"
   ]
  },
  {
   "cell_type": "code",
   "execution_count": 54,
   "metadata": {},
   "outputs": [
    {
     "data": {
      "text/html": [
       "<div>\n",
       "<style scoped>\n",
       "    .dataframe tbody tr th:only-of-type {\n",
       "        vertical-align: middle;\n",
       "    }\n",
       "\n",
       "    .dataframe tbody tr th {\n",
       "        vertical-align: top;\n",
       "    }\n",
       "\n",
       "    .dataframe thead th {\n",
       "        text-align: right;\n",
       "    }\n",
       "</style>\n",
       "<table border=\"1\" class=\"dataframe\">\n",
       "  <thead>\n",
       "    <tr style=\"text-align: right;\">\n",
       "      <th></th>\n",
       "      <th>14246_CTF0101.EN_Parcial</th>\n",
       "      <th>14246_CTF0101.EN_Total</th>\n",
       "      <th>14246_D01780551.PV</th>\n",
       "      <th>14246_D01906041.PV</th>\n",
       "      <th>14246_D01916047.PV</th>\n",
       "      <th>14246_D01916503.PV</th>\n",
       "      <th>14246_D01919022.PV</th>\n",
       "    </tr>\n",
       "  </thead>\n",
       "  <tbody>\n",
       "    <tr>\n",
       "      <th>count</th>\n",
       "      <td>6.0</td>\n",
       "      <td>6.0</td>\n",
       "      <td>6.000000</td>\n",
       "      <td>6.000000</td>\n",
       "      <td>6.000000</td>\n",
       "      <td>0.0</td>\n",
       "      <td>6.000000</td>\n",
       "    </tr>\n",
       "    <tr>\n",
       "      <th>mean</th>\n",
       "      <td>0.0</td>\n",
       "      <td>0.0</td>\n",
       "      <td>27.026335</td>\n",
       "      <td>499.819819</td>\n",
       "      <td>3.197132</td>\n",
       "      <td>NaN</td>\n",
       "      <td>6678.343282</td>\n",
       "    </tr>\n",
       "    <tr>\n",
       "      <th>std</th>\n",
       "      <td>0.0</td>\n",
       "      <td>0.0</td>\n",
       "      <td>0.515682</td>\n",
       "      <td>6.295144</td>\n",
       "      <td>0.042357</td>\n",
       "      <td>NaN</td>\n",
       "      <td>1.065700</td>\n",
       "    </tr>\n",
       "    <tr>\n",
       "      <th>min</th>\n",
       "      <td>0.0</td>\n",
       "      <td>0.0</td>\n",
       "      <td>26.306660</td>\n",
       "      <td>490.997559</td>\n",
       "      <td>3.130083</td>\n",
       "      <td>NaN</td>\n",
       "      <td>6676.607707</td>\n",
       "    </tr>\n",
       "    <tr>\n",
       "      <th>25%</th>\n",
       "      <td>0.0</td>\n",
       "      <td>0.0</td>\n",
       "      <td>26.661119</td>\n",
       "      <td>497.032551</td>\n",
       "      <td>3.181119</td>\n",
       "      <td>NaN</td>\n",
       "      <td>6677.759467</td>\n",
       "    </tr>\n",
       "    <tr>\n",
       "      <th>50%</th>\n",
       "      <td>0.0</td>\n",
       "      <td>0.0</td>\n",
       "      <td>27.163118</td>\n",
       "      <td>498.760228</td>\n",
       "      <td>3.197405</td>\n",
       "      <td>NaN</td>\n",
       "      <td>6678.779395</td>\n",
       "    </tr>\n",
       "    <tr>\n",
       "      <th>75%</th>\n",
       "      <td>0.0</td>\n",
       "      <td>0.0</td>\n",
       "      <td>27.333386</td>\n",
       "      <td>503.443675</td>\n",
       "      <td>3.221768</td>\n",
       "      <td>NaN</td>\n",
       "      <td>6679.140089</td>\n",
       "    </tr>\n",
       "    <tr>\n",
       "      <th>max</th>\n",
       "      <td>0.0</td>\n",
       "      <td>0.0</td>\n",
       "      <td>27.641188</td>\n",
       "      <td>508.939415</td>\n",
       "      <td>3.252317</td>\n",
       "      <td>NaN</td>\n",
       "      <td>6679.213381</td>\n",
       "    </tr>\n",
       "  </tbody>\n",
       "</table>\n",
       "</div>"
      ],
      "text/plain": [
       "       14246_CTF0101.EN_Parcial  14246_CTF0101.EN_Total  14246_D01780551.PV  \\\n",
       "count                       6.0                     6.0            6.000000   \n",
       "mean                        0.0                     0.0           27.026335   \n",
       "std                         0.0                     0.0            0.515682   \n",
       "min                         0.0                     0.0           26.306660   \n",
       "25%                         0.0                     0.0           26.661119   \n",
       "50%                         0.0                     0.0           27.163118   \n",
       "75%                         0.0                     0.0           27.333386   \n",
       "max                         0.0                     0.0           27.641188   \n",
       "\n",
       "       14246_D01906041.PV  14246_D01916047.PV  14246_D01916503.PV  \\\n",
       "count            6.000000            6.000000                 0.0   \n",
       "mean           499.819819            3.197132                 NaN   \n",
       "std              6.295144            0.042357                 NaN   \n",
       "min            490.997559            3.130083                 NaN   \n",
       "25%            497.032551            3.181119                 NaN   \n",
       "50%            498.760228            3.197405                 NaN   \n",
       "75%            503.443675            3.221768                 NaN   \n",
       "max            508.939415            3.252317                 NaN   \n",
       "\n",
       "       14246_D01919022.PV  \n",
       "count            6.000000  \n",
       "mean          6678.343282  \n",
       "std              1.065700  \n",
       "min           6676.607707  \n",
       "25%           6677.759467  \n",
       "50%           6678.779395  \n",
       "75%           6679.140089  \n",
       "max           6679.213381  "
      ]
     },
     "execution_count": 54,
     "metadata": {},
     "output_type": "execute_result"
    }
   ],
   "source": [
    "df_centrifugadora_sample.describe()"
   ]
  },
  {
   "cell_type": "markdown",
   "metadata": {},
   "source": [
    "En el período seleccionado vemos un comportamiento similar a las mediciones de los biorreactores:\n",
    "- Columnas con valores \"nulos\", aparte de la columna ya identificado con valores perdidos\n",
    "- Poca varianza en las mediciones, no hay presencia de valores dispares (misma suposición de mantener un entorno estable)"
   ]
  },
  {
   "cell_type": "markdown",
   "metadata": {},
   "source": [
    "##### Materiales y condiciones almacenes"
   ]
  },
  {
   "cell_type": "code",
   "execution_count": 60,
   "metadata": {},
   "outputs": [
    {
     "data": {
      "text/html": [
       "<div>\n",
       "<style scoped>\n",
       "    .dataframe tbody tr th:only-of-type {\n",
       "        vertical-align: middle;\n",
       "    }\n",
       "\n",
       "    .dataframe tbody tr th {\n",
       "        vertical-align: top;\n",
       "    }\n",
       "\n",
       "    .dataframe thead th {\n",
       "        text-align: right;\n",
       "    }\n",
       "</style>\n",
       "<table border=\"1\" class=\"dataframe\">\n",
       "  <thead>\n",
       "    <tr style=\"text-align: right;\">\n",
       "      <th></th>\n",
       "      <th>Lote</th>\n",
       "      <th>Material</th>\n",
       "      <th>Lote interno</th>\n",
       "      <th>Lote Proveedor</th>\n",
       "      <th>Qty</th>\n",
       "      <th>Fecha recepción</th>\n",
       "      <th>Fecha traslado</th>\n",
       "    </tr>\n",
       "  </thead>\n",
       "  <tbody>\n",
       "    <tr>\n",
       "      <th>0</th>\n",
       "      <td>23019</td>\n",
       "      <td>100001</td>\n",
       "      <td>737133</td>\n",
       "      <td>AM1798471</td>\n",
       "      <td>72.0</td>\n",
       "      <td>2023-01-12 00:00:00</td>\n",
       "      <td>2023-03-22 00:00:00</td>\n",
       "    </tr>\n",
       "    <tr>\n",
       "      <th>1</th>\n",
       "      <td>23019</td>\n",
       "      <td>100002</td>\n",
       "      <td>676155</td>\n",
       "      <td>K53821835</td>\n",
       "      <td>72.0</td>\n",
       "      <td>2022-03-07 00:00:00</td>\n",
       "      <td>2023-03-15 00:00:00</td>\n",
       "    </tr>\n",
       "    <tr>\n",
       "      <th>2</th>\n",
       "      <td>23019</td>\n",
       "      <td>100003</td>\n",
       "      <td>636590</td>\n",
       "      <td>0005065337</td>\n",
       "      <td>4800.0</td>\n",
       "      <td>2021-08-27 00:00:00</td>\n",
       "      <td>2023-03-13 00:00:00</td>\n",
       "    </tr>\n",
       "    <tr>\n",
       "      <th>3</th>\n",
       "      <td>23019</td>\n",
       "      <td>100004</td>\n",
       "      <td>655968</td>\n",
       "      <td>2414150</td>\n",
       "      <td>320.0</td>\n",
       "      <td>2021-11-25 00:00:00</td>\n",
       "      <td>2023-03-10 00:00:00</td>\n",
       "    </tr>\n",
       "    <tr>\n",
       "      <th>4</th>\n",
       "      <td>23019</td>\n",
       "      <td>100005</td>\n",
       "      <td>723171</td>\n",
       "      <td>M3889</td>\n",
       "      <td>96.0</td>\n",
       "      <td>2022-11-04 00:00:00</td>\n",
       "      <td>2023-03-03 00:00:00</td>\n",
       "    </tr>\n",
       "  </tbody>\n",
       "</table>\n",
       "</div>"
      ],
      "text/plain": [
       "    Lote  Material  Lote interno Lote Proveedor     Qty      Fecha recepción  \\\n",
       "0  23019    100001        737133      AM1798471    72.0  2023-01-12 00:00:00   \n",
       "1  23019    100002        676155      K53821835    72.0  2022-03-07 00:00:00   \n",
       "2  23019    100003        636590     0005065337  4800.0  2021-08-27 00:00:00   \n",
       "3  23019    100004        655968        2414150   320.0  2021-11-25 00:00:00   \n",
       "4  23019    100005        723171          M3889    96.0  2022-11-04 00:00:00   \n",
       "\n",
       "        Fecha traslado  \n",
       "0  2023-03-22 00:00:00  \n",
       "1  2023-03-15 00:00:00  \n",
       "2  2023-03-13 00:00:00  \n",
       "3  2023-03-10 00:00:00  \n",
       "4  2023-03-03 00:00:00  "
      ]
     },
     "execution_count": 60,
     "metadata": {},
     "output_type": "execute_result"
    }
   ],
   "source": [
    "df_componentes = pd.read_excel('raw_data/Movimientos componentes.xlsx', engine='openpyxl')\n",
    "df_componentes.head(5)"
   ]
  },
  {
   "cell_type": "code",
   "execution_count": 63,
   "metadata": {},
   "outputs": [
    {
     "data": {
      "text/html": [
       "<div>\n",
       "<style scoped>\n",
       "    .dataframe tbody tr th:only-of-type {\n",
       "        vertical-align: middle;\n",
       "    }\n",
       "\n",
       "    .dataframe tbody tr th {\n",
       "        vertical-align: top;\n",
       "    }\n",
       "\n",
       "    .dataframe thead th {\n",
       "        text-align: right;\n",
       "    }\n",
       "</style>\n",
       "<table border=\"1\" class=\"dataframe\">\n",
       "  <thead>\n",
       "    <tr style=\"text-align: right;\">\n",
       "      <th></th>\n",
       "      <th>06299_TI1302.PV</th>\n",
       "      <th>06299_MI1302.PV</th>\n",
       "      <th>06299_TI1402.PV</th>\n",
       "      <th>06299_MI1402.PV</th>\n",
       "      <th>07633_TI0601.PV</th>\n",
       "      <th>07633_HI0101.PV</th>\n",
       "      <th>07781_TI1501.PV</th>\n",
       "      <th>07781_MI1501.PV</th>\n",
       "    </tr>\n",
       "    <tr>\n",
       "      <th>DateTime</th>\n",
       "      <th></th>\n",
       "      <th></th>\n",
       "      <th></th>\n",
       "      <th></th>\n",
       "      <th></th>\n",
       "      <th></th>\n",
       "      <th></th>\n",
       "      <th></th>\n",
       "    </tr>\n",
       "  </thead>\n",
       "  <tbody>\n",
       "    <tr>\n",
       "      <th>2023-03-15 00:00:00</th>\n",
       "      <td>23.931585</td>\n",
       "      <td>34.801435</td>\n",
       "      <td>22.854169</td>\n",
       "      <td>35.223422</td>\n",
       "      <td>18.901909</td>\n",
       "      <td>35.290073</td>\n",
       "      <td>20.247395</td>\n",
       "      <td>48.842590</td>\n",
       "    </tr>\n",
       "    <tr>\n",
       "      <th>2023-03-15 01:00:00</th>\n",
       "      <td>23.747978</td>\n",
       "      <td>34.404315</td>\n",
       "      <td>21.562853</td>\n",
       "      <td>36.619001</td>\n",
       "      <td>18.786171</td>\n",
       "      <td>35.456451</td>\n",
       "      <td>20.247395</td>\n",
       "      <td>48.712383</td>\n",
       "    </tr>\n",
       "    <tr>\n",
       "      <th>2023-03-15 02:00:00</th>\n",
       "      <td>23.615734</td>\n",
       "      <td>33.789356</td>\n",
       "      <td>22.580972</td>\n",
       "      <td>33.759999</td>\n",
       "      <td>18.453837</td>\n",
       "      <td>35.040508</td>\n",
       "      <td>20.133463</td>\n",
       "      <td>48.571323</td>\n",
       "    </tr>\n",
       "    <tr>\n",
       "      <th>2023-03-15 03:00:00</th>\n",
       "      <td>19.906570</td>\n",
       "      <td>38.749275</td>\n",
       "      <td>19.631797</td>\n",
       "      <td>38.061402</td>\n",
       "      <td>18.422140</td>\n",
       "      <td>33.698639</td>\n",
       "      <td>20.133463</td>\n",
       "      <td>48.296440</td>\n",
       "    </tr>\n",
       "    <tr>\n",
       "      <th>2023-03-15 04:00:00</th>\n",
       "      <td>19.037770</td>\n",
       "      <td>39.895817</td>\n",
       "      <td>19.551820</td>\n",
       "      <td>37.560487</td>\n",
       "      <td>18.726911</td>\n",
       "      <td>32.628036</td>\n",
       "      <td>19.997829</td>\n",
       "      <td>48.166233</td>\n",
       "    </tr>\n",
       "  </tbody>\n",
       "</table>\n",
       "</div>"
      ],
      "text/plain": [
       "                     06299_TI1302.PV  06299_MI1302.PV  06299_TI1402.PV  \\\n",
       "DateTime                                                                 \n",
       "2023-03-15 00:00:00        23.931585        34.801435        22.854169   \n",
       "2023-03-15 01:00:00        23.747978        34.404315        21.562853   \n",
       "2023-03-15 02:00:00        23.615734        33.789356        22.580972   \n",
       "2023-03-15 03:00:00        19.906570        38.749275        19.631797   \n",
       "2023-03-15 04:00:00        19.037770        39.895817        19.551820   \n",
       "\n",
       "                     06299_MI1402.PV  07633_TI0601.PV  07633_HI0101.PV  \\\n",
       "DateTime                                                                 \n",
       "2023-03-15 00:00:00        35.223422        18.901909        35.290073   \n",
       "2023-03-15 01:00:00        36.619001        18.786171        35.456451   \n",
       "2023-03-15 02:00:00        33.759999        18.453837        35.040508   \n",
       "2023-03-15 03:00:00        38.061402        18.422140        33.698639   \n",
       "2023-03-15 04:00:00        37.560487        18.726911        32.628036   \n",
       "\n",
       "                     07781_TI1501.PV  07781_MI1501.PV  \n",
       "DateTime                                               \n",
       "2023-03-15 00:00:00        20.247395        48.842590  \n",
       "2023-03-15 01:00:00        20.247395        48.712383  \n",
       "2023-03-15 02:00:00        20.133463        48.571323  \n",
       "2023-03-15 03:00:00        20.133463        48.296440  \n",
       "2023-03-15 04:00:00        19.997829        48.166233  "
      ]
     },
     "execution_count": 63,
     "metadata": {},
     "output_type": "execute_result"
    }
   ],
   "source": [
    "df_temp_hum = pd.read_excel('raw_data/Temperaturas y humedades.xlsx', parse_dates=True, index_col='DateTime', sheet_name='Datos', engine='openpyxl')\n",
    "df_temp_hum.head(5)"
   ]
  }
 ],
 "metadata": {
  "kernelspec": {
   "display_name": ".venv",
   "language": "python",
   "name": "python3"
  },
  "language_info": {
   "codemirror_mode": {
    "name": "ipython",
    "version": 3
   },
   "file_extension": ".py",
   "mimetype": "text/x-python",
   "name": "python",
   "nbconvert_exporter": "python",
   "pygments_lexer": "ipython3",
   "version": "3.12.3"
  }
 },
 "nbformat": 4,
 "nbformat_minor": 2
}
